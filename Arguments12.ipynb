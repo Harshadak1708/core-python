{
 "cells": [
  {
   "cell_type": "code",
   "execution_count": null,
   "id": "1965b623-6665-45d5-93ae-4d78a0d1be06",
   "metadata": {},
   "outputs": [],
   "source": [
    "# Argument in function, Lambda and higher order function\n",
    "# arguments are the values passed inside the paranthesis of the function. a function can have any number of arguments \n",
    "# seprated by comma.\n",
    "\n",
    "# Types of arguments python supports various types of arguments that can be passed at the time of the function call. lets discuss each type in detail.\n",
    "# default arguments: a parameter that assumes a default value if a value is not provided in the function call for that argument\n",
    "# keyword argument: the idea is to allow the caller to specify the argument name with values so that caller does not need to remember the order of \n",
    "# parameters\n",
    "# variable-length arguments: we can pass a variable number of arguments to a function using special symbols\n",
    "# there are two special symbols:\n",
    "# *arg(non keyword argument)\n",
    "# **kwargs(keyword argument)\n",
    "                                                                                                      "
   ]
  },
  {
   "cell_type": "code",
   "execution_count": 1,
   "id": "f4e15a4d-9ef8-47ab-888d-8517da2e00c6",
   "metadata": {},
   "outputs": [
    {
     "name": "stdout",
     "output_type": "stream",
     "text": [
      "Hello Guest\n",
      "Hello Ravi\n"
     ]
    }
   ],
   "source": [
    "# Default Arguments\n",
    "\n",
    "def greet(name = \"Guest\"):\n",
    "    print(\"Hello\", name)\n",
    "\n",
    "greet()        # output: Hello Guest if no argument given\n",
    "greet(\"Ravi\")  # output: Hello Ravi"
   ]
  },
  {
   "cell_type": "code",
   "execution_count": 45,
   "id": "ea5636e5-2fc5-4f32-a79a-86c7e7cc62b4",
   "metadata": {},
   "outputs": [
    {
     "ename": "SyntaxError",
     "evalue": "invalid syntax (2932044079.py, line 3)",
     "output_type": "error",
     "traceback": [
      "\u001b[1;36m  Cell \u001b[1;32mIn[45], line 3\u001b[1;36m\u001b[0m\n\u001b[1;33m    def myFun(x, 20): # (y = 20):\u001b[0m\n\u001b[1;37m                 ^\u001b[0m\n\u001b[1;31mSyntaxError\u001b[0m\u001b[1;31m:\u001b[0m invalid syntax\n"
     ]
    }
   ],
   "source": [
    "# python program to demonstrate\n",
    "# default arguments\n",
    "def myFun(x, y): # (y = 20):\n",
    "    print(\"x: \", x)\n",
    "    print(\"y: \", y)\n",
    "\n",
    "# driver code(we call myFun() with only\n",
    "# argument\n",
    "myFun()\n",
    "myFun(10, 20)"
   ]
  },
  {
   "cell_type": "code",
   "execution_count": null,
   "id": "65b8b6fe-6abe-4f60-b6bc-3fbf3ccbf1a5",
   "metadata": {},
   "outputs": [],
   "source": [
    "# keyword argument is a argument passed to a function or method which is preceded by a keyword and equal to sign (=).\n",
    "# the order of keyword argument with respect to another keyword argument does not matter bacuase the values are being explicitly assigned."
   ]
  },
  {
   "cell_type": "code",
   "execution_count": 13,
   "id": "4a7222d6-db79-4b40-b781-bbbba84599d0",
   "metadata": {},
   "outputs": [
    {
     "name": "stdout",
     "output_type": "stream",
     "text": [
      "Ravi kishan\n",
      "banerjee anmol\n"
     ]
    }
   ],
   "source": [
    "# Keyword argument\n",
    "# python program to demonstrate keyword arguments\n",
    "def student(firstname, lastname):\n",
    "    print(firstname, lastname)\n",
    "\n",
    "# keyword argument\n",
    "student(firstname = 'Ravi', lastname = 'kishan')\n",
    "student(lastname = 'anmol', firstname ='banerjee')\n",
    "    "
   ]
  },
  {
   "cell_type": "code",
   "execution_count": null,
   "id": "3550edc5-76a8-4b34-926b-9cc4f23494ab",
   "metadata": {},
   "outputs": [],
   "source": [
    "# *args in function definations is used to pass a variable number of arguments to a function."
   ]
  },
  {
   "cell_type": "code",
   "execution_count": 23,
   "id": "0ba190eb-2d7c-42ad-b311-e49a8ce36597",
   "metadata": {},
   "outputs": [
    {
     "name": "stdout",
     "output_type": "stream",
     "text": [
      "Marks: (85, 90, 78, 90, 100)\n"
     ]
    },
    {
     "data": {
      "text/plain": [
       "443"
      ]
     },
     "execution_count": 23,
     "metadata": {},
     "output_type": "execute_result"
    }
   ],
   "source": [
    "# *args --- collects all positional arguments as a tuple\n",
    "\n",
    "def print_marks(*args):\n",
    "    print(\"Marks:\", args)\n",
    "    return sum(args)\n",
    "\n",
    "print_marks(85, 90, 78, 90, 100)"
   ]
  },
  {
   "cell_type": "code",
   "execution_count": 25,
   "id": "cc4dcb5a-431f-41ae-b65f-cf848402a102",
   "metadata": {},
   "outputs": [
    {
     "name": "stdout",
     "output_type": "stream",
     "text": [
      "Hello\n",
      "Welcome\n",
      "to\n",
      "Cloudblitz\n"
     ]
    }
   ],
   "source": [
    "# python program to illustrate\n",
    "# *args for variable number of arguments\n",
    "def myFun(*argv):\n",
    "    for arg in argv:\n",
    "        print(arg)\n",
    "\n",
    "myFun('Hello', 'Welcome', 'to', 'Cloudblitz')"
   ]
  },
  {
   "cell_type": "code",
   "execution_count": null,
   "id": "3ee65fd4-b5c2-4109-96b8-297452cfd445",
   "metadata": {},
   "outputs": [],
   "source": [
    "# a keyword argument is where you provide a name to the variable as you pass it into the function\n",
    "# it collects all the additional keyword arguments passed to the function and stores them in a dictionary.\n"
   ]
  },
  {
   "cell_type": "code",
   "execution_count": 35,
   "id": "8ca950bf-758e-4156-91e3-62fe18d70a88",
   "metadata": {},
   "outputs": [
    {
     "name": "stdout",
     "output_type": "stream",
     "text": [
      "student info {'name': 'anu', 'age': '20', 'course': 'math'}\n"
     ]
    }
   ],
   "source": [
    "# *kwargs --- collects all named arguments as a dictionary\n",
    "\n",
    "def print_student_info(**kwargs):\n",
    "    print(\"student info\", kwargs)\n",
    "\n",
    "print_student_info(name = \"anu\", age = \"20\", course = \"math\")\n"
   ]
  },
  {
   "cell_type": "code",
   "execution_count": 33,
   "id": "a87ec31d-7c08-4441-816f-30d89fe3d936",
   "metadata": {},
   "outputs": [
    {
     "name": "stdout",
     "output_type": "stream",
     "text": [
      "first == Geeks\n",
      "mid == for\n",
      "last == Geeks\n"
     ]
    }
   ],
   "source": [
    "# python program to illustrate\n",
    "# kwargs for variable number of keyword arguments\n",
    "\n",
    "\n",
    "def myFun(**kwargs):\n",
    "    for key, value in kwargs.items():\n",
    "        print(\"%s == %s\" % (key, value))\n",
    "\n",
    "# driver code\n",
    "myFun(first = 'Geeks', mid = 'for', last = 'Geeks')"
   ]
  },
  {
   "cell_type": "code",
   "execution_count": null,
   "id": "93b8ef87-04eb-4088-8682-52637e252d5f",
   "metadata": {},
   "outputs": [],
   "source": [
    "# Anonymous function --- Lambda\n",
    "# in python, an anonymous function that is defined without a name. while normal functions are defined using the def keyword\n",
    "# in python\n",
    "# syntax:\n",
    "# lambda argument: expression\n",
    "# arguments: input variables(like in regular function)\n",
    "# expression: the operation of return value(it must be a single expression)\n",
    "\n",
    "# lambda functions can have any number of arguments but only one expression. the expression is evaluated and returned."
   ]
  },
  {
   "cell_type": "code",
   "execution_count": 47,
   "id": "86a92f44-884e-4362-a559-a47ecfa9e317",
   "metadata": {},
   "outputs": [
    {
     "name": "stdout",
     "output_type": "stream",
     "text": [
      "25\n"
     ]
    }
   ],
   "source": [
    "square = lambda x: x*x\n",
    "print(square(5))"
   ]
  },
  {
   "cell_type": "code",
   "execution_count": 49,
   "id": "a00a2d82-0f80-4478-bc9c-bf697ce63dd9",
   "metadata": {},
   "outputs": [
    {
     "name": "stdout",
     "output_type": "stream",
     "text": [
      "7\n"
     ]
    }
   ],
   "source": [
    "add = lambda a,b: a + b\n",
    "print(add(3, 4))"
   ]
  },
  {
   "cell_type": "code",
   "execution_count": 51,
   "id": "da88ce50-44b1-4fa8-a290-efcf34a95774",
   "metadata": {},
   "outputs": [
    {
     "name": "stdout",
     "output_type": "stream",
     "text": [
      "343\n"
     ]
    }
   ],
   "source": [
    "# python code to illustrate the cube of a number\n",
    "# using lambda function\n",
    "\n",
    "cube_v2 = lambda x : x*x*x\n",
    "print(cube_v2(7))"
   ]
  },
  {
   "cell_type": "code",
   "execution_count": null,
   "id": "bd898ec4-1f21-4375-a2a8-3e80a81098c9",
   "metadata": {},
   "outputs": [],
   "source": [
    "# Higher Order Function\n",
    "# Functions that can accept other functions as arguments are called higher-order functions.\n",
    "\n",
    "# Its types are:\n",
    "\n",
    "# Map\n",
    "# Filter\n",
    "# Sorted\n",
    "# Reduce"
   ]
  },
  {
   "cell_type": "code",
   "execution_count": 1,
   "id": "a649c5b6-7901-43b3-8ff2-56435de358a7",
   "metadata": {},
   "outputs": [
    {
     "name": "stdout",
     "output_type": "stream",
     "text": [
      "Hello, Alice!\n"
     ]
    }
   ],
   "source": [
    "def greet(name):\n",
    "    return f\"Hello, {name}!\"\n",
    "\n",
    "def process_name(func, name):\n",
    "    return func(name)\n",
    "\n",
    "# Calling higher-order function\n",
    "print(process_name(greet, \"Alice\"))"
   ]
  },
  {
   "cell_type": "code",
   "execution_count": null,
   "id": "df99777f-b101-4611-bd67-f73cefa68ba7",
   "metadata": {},
   "outputs": [],
   "source": [
    "# Map ---- map(func, iterable)\n",
    "# The map() function is a built-in higher-order function in Python that applies a given function to each item in an iterable (like a list, tuple, etc.).\n",
    "\n",
    "# It executes the function_object for each element in the sequence and returns a list of the elements modified by the function object.\n",
    "\n",
    "# Basic Syntax map(function_object, iterable1, iterable2,...)\n",
    "# map() helps you avoid loops."
   ]
  },
  {
   "cell_type": "code",
   "execution_count": 3,
   "id": "2fd0cdf3-8592-4029-b8bd-eaca1caeeb1a",
   "metadata": {},
   "outputs": [
    {
     "name": "stdout",
     "output_type": "stream",
     "text": [
      "[1, 4, 9, 16]\n"
     ]
    }
   ],
   "source": [
    "numbers = [1, 2, 3, 4]\n",
    "squared = list(map(lambda x: x**2, numbers))  #lambda x: x**2 is applied to each element in numbers.\n",
    "print(squared)"
   ]
  },
  {
   "cell_type": "code",
   "execution_count": 5,
   "id": "783744a0-b69d-4ad4-92bf-0b4fce2ea80a",
   "metadata": {},
   "outputs": [
    {
     "name": "stdout",
     "output_type": "stream",
     "text": [
      "[5, 7, 9]\n"
     ]
    }
   ],
   "source": [
    "a = [1, 2, 3]\n",
    "b = [4, 5, 6]\n",
    "\n",
    "result = map(lambda x, y: x + y, a, b)\n",
    "print(list(result))  # Output: [5, 7, 9]"
   ]
  },
  {
   "cell_type": "code",
   "execution_count": null,
   "id": "5d7600c5-7c62-41d0-b573-c74d9376b962",
   "metadata": {},
   "outputs": [],
   "source": [
    "# Filter ()--- Basic Syntax --- filter(function, iterable)\n",
    "# The filter function expects two arguments: function and an iterable.\n",
    "\n",
    "# function returns a boolean value and is called for each element of the iterable. filter returns only those elements for which the function \n",
    "# returns True.\n",
    "\n",
    "# Like the map function, the filter function also returns a list of elements. Unlike map, the filter function can only have one iterable as input.\n",
    "\n",
    "# filter() removes unwanted elements based on a condition."
   ]
  },
  {
   "cell_type": "code",
   "execution_count": 7,
   "id": "2b190c2b-54b7-4d29-adde-c4541822b351",
   "metadata": {},
   "outputs": [
    {
     "name": "stdout",
     "output_type": "stream",
     "text": [
      "[2, 4, 6]\n"
     ]
    }
   ],
   "source": [
    "numbers = [1, 2, 3, 4, 5, 6]\n",
    "\n",
    "even_numbers = filter(lambda x: x % 2 == 0, numbers)\n",
    "print(list(even_numbers))  # Output: [2, 4, 6]"
   ]
  },
  {
   "cell_type": "code",
   "execution_count": 9,
   "id": "3ec271b3-28f7-4372-8701-967cd57109ee",
   "metadata": {},
   "outputs": [
    {
     "name": "stdout",
     "output_type": "stream",
     "text": [
      "[2, 4]\n"
     ]
    }
   ],
   "source": [
    "def is_positive(x):\n",
    "    return x > 0\n",
    "\n",
    "data = [-3, -1, 0, 2, 4]\n",
    "result = filter(is_positive, data)\n",
    "print(list(result))  # Output: [2, 4]"
   ]
  },
  {
   "cell_type": "code",
   "execution_count": null,
   "id": "9fc2e79d-d2a1-475b-b167-c49d4b26b275",
   "metadata": {},
   "outputs": [],
   "source": [
    "# Sorted ()\n",
    "# A higher-order function that sorts elements based on a provided key function, allowing custom sorting logic."
   ]
  },
  {
   "cell_type": "code",
   "execution_count": 11,
   "id": "0eebd78a-19e9-4e78-b176-6f8424aceb91",
   "metadata": {},
   "outputs": [
    {
     "name": "stdout",
     "output_type": "stream",
     "text": [
      "['java', 'python', 'javascript']\n"
     ]
    }
   ],
   "source": [
    "# sorting words based on length\n",
    "a = [\"python\", \"java\", \"javascript\"]\n",
    "\n",
    "res = sorted(a, key=len) #reverse = True)\n",
    "print(res)\n",
    "\n",
    "\n",
    "#sorted(iterable, key=func) sorts based on func applied to each element and key=len sorts the strings by length."
   ]
  },
  {
   "cell_type": "code",
   "execution_count": 13,
   "id": "96142516-e002-4881-8ea6-0adc970aa420",
   "metadata": {},
   "outputs": [
    {
     "name": "stdout",
     "output_type": "stream",
     "text": [
      "[('Charlie', 70), ('Alice', 85), ('Bob', 95)]\n"
     ]
    }
   ],
   "source": [
    "students = [(\"Alice\", 85), (\"Bob\", 95), (\"Charlie\", 70)]  # each item is a tuple\n",
    "\n",
    "# Sort by marks (2nd item)\n",
    "sorted_students = sorted(students, key=lambda x: x[1])   # here lamda takes an argument x and returns x[1] ie 'marks' then sort it according to marks and names\n",
    "print(sorted_students)  # Output: [('Charlie', 70), ('Alice', 85), ('Bob', 95)]"
   ]
  },
  {
   "cell_type": "code",
   "execution_count": null,
   "id": "37533228-2186-4afb-bd3e-03c4f2316d2f",
   "metadata": {},
   "outputs": [],
   "source": [
    "# reduce()\n",
    "# It is a higher-order function used to apply a function cumulatively to the items of an iterable, reducing it to a single value.\n",
    "\n",
    "# Syntax:\n",
    "# from functools import reduce\n",
    "\n",
    "# reduce(function, iterable)\n",
    "\n",
    "# function: Takes two arguments — it combines them into one.\n",
    "\n",
    "# iterable: The list (or similar) of elements to reduce."
   ]
  },
  {
   "cell_type": "code",
   "execution_count": 15,
   "id": "5639f85b-14ae-488a-8d30-bfc8eaeeaa12",
   "metadata": {},
   "outputs": [
    {
     "name": "stdout",
     "output_type": "stream",
     "text": [
      "15\n"
     ]
    }
   ],
   "source": [
    "from functools import reduce\n",
    "\n",
    "numbers = [1, 2, 3, 4, 5]\n",
    "\n",
    "result = reduce(lambda x, y: x + y, numbers)\n",
    "\n",
    "print(result)  # Output: 15"
   ]
  },
  {
   "cell_type": "code",
   "execution_count": 17,
   "id": "86d5804f-304e-465e-af83-945e748af714",
   "metadata": {},
   "outputs": [
    {
     "name": "stdout",
     "output_type": "stream",
     "text": [
      "24\n"
     ]
    }
   ],
   "source": [
    "from functools import reduce\n",
    "\n",
    "nums = [2, 3, 4]\n",
    "product = reduce(lambda x, y: x * y, nums)\n",
    "print(product)  # Output: 24"
   ]
  },
  {
   "cell_type": "code",
   "execution_count": null,
   "id": "0bee4491-d8a7-4ddb-a16e-aa7ab83efe6e",
   "metadata": {},
   "outputs": [],
   "source": []
  }
 ],
 "metadata": {
  "kernelspec": {
   "display_name": "Python [conda env:base] *",
   "language": "python",
   "name": "conda-base-py"
  },
  "language_info": {
   "codemirror_mode": {
    "name": "ipython",
    "version": 3
   },
   "file_extension": ".py",
   "mimetype": "text/x-python",
   "name": "python",
   "nbconvert_exporter": "python",
   "pygments_lexer": "ipython3",
   "version": "3.12.7"
  }
 },
 "nbformat": 4,
 "nbformat_minor": 5
}
