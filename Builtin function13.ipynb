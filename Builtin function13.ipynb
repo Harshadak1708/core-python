{
 "cells": [
  {
   "cell_type": "code",
   "execution_count": null,
   "id": "d8df6136-344d-4aca-b732-590bf10cdc86",
   "metadata": {},
   "outputs": [],
   "source": [
    "# Builtin functions, date time and modules\n",
    "# https://docs.python.org/3/library/datetime.html "
   ]
  },
  {
   "cell_type": "code",
   "execution_count": 9,
   "id": "f5545e6d-0542-49ec-8ce2-d29713d32a49",
   "metadata": {},
   "outputs": [],
   "source": [
    "# date time = python date time module comes built into python, so there is no need to install it externally\n"
   ]
  },
  {
   "cell_type": "code",
   "execution_count": 7,
   "id": "c4d55e21-07dc-4198-bf48-07249413b9aa",
   "metadata": {},
   "outputs": [
    {
     "data": {
      "text/plain": [
       "datetime.date(2025, 5, 5)"
      ]
     },
     "execution_count": 7,
     "metadata": {},
     "output_type": "execute_result"
    }
   ],
   "source": [
    "from datetime import date, time\n",
    "\n",
    "# want to print today's date, month and year\n",
    "today = date.today()\n",
    "today\n",
    "# print today()"
   ]
  },
  {
   "cell_type": "code",
   "execution_count": 3,
   "id": "e10a2b5d-852c-44a1-bda7-f6a1679b467e",
   "metadata": {},
   "outputs": [
    {
     "data": {
      "text/plain": [
       "5"
      ]
     },
     "execution_count": 3,
     "metadata": {},
     "output_type": "execute_result"
    }
   ],
   "source": [
    "# want to print day of today\n",
    "day = today.day\n",
    "day"
   ]
  },
  {
   "cell_type": "code",
   "execution_count": 15,
   "id": "1c6c6b10-4461-4961-ab08-7abba112312e",
   "metadata": {},
   "outputs": [
    {
     "name": "stdout",
     "output_type": "stream",
     "text": [
      "5\n"
     ]
    }
   ],
   "source": [
    "# want to print month\n",
    "month = today.month\n",
    "print(month)"
   ]
  },
  {
   "cell_type": "code",
   "execution_count": 13,
   "id": "7cb98708-3b4f-4446-9e6e-43ef21edd5c6",
   "metadata": {},
   "outputs": [
    {
     "name": "stdout",
     "output_type": "stream",
     "text": [
      "2025\n"
     ]
    }
   ],
   "source": [
    "# want to print year\n",
    "year = today.year\n",
    "print(year)"
   ]
  },
  {
   "cell_type": "code",
   "execution_count": 17,
   "id": "7b4281d6-23e9-4a9e-9e2f-92f1c29c804c",
   "metadata": {},
   "outputs": [
    {
     "name": "stdout",
     "output_type": "stream",
     "text": [
      "current date and time: 2025-05-05 11:09:19.312627\n",
      "date only: 2025-05-05\n",
      "time only: 11:09:19.312627\n"
     ]
    }
   ],
   "source": [
    "from datetime import datetime\n",
    "\n",
    "now = datetime.now()\n",
    "print(\"current date and time:\", now)\n",
    "print(\"date only:\", now.date())\n",
    "print(\"time only:\", now.time())"
   ]
  },
  {
   "cell_type": "code",
   "execution_count": 21,
   "id": "568f8034-6ead-4b7a-b61b-b26f4d793beb",
   "metadata": {},
   "outputs": [
    {
     "name": "stdout",
     "output_type": "stream",
     "text": [
      "Monday 05 May 2025\n"
     ]
    }
   ],
   "source": [
    "# what if want to print january and monday\n",
    "print(today.strftime(\"%A %d %B %Y\"))"
   ]
  },
  {
   "cell_type": "code",
   "execution_count": 23,
   "id": "23f442b3-06a4-49f4-88fa-a0ba02766799",
   "metadata": {},
   "outputs": [
    {
     "name": "stdout",
     "output_type": "stream",
     "text": [
      "Monday 05th May 2025\n"
     ]
    }
   ],
   "source": [
    "print(today.strftime(\"%A %dth %B %Y\"))"
   ]
  },
  {
   "cell_type": "code",
   "execution_count": 29,
   "id": "ddc4048d-77c6-4dbd-952e-70944712c752",
   "metadata": {},
   "outputs": [
    {
     "name": "stdout",
     "output_type": "stream",
     "text": [
      "Mon 05 May 25\n"
     ]
    }
   ],
   "source": [
    "# try it with lowercase and see the changes\n",
    "print(today.strftime(\"%a %d %b %y\")) # --- abbreviated form"
   ]
  },
  {
   "cell_type": "code",
   "execution_count": 31,
   "id": "9958c3bd-9555-4693-a6fa-9ecffb64d092",
   "metadata": {},
   "outputs": [
    {
     "name": "stdout",
     "output_type": "stream",
     "text": [
      "2026-05-05\n"
     ]
    }
   ],
   "source": [
    "# want to know the next year\n",
    "next_year = today.replace(year = today.year + 1)\n",
    "print(next_year)"
   ]
  },
  {
   "cell_type": "code",
   "execution_count": 33,
   "id": "a0ee91a9-417c-4d73-8788-2db95d71d2e6",
   "metadata": {},
   "outputs": [
    {
     "name": "stdout",
     "output_type": "stream",
     "text": [
      "2026-06-05\n"
     ]
    }
   ],
   "source": [
    "# want to know the next year as well as next month\n",
    "next_year = today.replace(year = today.year + 1, month = today.month + 1)\n",
    "print(next_year)"
   ]
  },
  {
   "cell_type": "code",
   "execution_count": 39,
   "id": "fbf55955-916f-4601-8fba-d8b09da20666",
   "metadata": {},
   "outputs": [
    {
     "name": "stdout",
     "output_type": "stream",
     "text": [
      "Only 396 days untill next year!!\n"
     ]
    }
   ],
   "source": [
    "# some calculations difference from today\n",
    "\n",
    "diff = abs(next_year - today)\n",
    "print(f'Only {diff.days} days untill next year!!')"
   ]
  },
  {
   "cell_type": "code",
   "execution_count": 41,
   "id": "46eb165b-1e48-49aa-913b-d5ce63f0766d",
   "metadata": {},
   "outputs": [
    {
     "data": {
      "text/plain": [
       "3"
      ]
     },
     "execution_count": 41,
     "metadata": {},
     "output_type": "execute_result"
    }
   ],
   "source": [
    "apjabdulkalamji = date(1931,10,15)\n",
    "apjabdulkalamji\n",
    "\n",
    "# which day of the week it was?\n",
    "apjabdulkalamji.weekday()    # 0 - sunday, 1 - monday......"
   ]
  },
  {
   "cell_type": "code",
   "execution_count": 43,
   "id": "d6d10584-de1f-4d09-a732-1681af25827d",
   "metadata": {},
   "outputs": [
    {
     "name": "stdout",
     "output_type": "stream",
     "text": [
      "tomorrow: 2025-05-06 11:09:19.312627\n",
      "yesterday: 2025-05-04 11:09:19.312627\n"
     ]
    }
   ],
   "source": [
    "from datetime import timedelta \n",
    "# a duration expressing the difference between two datetime or date instances to microsecond record\n",
    "\n",
    "tomorrow = now + timedelta(days = 1)\n",
    "yesterday = now - timedelta(days = 1)\n",
    "print(\"tomorrow:\", tomorrow)\n",
    "print(\"yesterday:\", yesterday)"
   ]
  },
  {
   "cell_type": "code",
   "execution_count": 47,
   "id": "6743aeea-907f-4b77-b859-7dedb163169e",
   "metadata": {},
   "outputs": [],
   "source": [
    "# Module"
   ]
  },
  {
   "cell_type": "code",
   "execution_count": 1,
   "id": "e0fad9de-b992-403a-a4cf-23cd5cc436b2",
   "metadata": {},
   "outputs": [],
   "source": [
    "from module_example import fruit"
   ]
  },
  {
   "cell_type": "code",
   "execution_count": 3,
   "id": "fb378024-e728-45d1-b180-0bfea35d98f4",
   "metadata": {},
   "outputs": [
    {
     "data": {
      "text/plain": [
       "('apple', 'banana')"
      ]
     },
     "execution_count": 3,
     "metadata": {},
     "output_type": "execute_result"
    }
   ],
   "source": [
    "fruit"
   ]
  },
  {
   "cell_type": "code",
   "execution_count": null,
   "id": "ad75de56-a71c-4963-9594-6dda66fda8a4",
   "metadata": {},
   "outputs": [],
   "source": [
    "# homework\n",
    "#oops concept: class,instance,objects,self, polymorphysm"
   ]
  }
 ],
 "metadata": {
  "kernelspec": {
   "display_name": "Python [conda env:base] *",
   "language": "python",
   "name": "conda-base-py"
  },
  "language_info": {
   "codemirror_mode": {
    "name": "ipython",
    "version": 3
   },
   "file_extension": ".py",
   "mimetype": "text/x-python",
   "name": "python",
   "nbconvert_exporter": "python",
   "pygments_lexer": "ipython3",
   "version": "3.12.7"
  }
 },
 "nbformat": 4,
 "nbformat_minor": 5
}
