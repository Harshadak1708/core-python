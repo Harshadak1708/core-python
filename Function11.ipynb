{
 "cells": [
  {
   "cell_type": "code",
   "execution_count": null,
   "id": "0c775094-f67d-4a16-95bf-91bcb188463e",
   "metadata": {},
   "outputs": [],
   "source": [
    "# Python Function\n",
    "# Types of Functions in Python: Below are the different types of functions in Python:\n",
    "\n",
    "# Built-in library function: These are Standard functions in Python that are available to use.\n",
    "# User-defined function: We can create our own functions based on our requirements.\n",
    "# Recursive Function\n",
    "# User Define Function\n",
    "# A user-defined function in Python is a function created by the user to perform a specific task.\n",
    "# It is defined using the def keyword followed by the function name and parameters (optional).\n",
    "# It imporves the code readibility,reusability.\n"
   ]
  },
  {
   "cell_type": "code",
   "execution_count": null,
   "id": "9f9997bb-a0d3-49e5-8ec3-fa3f2f19b00d",
   "metadata": {},
   "outputs": [],
   "source": [
    "\n",
    "# def: Keyword to define a function.\n",
    "\n",
    "# function_name: The name you give to the function.\n",
    "\n",
    "# parameters: A list of parameters (optional) that the function takes (can be empty).\n",
    "\n",
    "# return: (Optional) Returns a value from the function.\n",
    "\n"
   ]
  },
  {
   "cell_type": "code",
   "execution_count": 3,
   "id": "7e564198-7650-4c74-a7a4-e80027dcbbc5",
   "metadata": {},
   "outputs": [],
   "source": [
    "# User Defined Fucntion\n",
    "def greet(name = \"Guest\"):   # guest is a default value of a parameter name\n",
    "    print(f\"Hello, {name}!\")  # not a best way to practise function"
   ]
  },
  {
   "cell_type": "code",
   "execution_count": 5,
   "id": "33f11134-53e3-4106-8791-4fd94ec91f88",
   "metadata": {},
   "outputs": [
    {
     "name": "stdout",
     "output_type": "stream",
     "text": [
      "Hello, Sachin!\n"
     ]
    }
   ],
   "source": [
    "# Calling a function in Python\n",
    "greet(\"Sachin\")"
   ]
  },
  {
   "cell_type": "code",
   "execution_count": 7,
   "id": "1eccccf0-2e9a-4794-a573-ee39581fb93b",
   "metadata": {},
   "outputs": [],
   "source": [
    "def add(a, b, d):\n",
    "    c = a + b + d\n",
    "    print(c)"
   ]
  },
  {
   "cell_type": "code",
   "execution_count": 9,
   "id": "e3a63dae-22b2-4d1b-920b-958959c378ca",
   "metadata": {},
   "outputs": [
    {
     "ename": "TypeError",
     "evalue": "add() missing 1 required positional argument: 'd'",
     "output_type": "error",
     "traceback": [
      "\u001b[1;31m---------------------------------------------------------------------------\u001b[0m",
      "\u001b[1;31mTypeError\u001b[0m                                 Traceback (most recent call last)",
      "Cell \u001b[1;32mIn[9], line 1\u001b[0m\n\u001b[1;32m----> 1\u001b[0m add(\u001b[38;5;241m5\u001b[39m,\u001b[38;5;241m9\u001b[39m)\n",
      "\u001b[1;31mTypeError\u001b[0m: add() missing 1 required positional argument: 'd'"
     ]
    }
   ],
   "source": [
    "add(5,9) ## callingfunction add with two parameters"
   ]
  },
  {
   "cell_type": "code",
   "execution_count": 11,
   "id": "05514a18-593b-4ef4-933e-0890e50e552a",
   "metadata": {},
   "outputs": [
    {
     "name": "stdout",
     "output_type": "stream",
     "text": [
      "cloud blitz Data\n"
     ]
    }
   ],
   "source": [
    "add('cloud ', 'blitz',' Data')"
   ]
  },
  {
   "cell_type": "code",
   "execution_count": 13,
   "id": "eb025287-a830-4753-a13e-29049ee25c9f",
   "metadata": {},
   "outputs": [],
   "source": [
    "def add(a, b):\n",
    "    c = a + b\n",
    "    print(c)"
   ]
  },
  {
   "cell_type": "code",
   "execution_count": 15,
   "id": "6eefc08c-0a91-4176-a709-f227a8716914",
   "metadata": {},
   "outputs": [
    {
     "name": "stdout",
     "output_type": "stream",
     "text": [
      "5\n",
      "None\n"
     ]
    },
    {
     "data": {
      "text/plain": [
       "NoneType"
      ]
     },
     "execution_count": 15,
     "metadata": {},
     "output_type": "execute_result"
    }
   ],
   "source": [
    "sum = add(2,3)\n",
    "print(sum)\n",
    "type(sum)"
   ]
  },
  {
   "cell_type": "code",
   "execution_count": 17,
   "id": "5b403e10-de78-4f93-82f9-14346d3def74",
   "metadata": {},
   "outputs": [],
   "source": [
    "def add(a, b):\n",
    "    c = a + b\n",
    "    return c"
   ]
  },
  {
   "cell_type": "code",
   "execution_count": 19,
   "id": "a1124417-d13e-4c0e-be74-039e10132d7b",
   "metadata": {},
   "outputs": [
    {
     "name": "stdout",
     "output_type": "stream",
     "text": [
      "4\n"
     ]
    }
   ],
   "source": [
    "something = add(1, 3)\n",
    "print(something)"
   ]
  },
  {
   "cell_type": "code",
   "execution_count": 21,
   "id": "8ea6e20f-e8c3-4a02-b6d7-ad6be74576c6",
   "metadata": {},
   "outputs": [
    {
     "data": {
      "text/plain": [
       "int"
      ]
     },
     "execution_count": 21,
     "metadata": {},
     "output_type": "execute_result"
    }
   ],
   "source": [
    "type(something)"
   ]
  },
  {
   "cell_type": "code",
   "execution_count": 23,
   "id": "3d112772-0ecf-4c54-9316-db3e899ca0d9",
   "metadata": {},
   "outputs": [],
   "source": [
    "def multiply(a, b):\n",
    "    return a*b"
   ]
  },
  {
   "cell_type": "code",
   "execution_count": 25,
   "id": "2d78106b-3847-4761-a082-6cd3c5f9e316",
   "metadata": {},
   "outputs": [
    {
     "data": {
      "text/plain": [
       "108"
      ]
     },
     "execution_count": 25,
     "metadata": {},
     "output_type": "execute_result"
    }
   ],
   "source": [
    "multiply(9, 12)"
   ]
  },
  {
   "cell_type": "code",
   "execution_count": 27,
   "id": "05bc4aa1-3450-4158-97c9-2b6712caf4d8",
   "metadata": {},
   "outputs": [],
   "source": [
    "def eat(name , veg = True):   # here veg = True is default function\n",
    "    if veg:\n",
    "        print(f'{name} you eat aloo paratha')\n",
    "    else:\n",
    "        print(f'{name} you eat chicken biryani🍗🐔')"
   ]
  },
  {
   "cell_type": "code",
   "execution_count": 29,
   "id": "9a622216-45f0-4f4a-b82b-e598320590f3",
   "metadata": {},
   "outputs": [
    {
     "name": "stdout",
     "output_type": "stream",
     "text": [
      "Sohail you eat aloo paratha\n"
     ]
    }
   ],
   "source": [
    "eat(\"Sohail\")"
   ]
  },
  {
   "cell_type": "code",
   "execution_count": 31,
   "id": "584dc773-e5ee-4559-825c-675600d65341",
   "metadata": {},
   "outputs": [
    {
     "name": "stdout",
     "output_type": "stream",
     "text": [
      "Amreen you eat chicken biryani🍗🐔\n"
     ]
    }
   ],
   "source": [
    "eat(\"Amreen\", veg = False)   # try it with no, yes ,0, 1"
   ]
  },
  {
   "cell_type": "code",
   "execution_count": 37,
   "id": "c1f0c80e-b6e9-4f1e-bc30-d89a35ce94c1",
   "metadata": {},
   "outputs": [],
   "source": [
    "l = [1,2,3,3,4,5,56,88,9,8,5,2]\n",
    "\n",
    "def if even(a):\n",
    "    e = []\n",
    "    for i in a:\n",
    "        if i % 2 == 0:\n",
    "            e.append(i)\n",
    "    return e"
   ]
  },
  {
   "cell_type": "code",
   "execution_count": 39,
   "id": "206366e2-9994-4116-9091-7edb4aa8aa0c",
   "metadata": {},
   "outputs": [
    {
     "data": {
      "text/plain": [
       "[2, 4, 56, 88, 8, 2]"
      ]
     },
     "execution_count": 39,
     "metadata": {},
     "output_type": "execute_result"
    }
   ],
   "source": [
    "if_even(l)"
   ]
  },
  {
   "cell_type": "code",
   "execution_count": 41,
   "id": "536f413d-bb3a-4607-9227-216394cab1a0",
   "metadata": {},
   "outputs": [
    {
     "data": {
      "text/plain": [
       "[0,\n",
       " 2,\n",
       " 4,\n",
       " 6,\n",
       " 8,\n",
       " 10,\n",
       " 12,\n",
       " 14,\n",
       " 16,\n",
       " 18,\n",
       " 20,\n",
       " 22,\n",
       " 24,\n",
       " 26,\n",
       " 28,\n",
       " 30,\n",
       " 32,\n",
       " 34,\n",
       " 36,\n",
       " 38,\n",
       " 40,\n",
       " 42,\n",
       " 44,\n",
       " 46,\n",
       " 48,\n",
       " 50,\n",
       " 52,\n",
       " 54,\n",
       " 56,\n",
       " 58,\n",
       " 60,\n",
       " 62,\n",
       " 64,\n",
       " 66,\n",
       " 68,\n",
       " 70,\n",
       " 72,\n",
       " 74,\n",
       " 76,\n",
       " 78,\n",
       " 80,\n",
       " 82,\n",
       " 84,\n",
       " 86,\n",
       " 88,\n",
       " 90,\n",
       " 92,\n",
       " 94,\n",
       " 96,\n",
       " 98]"
      ]
     },
     "execution_count": 41,
     "metadata": {},
     "output_type": "execute_result"
    }
   ],
   "source": [
    "a = list(range(100))\n",
    "if_even(a)"
   ]
  },
  {
   "cell_type": "code",
   "execution_count": null,
   "id": "658a49e0-9835-4f0f-8bce-ef11f932797f",
   "metadata": {},
   "outputs": [],
   "source": [
    "# yield\n",
    "# In Python, yield is used in a function to turn it into a generator. Instead of returning a single value \n",
    "# and ending the function (like return), yield pauses the function and saves its state.\n",
    "# The function can later be resumed from where it left off."
   ]
  },
  {
   "cell_type": "code",
   "execution_count": 43,
   "id": "fd3a58e0-a592-4499-acaf-b78db8192e7e",
   "metadata": {},
   "outputs": [
    {
     "name": "stdout",
     "output_type": "stream",
     "text": [
      "2\n"
     ]
    }
   ],
   "source": [
    "def even_generator(limit):\n",
    "    for i in range(2, limit + 1, 2):\n",
    "        return i\n",
    "\n",
    "print(even_generator(10))"
   ]
  },
  {
   "cell_type": "code",
   "execution_count": 45,
   "id": "30156e06-8dfb-4091-ade3-e034a6067898",
   "metadata": {},
   "outputs": [
    {
     "name": "stdout",
     "output_type": "stream",
     "text": [
      "2\n",
      "4\n",
      "6\n",
      "8\n",
      "10\n"
     ]
    }
   ],
   "source": [
    "def even_generator(limit):\n",
    "    for i in range(2, limit + 1, 2):\n",
    "        yield i\n",
    "\n",
    "#print(even_generator(10))\n",
    "for num in even_generator(10):\n",
    "    print(num)"
   ]
  },
  {
   "cell_type": "code",
   "execution_count": 47,
   "id": "7d7b7f70-23c3-450f-94d2-91f54ff2836d",
   "metadata": {},
   "outputs": [
    {
     "name": "stdout",
     "output_type": "stream",
     "text": [
      "1\n",
      "2\n",
      "3\n"
     ]
    }
   ],
   "source": [
    "def count_up_to(n):\n",
    "    count = 1\n",
    "    while count <= n:\n",
    "        yield count\n",
    "        count += 1\n",
    "\n",
    "for number in count_up_to(3):\n",
    "    print(number)\n"
   ]
  },
  {
   "cell_type": "code",
   "execution_count": null,
   "id": "51555051-542f-4187-b374-416b3f93d400",
   "metadata": {},
   "outputs": [],
   "source": [
    "# Recursive Function\n",
    "# A recursive function in Python is a function that calls itself to solve a smaller version of a problem until it \n",
    "# reaches a base case (a condition where it stops calling itself).\n",
    "# Often used to solve the problems that can be broken into smaller, self-similar subproblems."
   ]
  },
  {
   "cell_type": "code",
   "execution_count": 49,
   "id": "ebcdd7f1-741d-405f-9a11-6c1aa2b44f68",
   "metadata": {},
   "outputs": [
    {
     "name": "stdin",
     "output_type": "stream",
     "text": [
      "Enter a non negative integer  4\n"
     ]
    },
    {
     "name": "stdout",
     "output_type": "stream",
     "text": [
      "The Factorial of 4 is 24\n"
     ]
    }
   ],
   "source": [
    "def factorial(n):\n",
    "    if n == 0:\n",
    "        return 1  # Base case\n",
    "    else:\n",
    "        return n * factorial(n-1)  # Recursive call\n",
    "\n",
    "# get the user input\n",
    "num = int(input(\"Enter a non negative integer \"))\n",
    "result = factorial(num)\n",
    "print(f'The Factorial of {num} is', result)"
   ]
  },
  {
   "cell_type": "code",
   "execution_count": 51,
   "id": "2193e5c4-24c9-4bc7-a40c-68fcecacc593",
   "metadata": {},
   "outputs": [
    {
     "data": {
      "text/plain": [
       "720"
      ]
     },
     "execution_count": 51,
     "metadata": {},
     "output_type": "execute_result"
    }
   ],
   "source": [
    "factorial ((6)) # Here, factorial(5) calls factorial(4), then factorial(3), and so on, until it reaches factorial(0)."
   ]
  },
  {
   "cell_type": "code",
   "execution_count": 53,
   "id": "cb30202b-f84e-47de-b6fb-2bc4a64ecc16",
   "metadata": {},
   "outputs": [],
   "source": [
    "# Sum of first n natural numbers\n",
    "def sum_natural(n):\n",
    "    if n == 1:\n",
    "        return 1  # Base case\n",
    "    else:\n",
    "        return n + sum_natural(n-1)  # Recursive call sum_natural(5) → 5 + 4 + 3 + 2 + 1 = 15"
   ]
  },
  {
   "cell_type": "code",
   "execution_count": 55,
   "id": "e27dc23e-a24c-4ad0-84ce-9543f4e8c97d",
   "metadata": {},
   "outputs": [
    {
     "data": {
      "text/plain": [
       "45"
      ]
     },
     "execution_count": 55,
     "metadata": {},
     "output_type": "execute_result"
    }
   ],
   "source": [
    "sum_natural(9)"
   ]
  },
  {
   "cell_type": "code",
   "execution_count": null,
   "id": "d388524a-5172-45b9-b2b1-b99cdd7147c6",
   "metadata": {},
   "outputs": [],
   "source": []
  }
 ],
 "metadata": {
  "kernelspec": {
   "display_name": "Python [conda env:base] *",
   "language": "python",
   "name": "conda-base-py"
  },
  "language_info": {
   "codemirror_mode": {
    "name": "ipython",
    "version": 3
   },
   "file_extension": ".py",
   "mimetype": "text/x-python",
   "name": "python",
   "nbconvert_exporter": "python",
   "pygments_lexer": "ipython3",
   "version": "3.12.7"
  }
 },
 "nbformat": 4,
 "nbformat_minor": 5
}
