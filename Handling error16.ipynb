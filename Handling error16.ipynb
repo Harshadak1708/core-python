{
 "cells": [
  {
   "cell_type": "code",
   "execution_count": 3,
   "id": "7dec0862-14b4-4884-87c1-009f1459db17",
   "metadata": {},
   "outputs": [
    {
     "ename": "SyntaxError",
     "evalue": "unterminated string literal (detected at line 3) (852440540.py, line 3)",
     "output_type": "error",
     "traceback": [
      "\u001b[1;36m  Cell \u001b[1;32mIn[3], line 3\u001b[1;36m\u001b[0m\n\u001b[1;33m    print('XGBoost)\u001b[0m\n\u001b[1;37m          ^\u001b[0m\n\u001b[1;31mSyntaxError\u001b[0m\u001b[1;31m:\u001b[0m unterminated string literal (detected at line 3)\n"
     ]
    }
   ],
   "source": [
    "# Handling error and exceptions\n",
    "\n",
    "print('XGBoost)   # syntax error"
   ]
  },
  {
   "cell_type": "code",
   "execution_count": 9,
   "id": "147aec76-1751-402b-bfee-264efecc675c",
   "metadata": {},
   "outputs": [
    {
     "name": "stdin",
     "output_type": "stream",
     "text": [
      "Enter a number s\n"
     ]
    },
    {
     "ename": "ValueError",
     "evalue": "invalid literal for int() with base 10: 's'",
     "output_type": "error",
     "traceback": [
      "\u001b[1;31m---------------------------------------------------------------------------\u001b[0m",
      "\u001b[1;31mValueError\u001b[0m                                Traceback (most recent call last)",
      "Cell \u001b[1;32mIn[9], line 1\u001b[0m\n\u001b[1;32m----> 1\u001b[0m s \u001b[38;5;241m=\u001b[39m \u001b[38;5;28mint\u001b[39m(\u001b[38;5;28minput\u001b[39m(\u001b[38;5;124m\"\u001b[39m\u001b[38;5;124mEnter a number\u001b[39m\u001b[38;5;124m\"\u001b[39m))\n\u001b[0;32m      2\u001b[0m \u001b[38;5;28mprint\u001b[39m(s)\n",
      "\u001b[1;31mValueError\u001b[0m: invalid literal for int() with base 10: 's'"
     ]
    }
   ],
   "source": [
    "s = int(input(\"Enter a number\"))    # value error\n",
    "print(s)"
   ]
  },
  {
   "cell_type": "code",
   "execution_count": 11,
   "id": "215432a7-7388-4262-988b-4935755e4e5e",
   "metadata": {},
   "outputs": [
    {
     "ename": "ModuleNotFoundError",
     "evalue": "No module named 'names'",
     "output_type": "error",
     "traceback": [
      "\u001b[1;31m---------------------------------------------------------------------------\u001b[0m",
      "\u001b[1;31mModuleNotFoundError\u001b[0m                       Traceback (most recent call last)",
      "Cell \u001b[1;32mIn[11], line 1\u001b[0m\n\u001b[1;32m----> 1\u001b[0m \u001b[38;5;28;01mimport\u001b[39;00m \u001b[38;5;21;01mnames\u001b[39;00m\n",
      "\u001b[1;31mModuleNotFoundError\u001b[0m: No module named 'names'"
     ]
    }
   ],
   "source": [
    "import names   # Module not found error"
   ]
  },
  {
   "cell_type": "code",
   "execution_count": null,
   "id": "b07bc3dc-3af9-4ee3-a85d-70d27f8f4f14",
   "metadata": {},
   "outputs": [],
   "source": [
    "# Some of the common exception errors are:\n",
    "# IOError: if the file cant be opened\n",
    "# KeyboardInterrupt: when an unrequired key is pressed by the user\n",
    "# Value Error: when the built in function receives a wrong argument\n",
    "# EOF Error: If Enf Of File is hit without reading any data\n",
    "# Import: Error/Module Not Found Error. if it is unable to find the module"
   ]
  },
  {
   "cell_type": "code",
   "execution_count": null,
   "id": "f8f5767c-dbf3-4296-97fe-558ab6a48087",
   "metadata": {},
   "outputs": [],
   "source": [
    "# Try and except in python\n",
    "# In python, errors and exceptions can interrupt the execution of program. python provides try and except blocks to handle\n",
    "# situations like this. In case an error occurs in try block, python stops executing try block and jumps to exception block.\n",
    "# these blocks let you handle the errors without crashing the program."
   ]
  },
  {
   "cell_type": "code",
   "execution_count": 19,
   "id": "13b344ae-1ed3-4309-8740-4565b90decb1",
   "metadata": {},
   "outputs": [
    {
     "ename": "IndentationError",
     "evalue": "expected an indented block after 'try' statement on line 1 (2838473848.py, line 3)",
     "output_type": "error",
     "traceback": [
      "\u001b[1;36m  Cell \u001b[1;32mIn[19], line 3\u001b[1;36m\u001b[0m\n\u001b[1;33m    except:\u001b[0m\n\u001b[1;37m    ^\u001b[0m\n\u001b[1;31mIndentationError\u001b[0m\u001b[1;31m:\u001b[0m expected an indented block after 'try' statement on line 1\n"
     ]
    }
   ],
   "source": [
    "try:\n",
    "    # Some code\n",
    "except:\n",
    "    # Executed if error in the\n",
    "    # try block\n",
    "    "
   ]
  },
  {
   "cell_type": "code",
   "execution_count": 21,
   "id": "510efb83-cfcd-43e6-91d1-cb69a9988af2",
   "metadata": {},
   "outputs": [
    {
     "name": "stdout",
     "output_type": "stream",
     "text": [
      "An exception occured.\n"
     ]
    }
   ],
   "source": [
    "try:\n",
    "    # code that may raise an exception\n",
    "    x = 3 / 0\n",
    "    print(x)\n",
    "except:\n",
    "    # execution occurs, if code under try throws error\n",
    "    print(\"An exception occured.\")"
   ]
  },
  {
   "cell_type": "code",
   "execution_count": 25,
   "id": "2c0bb197-f029-4573-8078-1544a49959ed",
   "metadata": {},
   "outputs": [
    {
     "name": "stdout",
     "output_type": "stream",
     "text": [
      "Yeah ! Your answer is : 1\n",
      "Sorry ! You are dividing by zero\n"
     ]
    }
   ],
   "source": [
    "# python code to illustrate\n",
    "# working of try()\n",
    "def divide(x, y):\n",
    "    try:\n",
    "        # floor division: gives only fractional part as answer\n",
    "        result = x // y\n",
    "        print(\"Yeah ! Your answer is :\", result)\n",
    "    except ZeroDivisionError:\n",
    "        print(\"Sorry ! You are dividing by zero\")\n",
    "\n",
    "divide(3, 2)\n",
    "divide(6, 0)\n",
    "    "
   ]
  },
  {
   "cell_type": "code",
   "execution_count": 35,
   "id": "8332522d-900b-42fb-be4f-79b808fbd7d2",
   "metadata": {},
   "outputs": [
    {
     "name": "stdout",
     "output_type": "stream",
     "text": [
      "The error is:  unsupported operand type(s) for //: 'int' and 'str'\n",
      "The error is:  integer division or modulo by zero\n"
     ]
    }
   ],
   "source": [
    "# code\n",
    "def divide(x, y):\n",
    "    try:\n",
    "        result = x // y\n",
    "        print(\"Yeah ! your answer is :\", result)\n",
    "    except Exception as e:\n",
    "        # By this way we can know about the type of error occuring\n",
    "        print(\"The error is: \", e)\n",
    "\n",
    "divide(3, \"GHG\")\n",
    "divide(3, 0)\n",
    "        "
   ]
  },
  {
   "cell_type": "code",
   "execution_count": null,
   "id": "a42f6363-9f1e-4745-b26f-11af69be9e5d",
   "metadata": {},
   "outputs": [],
   "source": [
    "# Else Cluase\n",
    "# In python, you can also use the else cluase on the try-except block which must be present after all the except cluases.\n",
    "# the code enters the else block only if the try cluase does not raise an exception"
   ]
  },
  {
   "cell_type": "code",
   "execution_count": null,
   "id": "cd96b778-b7f9-4c80-a6dc-21977ae96a23",
   "metadata": {},
   "outputs": [],
   "source": [
    "try:\n",
    "    # some code\n",
    "except:\n",
    "    # Executed if error in this\n",
    "    # try block\n",
    "    else:\n",
    "    # execute if no exceptions"
   ]
  },
  {
   "cell_type": "code",
   "execution_count": 37,
   "id": "0d88af9f-294b-4c0c-8edc-5769430c98c2",
   "metadata": {},
   "outputs": [
    {
     "name": "stdout",
     "output_type": "stream",
     "text": [
      "Division successful, result is 5.0\n"
     ]
    }
   ],
   "source": [
    "# program to depict else cluase with try except\n",
    "try:\n",
    "    result = 10 / 2\n",
    "except ZeroDivisionError:\n",
    "    print(\"Division by zero error\")\n",
    "else:\n",
    "    print(f\"Division successful, result is {result}\")\n",
    "    "
   ]
  },
  {
   "cell_type": "code",
   "execution_count": null,
   "id": "738b0b5a-1c41-4075-a4c8-112356ad7b2a",
   "metadata": {},
   "outputs": [],
   "source": [
    "# Using Finally\n",
    "# The finally block will execute whether an exception occurs or not. Its used for cleanup actions like closing files or\n",
    "# releasing resources."
   ]
  },
  {
   "cell_type": "code",
   "execution_count": null,
   "id": "64c87c80-99e7-4b5f-a373-dd28782ebb87",
   "metadata": {},
   "outputs": [],
   "source": [
    "try:\n",
    "    # some code\n",
    "except:\n",
    "    # Executed if error in the\n",
    "    # try block\n",
    "else:\n",
    "    # execute if no exception\n",
    "finally:\n",
    "    # some code ---- (always executed\n",
    "    "
   ]
  },
  {
   "cell_type": "code",
   "execution_count": 39,
   "id": "d2168349-3ed4-4ffe-b0d5-5e1a2c7e92fb",
   "metadata": {},
   "outputs": [
    {
     "name": "stdout",
     "output_type": "stream",
     "text": [
      "Cant divide by zero\n",
      "This is always executed\n"
     ]
    }
   ],
   "source": [
    "# python program to demonstrate finally\n",
    "\n",
    "# no exception raised in try block\n",
    "try:\n",
    "    k = 5 // 0\n",
    "    print(k)\n",
    "\n",
    "# handles zerodivision exception\n",
    "except ZeroDivisionError:\n",
    "    print(\"Cant divide by zero\")\n",
    "\n",
    "finally:\n",
    "    # this block is always executed\n",
    "    # regardless of exception generation\n",
    "    print(\"This is always executed\")"
   ]
  },
  {
   "cell_type": "code",
   "execution_count": null,
   "id": "618447d4-2037-4497-a07e-c309ee5d8b0a",
   "metadata": {},
   "outputs": [],
   "source": [
    "try: code that might cause an error\n",
    "\n",
    "except: Handles the error if it occurs\n",
    "\n",
    "else: Runs if no error occurs\n",
    "\n",
    "finally: Runs no matter what\n",
    "\n",
    "finally is useful for cleanup tasks like closing files, releasing sources, or disconnecting from a database."
   ]
  },
  {
   "cell_type": "code",
   "execution_count": 45,
   "id": "87c8b44c-ecd2-4114-9bc9-c29f16642a07",
   "metadata": {},
   "outputs": [
    {
     "name": "stdout",
     "output_type": "stream",
     "text": [
      "Outer try block\n"
     ]
    },
    {
     "name": "stdin",
     "output_type": "stream",
     "text": [
      "Enter a number:  u\n"
     ]
    },
    {
     "name": "stdout",
     "output_type": "stream",
     "text": [
      "Outer except: Invalid input! Not a number.\n"
     ]
    }
   ],
   "source": [
    "# 1) try inside try block\n",
    "try:\n",
    "    print(\"Outer try block\")\n",
    "    num = int(input(\"Enter a number: \"))\n",
    "\n",
    "    try:\n",
    "        result = 10 / num\n",
    "        print(f\"Result: {result}\")\n",
    "    except ZeroDivisionError:\n",
    "        print(\"Inner except: Cannot divide by zero\")\n",
    "\n",
    "except ValueError:\n",
    "    print(\"Outer except: Invalid input! Not a number.\")\n",
    "    "
   ]
  },
  {
   "cell_type": "code",
   "execution_count": 47,
   "id": "8ed8bad9-9de4-4b68-8474-9bf8d18c3181",
   "metadata": {},
   "outputs": [
    {
     "name": "stdout",
     "output_type": "stream",
     "text": [
      "Outer try block\n"
     ]
    },
    {
     "name": "stdin",
     "output_type": "stream",
     "text": [
      "Enter a number:  0\n"
     ]
    },
    {
     "name": "stdout",
     "output_type": "stream",
     "text": [
      "Inner except: Cannot divide by zero\n"
     ]
    }
   ],
   "source": [
    "# 2) try inside try block\n",
    "try:\n",
    "    print(\"Outer try block\")\n",
    "    num = int(input(\"Enter a number: \"))\n",
    "\n",
    "    try:\n",
    "        result = 10 / num\n",
    "        print(f\"Result: {result}\")\n",
    "    except ZeroDivisionError:\n",
    "        print(\"Inner except: Cannot divide by zero\")\n",
    "\n",
    "except ValueError:\n",
    "    print(\"Outer except: Invalid input! Not a number.\")\n",
    "    "
   ]
  },
  {
   "cell_type": "code",
   "execution_count": 49,
   "id": "c9a617b0-257a-453c-8840-5e77de29d1d5",
   "metadata": {},
   "outputs": [
    {
     "name": "stdout",
     "output_type": "stream",
     "text": [
      "Outer try block\n"
     ]
    },
    {
     "name": "stdin",
     "output_type": "stream",
     "text": [
      "Enter a number:  6\n"
     ]
    },
    {
     "name": "stdout",
     "output_type": "stream",
     "text": [
      "Result: 1.6666666666666667\n"
     ]
    }
   ],
   "source": [
    "# 3) try inside try block\n",
    "try:\n",
    "    print(\"Outer try block\")\n",
    "    num = int(input(\"Enter a number: \"))\n",
    "\n",
    "    try:\n",
    "        result = 10 / num\n",
    "        print(f\"Result: {result}\")\n",
    "    except ZeroDivisionError:\n",
    "        print(\"Inner except: Cannot divide by zero\")\n",
    "\n",
    "except ValueError:\n",
    "    print(\"Outer except: Invalid input! Not a number.\")"
   ]
  },
  {
   "cell_type": "code",
   "execution_count": null,
   "id": "e72a2c56-6e9b-414f-807b-d4b2c7073640",
   "metadata": {},
   "outputs": [],
   "source": []
  },
  {
   "cell_type": "code",
   "execution_count": 4,
   "id": "ae1fa467-fab9-4f87-b554-ae3395dacedf",
   "metadata": {},
   "outputs": [
    {
     "name": "stdout",
     "output_type": "stream",
     "text": [
      "adahsraH\n"
     ]
    }
   ],
   "source": [
    "# Homework:  reverse a string by using for loop in any range and without using reverse and slicing function \n",
    "\n",
    "s = \"Harshada\"\n",
    "\n",
    "# Initialize an empty string to hold reversed result\n",
    "rev = \"\"\n",
    "\n",
    "# Loop through each character in original string\n",
    "for ch in s:\n",
    "  \n",
    "    # Add current character to front of reversed string\n",
    "    rev = ch + rev\n",
    "\n",
    "print(rev)"
   ]
  },
  {
   "cell_type": "code",
   "execution_count": 6,
   "id": "aa8e2ba5-cd8e-4c23-a83a-e33a935cf1fb",
   "metadata": {},
   "outputs": [
    {
     "name": "stdout",
     "output_type": "stream",
     "text": [
      "adahsraH\n"
     ]
    }
   ],
   "source": [
    "s = \"Harshada\"\n",
    "rev = ''.join([s[i] for i in range(len(s) - 1, -1, -1)])\n",
    "print(rev)"
   ]
  },
  {
   "cell_type": "code",
   "execution_count": null,
   "id": "7c31e356-5264-41f9-b9e9-89052c6757fa",
   "metadata": {},
   "outputs": [],
   "source": []
  }
 ],
 "metadata": {
  "kernelspec": {
   "display_name": "Python [conda env:base] *",
   "language": "python",
   "name": "conda-base-py"
  },
  "language_info": {
   "codemirror_mode": {
    "name": "ipython",
    "version": 3
   },
   "file_extension": ".py",
   "mimetype": "text/x-python",
   "name": "python",
   "nbconvert_exporter": "python",
   "pygments_lexer": "ipython3",
   "version": "3.12.7"
  }
 },
 "nbformat": 4,
 "nbformat_minor": 5
}
