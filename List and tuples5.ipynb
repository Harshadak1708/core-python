{
 "cells": [
  {
   "cell_type": "code",
   "execution_count": 1,
   "id": "0d2ee5aa-95b2-41c0-a657-894960eb49be",
   "metadata": {},
   "outputs": [
    {
     "name": "stdout",
     "output_type": "stream",
     "text": [
      "(1, 2, 3, 'apple', 2.3)\n",
      "<class 'tuple'>\n",
      "value in sample[0] 1\n"
     ]
    }
   ],
   "source": [
    "# Lists and Tuples --- understanding structures and their functions\n",
    "# --- ordered\n",
    "# --- immutable(unchangeble)\n",
    "# --- duplicate values allowed\n",
    "# --- can be of any data type.\n",
    "# --- represented by ()\n",
    "# --- does not support item assignment\n",
    "\n",
    "# creating python tuples\n",
    "\n",
    "sample = (1,2,3,\"apple\",2.3)     # all are objects of respective data type\n",
    "print(sample)\n",
    "print(type(sample))\n",
    "print(\"value in sample[0]\",sample[0])\n"
   ]
  },
  {
   "cell_type": "code",
   "execution_count": 5,
   "id": "254bff23-d265-4bc2-8fdb-926a49ac59e2",
   "metadata": {},
   "outputs": [
    {
     "name": "stdout",
     "output_type": "stream",
     "text": [
      "<class 'tuple'>\n",
      "value in sample[3] apple\n"
     ]
    }
   ],
   "source": [
    "print(type(sample))\n",
    "print(\"value in sample[3]\",sample[3])"
   ]
  },
  {
   "cell_type": "code",
   "execution_count": 9,
   "id": "4a98961b-f4b4-4451-b96d-1b633e258de5",
   "metadata": {},
   "outputs": [],
   "source": [
    "# tuple object does not support item assignment\n",
    "\n",
    "# sample = (1,2,3,\"apple\",2.3)\n",
    "# sample[0] = 5    # tuple object does not support item assignment\n"
   ]
  },
  {
   "cell_type": "code",
   "execution_count": 11,
   "id": "4c916cdd-61df-4c53-8b27-75e173a0797f",
   "metadata": {},
   "outputs": [
    {
     "name": "stdout",
     "output_type": "stream",
     "text": [
      "2.3\n"
     ]
    }
   ],
   "source": [
    "# negative indexing\n",
    "\n",
    "sample = (1,2,3,\"apple\",2.3)\n",
    "print(sample[-1])"
   ]
  },
  {
   "cell_type": "code",
   "execution_count": 21,
   "id": "c0b25d72-5276-49be-8b72-8b68a27bae3b",
   "metadata": {},
   "outputs": [
    {
     "name": "stdout",
     "output_type": "stream",
     "text": [
      "(2, 3, 'apple')\n"
     ]
    }
   ],
   "source": [
    "# print 2 to apple\n",
    "sample = (1,2,3,\"apple\",2.3)\n",
    "print(sample[-4:-1])"
   ]
  },
  {
   "cell_type": "code",
   "execution_count": 23,
   "id": "03db8575-5533-46ca-8a68-385bab17c64a",
   "metadata": {},
   "outputs": [
    {
     "data": {
      "text/plain": [
       "tuple"
      ]
     },
     "execution_count": 23,
     "metadata": {},
     "output_type": "execute_result"
    }
   ],
   "source": [
    "t = 1,2,3,4    # not inside() but still its type is tuple.\n",
    "type(t)"
   ]
  },
  {
   "cell_type": "code",
   "execution_count": 33,
   "id": "4990dc4e-67fd-4a90-93e6-392bdb9ab3e9",
   "metadata": {},
   "outputs": [
    {
     "name": "stdout",
     "output_type": "stream",
     "text": [
      "((10, 20, 30), ((10, 20, 30), 40), 50, 60)\n",
      "((10, 20, 30), 40)\n",
      "20\n",
      "(10, 20, 30)\n",
      "40\n",
      "30\n"
     ]
    }
   ],
   "source": [
    "# nesting of tuples\n",
    "\n",
    "var1 = (10,20,30)\n",
    "var2 = (var1,40)\n",
    "var3 = (var1,var2,50,60)\n",
    "print(var3)\n",
    "print(var2)\n",
    "\n",
    "print(var2[0][1])   # accessing nested tuple 20\n",
    "print(var2[0])\n",
    "print(var2[1])\n",
    "print(var2[0][2])"
   ]
  },
  {
   "cell_type": "code",
   "execution_count": 31,
   "id": "d88aa6d6-5732-4a3d-8003-a0bb7014762e",
   "metadata": {},
   "outputs": [
    {
     "name": "stdout",
     "output_type": "stream",
     "text": [
      "20\n",
      "(10, 20, 30)\n",
      "40\n",
      "30\n"
     ]
    }
   ],
   "source": [
    "print(var2[0][1])   # accessing nested tuple 20\n",
    "print(var2[0])\n",
    "print(var2[1])\n",
    "print(var2[0][2])"
   ]
  },
  {
   "cell_type": "code",
   "execution_count": 37,
   "id": "48a8f535-208e-492e-bb79-364c82c15062",
   "metadata": {},
   "outputs": [
    {
     "name": "stdout",
     "output_type": "stream",
     "text": [
      "(2, 3, 4)\n",
      "(4, 3, 2, 1)\n"
     ]
    }
   ],
   "source": [
    "# slicing of tuple\n",
    "\n",
    "tuple1 = (1,2,3,4)\n",
    "print(tuple1[1:])\n",
    "print(tuple1[::-1])   # for reverse ::-\n",
    "      "
   ]
  },
  {
   "cell_type": "code",
   "execution_count": 39,
   "id": "6184b114-ab8b-4426-be1d-1d9e84aa302b",
   "metadata": {},
   "outputs": [
    {
     "name": "stdout",
     "output_type": "stream",
     "text": [
      "(1, 4)\n"
     ]
    }
   ],
   "source": [
    "t = tuple1[0:1] + tuple1[3:]  # slicing of the tuple\n",
    "print(t)"
   ]
  },
  {
   "cell_type": "code",
   "execution_count": 41,
   "id": "41131c05-8547-4779-b2e7-5d8c8dccaaff",
   "metadata": {},
   "outputs": [
    {
     "name": "stdout",
     "output_type": "stream",
     "text": [
      "(1, 2, 3, 4)\n"
     ]
    }
   ],
   "source": [
    "# deleting tuple\n",
    "\n",
    "#del tuple1\n",
    "tuple1 = (1,2,3,4)\n",
    "print(tuple1)"
   ]
  },
  {
   "cell_type": "code",
   "execution_count": 43,
   "id": "07786329-f367-4eed-b67d-e93b9b1bffcc",
   "metadata": {},
   "outputs": [],
   "source": [
    "# deleting a tuple\n",
    "del(tuple1)"
   ]
  },
  {
   "cell_type": "code",
   "execution_count": 47,
   "id": "dbee3a80-89cd-4244-913f-f002fb9fa231",
   "metadata": {},
   "outputs": [
    {
     "name": "stdout",
     "output_type": "stream",
     "text": [
      "('apple', 'kiwi', 'cherry')\n",
      "['apple', 'kiwi', 'cherry']\n"
     ]
    }
   ],
   "source": [
    "# typecast tuple to list and then back to the tuple\n",
    "\n",
    "x = (\"apple\",\"banana\",\"cherry\")\n",
    "y = list(x)\n",
    "y[1] = \"kiwi\"\n",
    "x = tuple(y)\n",
    "\n",
    "print(x)\n",
    "print(y)"
   ]
  },
  {
   "cell_type": "code",
   "execution_count": 51,
   "id": "e7170f32-8caa-4582-8c2c-9c477432ac87",
   "metadata": {},
   "outputs": [
    {
     "name": "stdout",
     "output_type": "stream",
     "text": [
      "(0, 1, 2)\n",
      "('p', 'y', 't', 'h', 'o', 'n')\n"
     ]
    }
   ],
   "source": [
    "# typecasting converting a tuple insto list\n",
    "\n",
    "list1 = [0,1,2]   # type list\n",
    "print(tuple(list1))  # typecasting --- converting list to a tuple\n",
    "print(tuple('python'))"
   ]
  },
  {
   "cell_type": "code",
   "execution_count": 53,
   "id": "0ec3e0cf-b9a3-4de2-b29a-c4910891253a",
   "metadata": {},
   "outputs": [
    {
     "name": "stdout",
     "output_type": "stream",
     "text": [
      "t1 and t2 are not same\n"
     ]
    }
   ],
   "source": [
    "# exercise\n",
    "# if want to check whether two tuples are equal or not\n",
    "\n",
    "t1 = (3,8,7)\n",
    "t2 = (5,7,9)\n",
    "if t1 == t2:\n",
    "    print(\"t1 and t2 are same\")\n",
    "else:\n",
    "    print(\"t1 and t2 are not same\")\n"
   ]
  },
  {
   "cell_type": "code",
   "execution_count": 55,
   "id": "ce534f6e-83f2-4cf7-9020-4168b0a657ba",
   "metadata": {},
   "outputs": [
    {
     "name": "stdout",
     "output_type": "stream",
     "text": [
      " 9 is present in the tuple\n"
     ]
    }
   ],
   "source": [
    "# check 9 is in the tuple\n",
    "\n",
    "t3 = (5,8,9,\"vadapav\",\"tea\",True)\n",
    "if 9 in t3:\n",
    "    print(\" 9 is present in the tuple\")\n",
    "else:\n",
    "    print(\" 9 is not present in the tuple\")"
   ]
  },
  {
   "cell_type": "code",
   "execution_count": 57,
   "id": "0a4e6ee4-5027-4a58-9917-bb1a03487355",
   "metadata": {},
   "outputs": [
    {
     "name": "stdout",
     "output_type": "stream",
     "text": [
      "(1, 2, 3, 'apple', 2.3, 'data scientist', 'apoorva')\n"
     ]
    }
   ],
   "source": [
    "# concatenation of tuple\n",
    "\n",
    "sample = (1,2,3,\"apple\",2.3)\n",
    "tuple1 = (\"data scientist\", \"apoorva\")\n",
    "tuple2 = sample + tuple1\n",
    "print(tuple2)"
   ]
  },
  {
   "cell_type": "code",
   "execution_count": 59,
   "id": "57902fbd-8442-4b36-a22b-8cd1b18bb9d4",
   "metadata": {},
   "outputs": [
    {
     "data": {
      "text/plain": [
       "<zip at 0x2149c8c7380>"
      ]
     },
     "execution_count": 59,
     "metadata": {},
     "output_type": "execute_result"
    }
   ],
   "source": [
    "# use of zip() and list of tuples\n",
    "\n",
    "names = ['urvashi','prasanna','gayatri']\n",
    "age = [23,78,12]\n",
    "zip(names,age)"
   ]
  },
  {
   "cell_type": "code",
   "execution_count": 13,
   "id": "7e6de987-8ae6-441d-aef1-14ceea709d4c",
   "metadata": {},
   "outputs": [
    {
     "name": "stdout",
     "output_type": "stream",
     "text": [
      "unzipped names: ['urvashi', 'prasanna', 'gayatri']\n",
      "unzipped age: [23, 78, 12]\n"
     ]
    },
    {
     "data": {
      "text/plain": [
       "<zip at 0x2d33a1b0400>"
      ]
     },
     "execution_count": 13,
     "metadata": {},
     "output_type": "execute_result"
    }
   ],
   "source": [
    "names = ['urvashi','prasanna','gayatri']\n",
    "age = [23,78,12]\n",
    "zip(names,age)\n",
    "info = list(zip(names,age))\n",
    "info\n",
    "\n",
    "# Unzip the list of tuples into separate lists\n",
    "unzipped_names = []\n",
    "unzipped_age = []\n",
    "\n",
    "# Loop through the zipped list and separate the names and ages\n",
    "for person in info:\n",
    "    unzipped_names.append(person[0])  # First element of the tuple (name)\n",
    "    unzipped_age.append(person[1])    # Second element of the tuple (age)\n",
    "\n",
    "# Print the unzipped lists\n",
    "print(\"unzipped names:\", unzipped_names)\n",
    "print(\"unzipped age:\", unzipped_age)\n",
    "names = ['urvashi','prasanna','gayatri']\n",
    "age = [23,78,12]\n",
    "zip(names,age)\n"
   ]
  },
  {
   "cell_type": "code",
   "execution_count": null,
   "id": "82c2c406-b432-4ee4-ac38-4aaf8ebc8e80",
   "metadata": {},
   "outputs": [],
   "source": [
    "# how to unzip???\n",
    "# different list with different name"
   ]
  },
  {
   "cell_type": "code",
   "execution_count": 1,
   "id": "b675aeca-8682-4be4-8b8b-af8b5c949d04",
   "metadata": {},
   "outputs": [
    {
     "name": "stdout",
     "output_type": "stream",
     "text": [
      "15\n"
     ]
    }
   ],
   "source": [
    "x = 2\n",
    "y = 5\n",
    "print(x * y + y)"
   ]
  },
  {
   "cell_type": "code",
   "execution_count": 3,
   "id": "f6469737-37bf-4631-bced-8241d34a295c",
   "metadata": {},
   "outputs": [
    {
     "ename": "ZeroDivisionError",
     "evalue": "division by zero",
     "output_type": "error",
     "traceback": [
      "\u001b[1;31m---------------------------------------------------------------------------\u001b[0m",
      "\u001b[1;31mZeroDivisionError\u001b[0m                         Traceback (most recent call last)",
      "Cell \u001b[1;32mIn[3], line 3\u001b[0m\n\u001b[0;32m      1\u001b[0m x \u001b[38;5;241m=\u001b[39m \u001b[38;5;241m5\u001b[39m\n\u001b[0;32m      2\u001b[0m y \u001b[38;5;241m=\u001b[39m \u001b[38;5;241m0\u001b[39m\n\u001b[1;32m----> 3\u001b[0m x \u001b[38;5;241m=\u001b[39m x \u001b[38;5;241m/\u001b[39m y\n\u001b[0;32m      4\u001b[0m \u001b[38;5;28mprint\u001b[39m(x)\n",
      "\u001b[1;31mZeroDivisionError\u001b[0m: division by zero"
     ]
    }
   ],
   "source": [
    "x = 5\n",
    "y = 0\n",
    "x = x / y\n",
    "print(x)"
   ]
  },
  {
   "cell_type": "code",
   "execution_count": 5,
   "id": "47cacd93-3a79-4ebd-918b-146864acbd69",
   "metadata": {},
   "outputs": [
    {
     "name": "stdout",
     "output_type": "stream",
     "text": [
      "1\n"
     ]
    }
   ],
   "source": [
    "a = '0'\n",
    "b = 0\n",
    "print(bool(a) + bool(b))"
   ]
  },
  {
   "cell_type": "code",
   "execution_count": 7,
   "id": "f260d1c2-ac55-47a7-a5df-90fcec487f68",
   "metadata": {},
   "outputs": [
    {
     "name": "stdout",
     "output_type": "stream",
     "text": [
      "9\n"
     ]
    }
   ],
   "source": [
    "x = 1\n",
    "y = 2\n",
    "z = x + y * (x + 1) ** 2\n",
    "print(z)"
   ]
  },
  {
   "cell_type": "code",
   "execution_count": 9,
   "id": "886bbcb0-98cf-4dc3-9f99-1cf7afa8bcf4",
   "metadata": {},
   "outputs": [
    {
     "name": "stdout",
     "output_type": "stream",
     "text": [
      "110\n"
     ]
    }
   ],
   "source": [
    "x = \"100\"\n",
    "y = 10\n",
    "print(int(x) + y)"
   ]
  },
  {
   "cell_type": "code",
   "execution_count": null,
   "id": "1494786a-9b5b-4769-96fe-23f83918a703",
   "metadata": {},
   "outputs": [],
   "source": []
  }
 ],
 "metadata": {
  "kernelspec": {
   "display_name": "Python [conda env:base] *",
   "language": "python",
   "name": "conda-base-py"
  },
  "language_info": {
   "codemirror_mode": {
    "name": "ipython",
    "version": 3
   },
   "file_extension": ".py",
   "mimetype": "text/x-python",
   "name": "python",
   "nbconvert_exporter": "python",
   "pygments_lexer": "ipython3",
   "version": "3.12.7"
  }
 },
 "nbformat": 4,
 "nbformat_minor": 5
}
