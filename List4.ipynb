{
 "cells": [
  {
   "cell_type": "code",
   "execution_count": 1,
   "id": "454eec39-77a1-4c4d-b986-aa4df8250da6",
   "metadata": {},
   "outputs": [
    {
     "name": "stdout",
     "output_type": "stream",
     "text": [
      "['ram', 'sham', 'mohit']\n"
     ]
    }
   ],
   "source": [
    "# List operations\n",
    "# List creation : creating a list with multiple distinct or duplicate element\n",
    "#               : accessing element from multidimensional list\n",
    "#               : getting the size of python list\n",
    "\n",
    "\n",
    "name = ['ram', 'sham', 'mohit']\n",
    "print(name)"
   ]
  },
  {
   "cell_type": "code",
   "execution_count": 7,
   "id": "68729e88-0687-49d7-bc64-461b325af4ea",
   "metadata": {},
   "outputs": [
    {
     "data": {
      "text/plain": [
       "list"
      ]
     },
     "execution_count": 7,
     "metadata": {},
     "output_type": "execute_result"
    }
   ],
   "source": [
    "# creation of list\n",
    "# empty list\n",
    "\n",
    "my_list = []\n",
    "number = [1,2,4,9]\n",
    "string = ['ram', 'sham', 'rohit']\n",
    "mixed_list = [1,2,3,4,'data',[4,2,['sita','gita']],3.14]       # list inside a list\n",
    "type(my_list)\n"
   ]
  },
  {
   "cell_type": "code",
   "execution_count": 9,
   "id": "6d7cd3a1-fda6-4b8a-9141-ebee9e719de4",
   "metadata": {},
   "outputs": [
    {
     "name": "stdout",
     "output_type": "stream",
     "text": [
      "[1, 2, 3, 4, 'data', [4, 2, ['sita', 'gita']], 3.14]\n"
     ]
    }
   ],
   "source": [
    "print(mixed_list)"
   ]
  },
  {
   "cell_type": "code",
   "execution_count": 15,
   "id": "10bacaaa-f8ff-4408-8285-ea25629bb5ae",
   "metadata": {},
   "outputs": [
    {
     "data": {
      "text/plain": [
       "2"
      ]
     },
     "execution_count": 15,
     "metadata": {},
     "output_type": "execute_result"
    }
   ],
   "source": [
    "# indexing list-----.index()\n",
    "\n",
    "marks = [98,86,79,80]\n",
    "marks.index(79)\n",
    "# print(marks)"
   ]
  },
  {
   "cell_type": "code",
   "execution_count": 21,
   "id": "d5ac825a-35c0-4534-bf42-24490de99c05",
   "metadata": {},
   "outputs": [
    {
     "name": "stdout",
     "output_type": "stream",
     "text": [
      "25\n",
      "20\n"
     ]
    }
   ],
   "source": [
    "number = [5,10,15,20,25]\n",
    "# number.index(25)\n",
    "print(number[4])\n",
    "print(number[-2])      # negative index"
   ]
  },
  {
   "cell_type": "code",
   "execution_count": 23,
   "id": "0549d3b5-85f5-4ff6-a4f5-3a56dda137ab",
   "metadata": {},
   "outputs": [
    {
     "name": "stdout",
     "output_type": "stream",
     "text": [
      "[1, 2, 3, 4, 9, 7]\n",
      "[3, 4, 9]\n",
      "[9, 7]\n"
     ]
    }
   ],
   "source": [
    "# slicing list\n",
    "# start index(inclusive) : end index(exclusive) : step\n",
    "\n",
    "numbers = [1,2,3,4,9,7,8]\n",
    "print(numbers[:6])\n",
    "print(numbers[2:5])\n",
    "print(numbers[-3:-1])"
   ]
  },
  {
   "cell_type": "code",
   "execution_count": 27,
   "id": "413b8601-c7aa-40c5-9536-ee367f7532d2",
   "metadata": {},
   "outputs": [
    {
     "data": {
      "text/plain": [
       "['sita', 'ram', 'sham', 'gita']"
      ]
     },
     "execution_count": 27,
     "metadata": {},
     "output_type": "execute_result"
    }
   ],
   "source": [
    "# list method \n",
    "# append()  method --- element can added to the list by using the built in function.only one\n",
    "#                      element at a time can be added to the list by using append() method.\n",
    "# syntax : list_name.append(not implemented)\n",
    "\n",
    "name = ['sita','ram','sham']\n",
    "name.append('gita')\n",
    "name\n"
   ]
  },
  {
   "cell_type": "code",
   "execution_count": 29,
   "id": "de9b64d7-2798-4a6c-985e-da8751316a0f",
   "metadata": {},
   "outputs": [
    {
     "data": {
      "text/plain": [
       "['apple', 'mango', 'grapes', ['banana', 'choco']]"
      ]
     },
     "execution_count": 29,
     "metadata": {},
     "output_type": "execute_result"
    }
   ],
   "source": [
    "fruits = ['apple', 'mango', 'grapes']\n",
    "fruits.append(['banana','choco'])\n",
    "fruits"
   ]
  },
  {
   "cell_type": "code",
   "execution_count": 33,
   "id": "f1e33af3-4705-4c4c-9a38-8a87484dba20",
   "metadata": {},
   "outputs": [
    {
     "data": {
      "text/plain": [
       "['apple', 'mango', 'gauva', 'pineapple']"
      ]
     },
     "execution_count": 33,
     "metadata": {},
     "output_type": "execute_result"
    }
   ],
   "source": [
    "# insert method\n",
    "# syntax : list_name.insert(position,elements)\n",
    "\n",
    "fruits = ['apple','mango','pineapple']\n",
    "fruits.insert(2,'gauva')\n",
    "fruits\n",
    "\n"
   ]
  },
  {
   "cell_type": "code",
   "execution_count": 37,
   "id": "485ad0b7-3ee7-40e2-a1b3-a88ef00c93cf",
   "metadata": {},
   "outputs": [
    {
     "data": {
      "text/plain": [
       "[2, 4, 6, [8, 9], 7.1, 10]"
      ]
     },
     "execution_count": 37,
     "metadata": {},
     "output_type": "execute_result"
    }
   ],
   "source": [
    "x = [2,4,6,10]\n",
    "x.insert(3,7.1)\n",
    "x.insert(3,[8,9])\n",
    "x"
   ]
  },
  {
   "cell_type": "code",
   "execution_count": 39,
   "id": "4c00e011-873d-483b-a161-51d5327e1266",
   "metadata": {},
   "outputs": [
    {
     "data": {
      "text/plain": [
       "['apple', 'mango', 'pineapple', 'gauve', 'orange']"
      ]
     },
     "execution_count": 39,
     "metadata": {},
     "output_type": "execute_result"
    }
   ],
   "source": [
    "# extend() method ---- other than append() and insert() method, there one more method for addition of elements, \n",
    "#                      extend(), this method is use to add multiple elements at the same time at the end of the list.\n",
    "# syntax : list_name.extend([element1,element2,....])\n",
    "\n",
    "\n",
    "fruits = ['apple','mango','pineapple']\n",
    "fruits.extend(['gauve','orange'])\n",
    "fruits\n",
    "            \n"
   ]
  },
  {
   "cell_type": "code",
   "execution_count": 41,
   "id": "72d07080-1f4e-4eff-9158-44f730553111",
   "metadata": {},
   "outputs": [
    {
     "data": {
      "text/plain": [
       "['mango', 'pineapple', 'apple', 'orange']"
      ]
     },
     "execution_count": 41,
     "metadata": {},
     "output_type": "execute_result"
    }
   ],
   "source": [
    "# remove() method\n",
    "# note --- remove method in list will only remove the first occurance of  this search elements.\n",
    "# syntax : list_name.remove(elements)\n",
    "\n",
    "\n",
    "fruits = ['apple','mango','pineapple','apple','orange']\n",
    "fruits.remove('apple')\n",
    "fruits"
   ]
  },
  {
   "cell_type": "code",
   "execution_count": 43,
   "id": "cf39ccaa-ba31-4512-9d44-2f87681e447b",
   "metadata": {},
   "outputs": [
    {
     "data": {
      "text/plain": [
       "[2, 4, 6, 8]"
      ]
     },
     "execution_count": 43,
     "metadata": {},
     "output_type": "execute_result"
    }
   ],
   "source": [
    "# pop() method --- pop function can also be use to remove and return an elements from the list, but by defualt it \n",
    "#                  remove only the last element of the list, to remove an element from the specific postion of the list, \n",
    "#                  the index of the element is pass an argument to the pop method\n",
    "# syntax : list_name.pop() ---- last element\n",
    "#          list_name.pop(position) ---- position element\n",
    "\n",
    "\n",
    "x = [2,4,6,8,10]\n",
    "x.pop()\n",
    "x"
   ]
  },
  {
   "cell_type": "code",
   "execution_count": 45,
   "id": "5960c072-a2c4-42c4-b40e-e7f0607a5319",
   "metadata": {},
   "outputs": [
    {
     "data": {
      "text/plain": [
       "8"
      ]
     },
     "execution_count": 45,
     "metadata": {},
     "output_type": "execute_result"
    }
   ],
   "source": [
    "x.pop(3)"
   ]
  },
  {
   "cell_type": "code",
   "execution_count": 47,
   "id": "d426ec7f-cdd3-4f01-801e-a3cb727e20d3",
   "metadata": {},
   "outputs": [
    {
     "data": {
      "text/plain": [
       "['grapes', 'banana', 'mango', 'apple']"
      ]
     },
     "execution_count": 47,
     "metadata": {},
     "output_type": "execute_result"
    }
   ],
   "source": [
    "# reversing list\n",
    "# syntax : list_name.reverse()\n",
    "\n",
    "fruits = ['apple','mango','banana','grapes']\n",
    "fruits.reverse()\n",
    "fruits"
   ]
  },
  {
   "cell_type": "code",
   "execution_count": 49,
   "id": "741dda24-064d-4332-9ceb-c7ef1118e88c",
   "metadata": {},
   "outputs": [
    {
     "name": "stdout",
     "output_type": "stream",
     "text": [
      "4\n"
     ]
    }
   ],
   "source": [
    "# len function\n",
    "\n",
    "fruits = ['apple','mango','banana','grapes']\n",
    "print(len(fruits))"
   ]
  },
  {
   "cell_type": "code",
   "execution_count": 51,
   "id": "90c690f2-129d-4d66-abf5-e9ccc09e64e4",
   "metadata": {},
   "outputs": [
    {
     "data": {
      "text/plain": [
       "[]"
      ]
     },
     "execution_count": 51,
     "metadata": {},
     "output_type": "execute_result"
    }
   ],
   "source": [
    "# clear\n",
    "\n",
    "fruits = ['apple','mango','banana','grapes']\n",
    "fruits.clear()\n",
    "fruits"
   ]
  },
  {
   "cell_type": "code",
   "execution_count": 53,
   "id": "2713a531-9eb3-4643-97ca-94949da0e2e0",
   "metadata": {},
   "outputs": [
    {
     "data": {
      "text/plain": [
       "[3, 7, 8, 35, 54, 83, 98]"
      ]
     },
     "execution_count": 53,
     "metadata": {},
     "output_type": "execute_result"
    }
   ],
   "source": [
    "# sort --- assending order\n",
    "\n",
    "number = [83,98,3,7,54,35,8]\n",
    "number.sort()\n",
    "number"
   ]
  },
  {
   "cell_type": "code",
   "execution_count": 55,
   "id": "8f65df07-fcde-41b1-ab58-c2a7a2ed7853",
   "metadata": {},
   "outputs": [
    {
     "data": {
      "text/plain": [
       "[98, 83, 54, 35, 8, 7, 3]"
      ]
     },
     "execution_count": 55,
     "metadata": {},
     "output_type": "execute_result"
    }
   ],
   "source": [
    "# reverse sort --- decending order\n",
    "\n",
    "number = [83,98,3,7,54,35,8]\n",
    "number.sort(reverse = True)\n",
    "number\n"
   ]
  },
  {
   "cell_type": "code",
   "execution_count": 57,
   "id": "7b387d99-3cf7-48bd-8573-7b62d27b664e",
   "metadata": {},
   "outputs": [
    {
     "data": {
      "text/plain": [
       "['#', '?', 'chat', 'chocolate', 'dosa', 'vadapav']"
      ]
     },
     "execution_count": 57,
     "metadata": {},
     "output_type": "execute_result"
    }
   ],
   "source": [
    "mixed_list = ['vadapav','dosa','chocolate','chat','#','?']\n",
    "mixed_list.sort()\n",
    "mixed_list"
   ]
  },
  {
   "cell_type": "code",
   "execution_count": 59,
   "id": "55f66e11-6bc8-49b3-9797-94d25794f369",
   "metadata": {},
   "outputs": [
    {
     "data": {
      "text/plain": [
       "['vadapav', 'dosa', 'chocolate', 'chat', '?', '#']"
      ]
     },
     "execution_count": 59,
     "metadata": {},
     "output_type": "execute_result"
    }
   ],
   "source": [
    "mixed_list = ['vadapav','dosa','chocolate','chat','#','?']\n",
    "mixed_list.sort(reverse = True)\n",
    "mixed_list"
   ]
  },
  {
   "cell_type": "code",
   "execution_count": null,
   "id": "e09c84f0-4bdc-48ad-b74d-c08b5e2eabbd",
   "metadata": {},
   "outputs": [],
   "source": [
    "# list support item assignment\n",
    "\n",
    "veg = "
   ]
  }
 ],
 "metadata": {
  "kernelspec": {
   "display_name": "Python [conda env:base] *",
   "language": "python",
   "name": "conda-base-py"
  },
  "language_info": {
   "codemirror_mode": {
    "name": "ipython",
    "version": 3
   },
   "file_extension": ".py",
   "mimetype": "text/x-python",
   "name": "python",
   "nbconvert_exporter": "python",
   "pygments_lexer": "ipython3",
   "version": "3.12.7"
  }
 },
 "nbformat": 4,
 "nbformat_minor": 5
}
