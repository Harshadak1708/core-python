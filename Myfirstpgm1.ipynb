{
 "cells": [
  {
   "cell_type": "code",
   "execution_count": 3,
   "id": "a5099e54-e4a1-4295-9364-0d2b082fab23",
   "metadata": {},
   "outputs": [
    {
     "name": "stdout",
     "output_type": "stream",
     "text": [
      "Hello World\n"
     ]
    }
   ],
   "source": [
    "# First program\n",
    "print(\"Hello World\")"
   ]
  },
  {
   "cell_type": "code",
   "execution_count": 3,
   "id": "484f7476-bd1c-4141-85dd-19d58e5def6b",
   "metadata": {},
   "outputs": [
    {
     "name": "stdout",
     "output_type": "stream",
     "text": [
      "11\n"
     ]
    }
   ],
   "source": [
    "#Summation program\n",
    "a = 5\n",
    "b = 6\n",
    "sum = a + b\n",
    "print(sum)"
   ]
  },
  {
   "cell_type": "code",
   "execution_count": 1,
   "id": "436e608a-49a4-4154-bb75-79f874b4a892",
   "metadata": {},
   "outputs": [
    {
     "name": "stdout",
     "output_type": "stream",
     "text": [
      "3\n",
      "10\n"
     ]
    }
   ],
   "source": [
    "# int() - Convert to integer\n",
    "x = int(3.7)\n",
    "y = int(\"10\")\n",
    "print(x)\n",
    "print(y)"
   ]
  },
  {
   "cell_type": "code",
   "execution_count": 5,
   "id": "45ed7893-f894-47a7-b6cb-be80d3e5547b",
   "metadata": {},
   "outputs": [
    {
     "name": "stdout",
     "output_type": "stream",
     "text": [
      "Harsha\n"
     ]
    }
   ],
   "source": [
    "print = 5\n",
    "#print(print)\n",
    "del print\n",
    "print(\"Harsha\")"
   ]
  },
  {
   "cell_type": "code",
   "execution_count": null,
   "id": "99fa69ac-6869-42fc-bbdd-fcce1c999feb",
   "metadata": {},
   "outputs": [],
   "source": [
    "# string we can write in '  ',\"  \","
   ]
  },
  {
   "cell_type": "code",
   "execution_count": 11,
   "id": "76f13de2-031d-402c-9271-ceef0b027092",
   "metadata": {},
   "outputs": [
    {
     "name": "stdout",
     "output_type": "stream",
     "text": [
      "Electronics\n",
      "text[0:5]    : Elect\n",
      "text [2:9:2] : etoi\n",
      "text[-3:]    : ics\n",
      "text[:4]     : Elec\n",
      "text[::2]    : Eetois\n"
     ]
    }
   ],
   "source": [
    "# types of slicing\n",
    "# positive & Negative\n",
    "\n",
    "from typing import Text\n",
    "# string slicing examples\n",
    "#[3:7:2] = [inclusive:exclusive:step][start:end:step]\n",
    "# E l e c t r o n i c s\n",
    "# 0 1 2 3 4 5 6 7 8 9 10 \n",
    "\n",
    "Text = \"Electronics\"\n",
    "print(Text)\n",
    "# basic slices\n",
    "print(\"text[0:5]    :\", Text[0:5])\n",
    "print(\"text [2:9:2] :\", Text[2:9:2]) \n",
    "print(\"text[-3:]    :\", Text[-3:])  # Use(-) last characters\n",
    "print(\"text[:4]     :\", Text[:4])  # Use for Reverse string = [:]\n",
    "print(\"text[::2]    :\", Text[::2]) # Use for 1 by 1 "
   ]
  },
  {
   "cell_type": "code",
   "execution_count": 15,
   "id": "36d26306-04d0-418a-9d47-29a0a69163d6",
   "metadata": {},
   "outputs": [
    {
     "name": "stdout",
     "output_type": "stream",
     "text": [
      "ecneicsatad\n"
     ]
    }
   ],
   "source": [
    "# Program for reverse string\n",
    "text = \"datascience\"\n",
    "print(text[::-1])"
   ]
  },
  {
   "cell_type": "code",
   "execution_count": 17,
   "id": "8ed40bca-eed2-4f42-99f7-cf4d6f73a461",
   "metadata": {},
   "outputs": [
    {
     "name": "stdout",
     "output_type": "stream",
     "text": [
      "SUNSHINE\n",
      "sunshine\n",
      "moonlight\n"
     ]
    }
   ],
   "source": [
    "# changing case - upper/lower/swap\n",
    "#Covert to upper/lower/replace\n",
    "text = \"sunshine\"\n",
    "print(text.upper())                             # text.upper()\n",
    "print(text.lower())                             # text.lower()\n",
    "print(text.replace(\"sunshine\",\"moonlight\"))     # text.replace(old,new)"
   ]
  },
  {
   "cell_type": "code",
   "execution_count": 19,
   "id": "e36b16f5-4fa8-4061-b6b0-a0754d67ec35",
   "metadata": {},
   "outputs": [
    {
     "name": "stdout",
     "output_type": "stream",
     "text": [
      "python is fun\n"
     ]
    }
   ],
   "source": [
    "# joining a string  #.join()\n",
    "words = [\"python\",  \"is\", \"fun\"]\n",
    "sentence = \" \".join(words)\n",
    "print(sentence)\n",
    "\n"
   ]
  },
  {
   "cell_type": "code",
   "execution_count": 21,
   "id": "12e957a9-71a3-44d1-ace3-cf70c4d08725",
   "metadata": {},
   "outputs": [
    {
     "name": "stdout",
     "output_type": "stream",
     "text": [
      "['apple', 'banana', 'grapes']\n"
     ]
    }
   ],
   "source": [
    "#splitting a string   #.split(\",\")\n",
    "text = \"apple,banana,grapes\"\n",
    "fruits = text.split(\",\")\n",
    "print(fruits)\n"
   ]
  },
  {
   "cell_type": "code",
   "execution_count": 23,
   "id": "5720feb6-8beb-4660-b469-2ef7cba9d956",
   "metadata": {},
   "outputs": [
    {
     "name": "stdout",
     "output_type": "stream",
     "text": [
      "True\n",
      "6\n"
     ]
    }
   ],
   "source": [
    "# searching in a string   #.find()\n",
    "text = \"learn python\"\n",
    "print(\"python\" in text)\n",
    "print(text.find(\"python\"))\n"
   ]
  },
  {
   "cell_type": "code",
   "execution_count": 34,
   "id": "97d47a17-8853-4999-af80-dd14e49784b3",
   "metadata": {},
   "outputs": [
    {
     "name": "stdout",
     "output_type": "stream",
     "text": [
      "hello harsha\n"
     ]
    }
   ],
   "source": [
    "# strip()  #.strip()\n",
    "text = \"   hello harsha   \"\n",
    "print(text.strip())"
   ]
  },
  {
   "cell_type": "code",
   "execution_count": 36,
   "id": "22ed2800-c771-4988-8528-ae6226d6e32d",
   "metadata": {},
   "outputs": [
    {
     "name": "stdout",
     "output_type": "stream",
     "text": [
      "9\n"
     ]
    }
   ],
   "source": [
    "# length()   #len(text)\n",
    "text = \"hey buddy\"\n",
    "print(len(text))"
   ]
  },
  {
   "cell_type": "code",
   "execution_count": null,
   "id": "021abfe9-86a8-4ae0-bfb8-b7503b944c99",
   "metadata": {},
   "outputs": [],
   "source": []
  }
 ],
 "metadata": {
  "kernelspec": {
   "display_name": "Python [conda env:base] *",
   "language": "python",
   "name": "conda-base-py"
  },
  "language_info": {
   "codemirror_mode": {
    "name": "ipython",
    "version": 3
   },
   "file_extension": ".py",
   "mimetype": "text/x-python",
   "name": "python",
   "nbconvert_exporter": "python",
   "pygments_lexer": "ipython3",
   "version": "3.12.7"
  }
 },
 "nbformat": 4,
 "nbformat_minor": 5
}
