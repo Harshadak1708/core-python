{
 "cells": [
  {
   "cell_type": "code",
   "execution_count": 1,
   "id": "3bb7462e-013d-42d6-9850-52ca6c7a0983",
   "metadata": {},
   "outputs": [
    {
     "name": "stdout",
     "output_type": "stream",
     "text": [
      "Requirement already satisfied: numpy in c:\\users\\harsh\\anaconda3\\lib\\site-packages (1.26.4)\n",
      "Note: you may need to restart the kernel to use updated packages.\n"
     ]
    }
   ],
   "source": [
    "pip install numpy"
   ]
  },
  {
   "cell_type": "code",
   "execution_count": 3,
   "id": "4dd8b865-dff4-4c4c-b71c-69ac8bcc99a0",
   "metadata": {},
   "outputs": [],
   "source": [
    "import numpy"
   ]
  },
  {
   "cell_type": "code",
   "execution_count": 5,
   "id": "6f81547d-4a07-4210-a158-e227c6c840bf",
   "metadata": {},
   "outputs": [
    {
     "name": "stdout",
     "output_type": "stream",
     "text": [
      "1.26.4\n"
     ]
    }
   ],
   "source": [
    "import numpy as np\n",
    "print(np.__version__)"
   ]
  },
  {
   "cell_type": "code",
   "execution_count": null,
   "id": "74c257b8-dcc5-43d4-b99e-13b0ca64b977",
   "metadata": {},
   "outputs": [],
   "source": [
    "we can write numpy as np in short "
   ]
  },
  {
   "cell_type": "code",
   "execution_count": null,
   "id": "65240e29-29f4-44a5-adcf-f5df668e9907",
   "metadata": {},
   "outputs": [],
   "source": [
    "# Advanced Python\n",
    "# Numpy is a general purpose array-processing package.\n",
    "# It stands for numerical python, is a fundamental library for numerical and scientific computing in python.\n",
    "# It provides support for large, multi dimentional arrays and matrices, along with a collection of mathematical functions to operate \n",
    "# on these arrays efficiently"
   ]
  },
  {
   "cell_type": "code",
   "execution_count": null,
   "id": "10d21d95-d968-4606-a2c8-6214ca637d3f",
   "metadata": {},
   "outputs": [],
   "source": [
    "# Numpy is usually imported under the np alias.\n",
    "# * Alias: In python alias are an alternate name for referring to the same thing."
   ]
  },
  {
   "cell_type": "code",
   "execution_count": 7,
   "id": "973c056e-7c00-49e6-b17e-fe6ab7f52d51",
   "metadata": {},
   "outputs": [],
   "source": [
    "# import numpy as alias np\n",
    "import numpy as np"
   ]
  },
  {
   "cell_type": "raw",
   "id": "c6d0b737-2bc0-44c3-809b-0663b7fc0e48",
   "metadata": {},
   "source": [
    "Difference between list an array\n"
   ]
  },
  {
   "cell_type": "code",
   "execution_count": null,
   "id": "0c8887f3-6972-4607-b144-7a429925c73d",
   "metadata": {},
   "outputs": [],
   "source": [
    "# Create an array using numpy\n",
    "# Numpy is used to work with arrays. The array object in Numpy is called ndarray.\n",
    "# we can create a Numpy ndarray object by using the array() function.\n",
    "\n",
    "# Array is a linear data structure where all elements are arranged sequentially. It is a collection of elements of same data type stored at contiguous\n",
    "# memory location\n",
    "\n",
    "# to create ndarray, we can pass a list, tuple or any array like object into the array() method, and it will be converted into a ndarray:\n",
    "\n",
    "# three types in arrays: 1D, 2D, 3D\n"
   ]
  },
  {
   "cell_type": "code",
   "execution_count": 9,
   "id": "ba33aeaf-a416-4f46-8d22-a42a2b9863ec",
   "metadata": {},
   "outputs": [
    {
     "name": "stdout",
     "output_type": "stream",
     "text": [
      "[1 2 3 4 5]\n",
      "<class 'numpy.ndarray'>\n",
      "<class 'list'>\n"
     ]
    }
   ],
   "source": [
    "import numpy as np\n",
    "l = [1,2,3,4]\n",
    "arr = np.array([1,2,3,4,5])\n",
    "\n",
    "print(arr)\n",
    "print(type(arr))\n",
    "print(type(l))"
   ]
  },
  {
   "cell_type": "code",
   "execution_count": 13,
   "id": "b1ba3548-e01e-4a36-b890-407dd44f88ee",
   "metadata": {},
   "outputs": [
    {
     "name": "stdout",
     "output_type": "stream",
     "text": [
      "42\n"
     ]
    },
    {
     "data": {
      "text/plain": [
       "numpy.ndarray"
      ]
     },
     "execution_count": 13,
     "metadata": {},
     "output_type": "execute_result"
    }
   ],
   "source": [
    "# 0D array (scalar)\n",
    "arr_0d = np.array(42)   # A single number - like a point\n",
    "print(arr_0d)\n",
    "type(arr_0d)"
   ]
  },
  {
   "cell_type": "code",
   "execution_count": 17,
   "id": "33ab1872-ee2d-4c88-a0fc-e7339aa392d5",
   "metadata": {},
   "outputs": [
    {
     "name": "stdout",
     "output_type": "stream",
     "text": [
      "1D Array: [1 2 3 4]\n"
     ]
    }
   ],
   "source": [
    "# 1-D array --- a simple list of numbers - like row.\n",
    "\n",
    "arr_1d = np.array([1,2,3,4])\n",
    "print(\"1D Array:\", arr_1d)"
   ]
  },
  {
   "cell_type": "code",
   "execution_count": 19,
   "id": "a2df24bf-5452-45b0-b3b1-d3071dde7cb9",
   "metadata": {},
   "outputs": [
    {
     "name": "stdout",
     "output_type": "stream",
     "text": [
      "2d array:\n",
      " [[1 2]\n",
      " [3 4]]\n"
     ]
    }
   ],
   "source": [
    "# 2-D Array(Matrix) -- A table with rows and columns.\n",
    "arr_2d = np.array([[1,2], [3,4]])\n",
    "print(\"2d array:\\n\", arr_2d)"
   ]
  },
  {
   "cell_type": "code",
   "execution_count": 21,
   "id": "ac8b6766-7d7b-43ad-95f3-68e65c4dee07",
   "metadata": {},
   "outputs": [
    {
     "name": "stdout",
     "output_type": "stream",
     "text": [
      "3-D array:\n",
      " [[[1 2 3]\n",
      "  [3 4 5]\n",
      "  [6 5 3]]]\n"
     ]
    }
   ],
   "source": [
    "# 3-D array\n",
    "arr_3d = np.array([[[1,2,3],[3,4,5],[6,5,3]]])\n",
    "print(\"3-D array:\\n\", arr_3d)"
   ]
  },
  {
   "cell_type": "code",
   "execution_count": null,
   "id": "c7457457-99c3-41a5-8f32-466e64c15d8b",
   "metadata": {},
   "outputs": [],
   "source": [
    "# Array inspection -- These functions help you inspect, understand, and convert arrays easily. very useful for\n",
    "# debugging and data processing in Numpy."
   ]
  },
  {
   "cell_type": "code",
   "execution_count": 25,
   "id": "0e3ab997-867d-4377-9afe-6082b722168c",
   "metadata": {},
   "outputs": [],
   "source": [
    "import numpy as np\n",
    "arr = np.array([[1,2,3],[4,5,6]])"
   ]
  },
  {
   "cell_type": "code",
   "execution_count": 27,
   "id": "3a7fde48-2dc7-4175-ab68-22ab5a8032d0",
   "metadata": {},
   "outputs": [
    {
     "name": "stdout",
     "output_type": "stream",
     "text": [
      "(2, 3)\n"
     ]
    }
   ],
   "source": [
    "# shape --- tells you the structure\n",
    "\n",
    "print(arr.shape)  "
   ]
  },
  {
   "cell_type": "code",
   "execution_count": 29,
   "id": "e941dec5-c4a3-49d8-a782-f2f5e476b93a",
   "metadata": {},
   "outputs": [
    {
     "name": "stdout",
     "output_type": "stream",
     "text": [
      "6\n"
     ]
    }
   ],
   "source": [
    "# size --- total elements\n",
    "\n",
    "print(arr.size)"
   ]
  },
  {
   "cell_type": "code",
   "execution_count": 31,
   "id": "57042576-8592-4971-80e8-b81b474e1b2b",
   "metadata": {},
   "outputs": [
    {
     "name": "stdout",
     "output_type": "stream",
     "text": [
      "1\n",
      "6\n"
     ]
    }
   ],
   "source": [
    "# min and max\n",
    "\n",
    "print(arr.min())\n",
    "print(arr.max())"
   ]
  },
  {
   "cell_type": "code",
   "execution_count": 35,
   "id": "128b7444-4b4b-4c06-b0e5-85d529cb1681",
   "metadata": {},
   "outputs": [
    {
     "name": "stdout",
     "output_type": "stream",
     "text": [
      "int32\n"
     ]
    }
   ],
   "source": [
    "# dtype\n",
    "\n",
    "print(arr.dtype)"
   ]
  },
  {
   "cell_type": "code",
   "execution_count": 37,
   "id": "7cb133ee-f54c-4722-baff-eb50fbcb05c9",
   "metadata": {},
   "outputs": [
    {
     "name": "stdout",
     "output_type": "stream",
     "text": [
      "[[1. 2. 3.]\n",
      " [4. 5. 6.]]\n"
     ]
    }
   ],
   "source": [
    "# change data type\n",
    "\n",
    "arr_float = arr.astype(float)\n",
    "print(arr_float)"
   ]
  },
  {
   "cell_type": "code",
   "execution_count": 39,
   "id": "2418d646-3b70-44fa-8e55-cd2a57b0d04d",
   "metadata": {},
   "outputs": [
    {
     "data": {
      "text/plain": [
       "3"
      ]
     },
     "execution_count": 39,
     "metadata": {},
     "output_type": "execute_result"
    }
   ],
   "source": [
    "# ndim\n",
    "\n",
    "arr1 = np.array([[[1,2,3], [4,5,6]], [[1,2,3], [4,5,6]]])\n",
    "arr_ndim = arr1.ndim\n",
    "arr_ndim"
   ]
  },
  {
   "cell_type": "code",
   "execution_count": 41,
   "id": "35d998d4-ea06-42db-92f7-e5a17643e11a",
   "metadata": {},
   "outputs": [
    {
     "data": {
      "text/plain": [
       "array([[[1, 2, 3],\n",
       "        [4, 5, 6]],\n",
       "\n",
       "       [[1, 2, 3],\n",
       "        [4, 5, 6]]])"
      ]
     },
     "execution_count": 41,
     "metadata": {},
     "output_type": "execute_result"
    }
   ],
   "source": [
    "arr1"
   ]
  },
  {
   "cell_type": "code",
   "execution_count": 45,
   "id": "e3007c19-cbf4-48c4-9330-069f4119594e",
   "metadata": {},
   "outputs": [
    {
     "name": "stdout",
     "output_type": "stream",
     "text": [
      "(2, 3, 4)\n"
     ]
    },
    {
     "data": {
      "text/plain": [
       "3"
      ]
     },
     "execution_count": 45,
     "metadata": {},
     "output_type": "execute_result"
    }
   ],
   "source": [
    "import numpy as np\n",
    "\n",
    "arr = np.array([[[1,2,3,4],\n",
    "                 [5,6,7,8],\n",
    "                 [9,10,11,12]],\n",
    "\n",
    "                [[13,14,15,16],\n",
    "                 [17,18,19,20],\n",
    "                 [21,22,23,24]]])\n",
    "print(arr.shape)\n",
    "arr_ndim\n",
    "\n",
    "# 1st -- depth (no. of layers), 2nd -- rows per matrix, 3rd -- columns per row"
   ]
  },
  {
   "cell_type": "code",
   "execution_count": 1,
   "id": "e84b11ac-a8ca-4111-8a24-3790cd35505b",
   "metadata": {},
   "outputs": [
    {
     "data": {
      "text/plain": [
       "[1, 2, 3, 4, 1, 2, 3, 4, 1, 2, 3, 4, 1, 2, 3, 4]"
      ]
     },
     "execution_count": 1,
     "metadata": {},
     "output_type": "execute_result"
    }
   ],
   "source": [
    "l = [1,2,3,4]\n",
    "l = l * 4\n",
    "l"
   ]
  },
  {
   "cell_type": "code",
   "execution_count": null,
   "id": "3924c4fe-0042-45d0-8d71-bdf7bee6e18c",
   "metadata": {},
   "outputs": [],
   "source": [
    "# # Why Numpy?\n",
    "# Memory - Numpy data structures take up less space.\n",
    "# Performance - They have a need for speed and are faster than list\n",
    "# Functionallity - Scipy and Numpy have optimized functions such as linear algebra operations built in."
   ]
  },
  {
   "cell_type": "code",
   "execution_count": 5,
   "id": "a149fbaa-3db7-48ef-a9aa-a3f77d9be3f5",
   "metadata": {},
   "outputs": [
    {
     "name": "stdout",
     "output_type": "stream",
     "text": [
      "[[0 0 0]\n",
      " [0 0 0]\n",
      " [0 0 0]\n",
      " [0 0 0]\n",
      " [0 0 0]]\n"
     ]
    }
   ],
   "source": [
    "# Different ways of creating an ndarray\n",
    "\n",
    "# uninitialized\n",
    "# creating an uninitialized array of a specified shape\n",
    "import numpy as np\n",
    "uninitialized_array = np.empty([5,3], dtype = int)\n",
    "print(uninitialized_array)"
   ]
  },
  {
   "cell_type": "code",
   "execution_count": 11,
   "id": "f511bf26-72b8-4c6a-b382-15a79604fb64",
   "metadata": {},
   "outputs": [
    {
     "name": "stdout",
     "output_type": "stream",
     "text": [
      "[[0. 0. 0.]\n",
      " [0. 0. 0.]\n",
      " [0. 0. 0.]]\n",
      "[[0 0 0]\n",
      " [0 0 0]\n",
      " [0 0 0]\n",
      " [0 0 0]]\n"
     ]
    }
   ],
   "source": [
    "# Initialized with zeros\n",
    "# Initializing the arrays with zeros\n",
    "zeros_array = np.zeros((3,3))\n",
    "another_zeros_array = np.zeros((4,3), dtype = int)\n",
    "print(zeros_array)\n",
    "print(another_zeros_array)"
   ]
  },
  {
   "cell_type": "code",
   "execution_count": 1,
   "id": "20769e43-0672-4dcc-b76f-47b5cdc3a722",
   "metadata": {},
   "outputs": [
    {
     "name": "stdout",
     "output_type": "stream",
     "text": [
      "Pixel (10,20) maps to (11, 22) in image 2\n"
     ]
    }
   ],
   "source": [
    "# HW create a 5D array by using all functions ---- identity 2D\n",
    "\n",
    "import numpy as np\n",
    "\n",
    "H, W = 100, 100  # dimensions of image\n",
    "N = 5  # number of other images\n",
    "\n",
    "# Initialize the mapping array\n",
    "map_array = np.zeros((H, W, N, 2), dtype=np.int32)\n",
    "\n",
    "# Example: let's map each pixel to (y+1, x+2) in every nth image\n",
    "for y in range(H):\n",
    "    for x in range(W):\n",
    "        for n in range(N):\n",
    "            map_array[y, x, n, 0] = y + 1  # y coordinate in nth image\n",
    "            map_array[y, x, n, 1] = x + 2  # x coordinate in nth image\n",
    "\n",
    "# Access mapping to the 3rd image (index 2) from pixel at (10, 20)\n",
    "mapped_y = map_array[10, 20, 2, 0]\n",
    "mapped_x = map_array[10, 20, 2, 1]\n",
    "\n",
    "print(f\"Pixel (10,20) maps to ({mapped_y}, {mapped_x}) in image 2\")\n"
   ]
  },
  {
   "cell_type": "code",
   "execution_count": 15,
   "id": "3e8c53e5-80a4-49f8-8dcd-5e02b8e51048",
   "metadata": {},
   "outputs": [
    {
     "name": "stdout",
     "output_type": "stream",
     "text": [
      "[[[[[0 0 0 0 0]\n",
      "    [0 0 0 0 0]\n",
      "    [0 0 0 0 0]\n",
      "    [0 0 0 0 0]]\n",
      "\n",
      "   [[0 0 0 0 0]\n",
      "    [0 0 0 0 0]\n",
      "    [0 0 0 0 0]\n",
      "    [0 0 0 0 0]]\n",
      "\n",
      "   [[0 0 0 0 0]\n",
      "    [0 0 0 0 0]\n",
      "    [0 0 0 0 0]\n",
      "    [0 0 0 0 0]]]\n",
      "\n",
      "\n",
      "  [[[0 0 0 0 0]\n",
      "    [0 0 0 0 0]\n",
      "    [0 0 0 0 0]\n",
      "    [0 0 0 0 0]]\n",
      "\n",
      "   [[0 0 0 0 0]\n",
      "    [0 0 0 0 0]\n",
      "    [0 0 0 0 0]\n",
      "    [0 0 0 0 0]]\n",
      "\n",
      "   [[0 0 0 0 0]\n",
      "    [0 0 0 0 0]\n",
      "    [0 0 0 0 0]\n",
      "    [0 0 0 0 0]]]]]\n"
     ]
    }
   ],
   "source": [
    "import numpy as np   #---- without using identity matrix that is 2D\n",
    "array_5D = np.zeros((1,2,3,4,5), dtype = int)\n",
    "print(array_5D)"
   ]
  },
  {
   "cell_type": "code",
   "execution_count": 3,
   "id": "c9e0ec51-328a-4b1d-8023-6949e4cbfa8a",
   "metadata": {},
   "outputs": [
    {
     "name": "stdout",
     "output_type": "stream",
     "text": [
      "5D Array Shape: (2, 2, 3, 3, 2)\n",
      "5D Array:\n",
      " [[[[[1. 1.]\n",
      "    [0. 0.]\n",
      "    [0. 0.]]\n",
      "\n",
      "   [[0. 0.]\n",
      "    [1. 1.]\n",
      "    [0. 0.]]\n",
      "\n",
      "   [[0. 0.]\n",
      "    [0. 0.]\n",
      "    [1. 1.]]]\n",
      "\n",
      "\n",
      "  [[[1. 1.]\n",
      "    [0. 0.]\n",
      "    [0. 0.]]\n",
      "\n",
      "   [[0. 0.]\n",
      "    [1. 1.]\n",
      "    [0. 0.]]\n",
      "\n",
      "   [[0. 0.]\n",
      "    [0. 0.]\n",
      "    [1. 1.]]]]\n",
      "\n",
      "\n",
      "\n",
      " [[[[1. 1.]\n",
      "    [0. 0.]\n",
      "    [0. 0.]]\n",
      "\n",
      "   [[0. 0.]\n",
      "    [1. 1.]\n",
      "    [0. 0.]]\n",
      "\n",
      "   [[0. 0.]\n",
      "    [0. 0.]\n",
      "    [1. 1.]]]\n",
      "\n",
      "\n",
      "  [[[1. 1.]\n",
      "    [0. 0.]\n",
      "    [0. 0.]]\n",
      "\n",
      "   [[0. 0.]\n",
      "    [1. 1.]\n",
      "    [0. 0.]]\n",
      "\n",
      "   [[0. 0.]\n",
      "    [0. 0.]\n",
      "    [1. 1.]]]]]\n"
     ]
    }
   ],
   "source": [
    "import numpy as np\n",
    "\n",
    "# Step 1: Create a 2D identity matrix\n",
    "identity_2d = np.identity(3)  # shape: (3, 3)\n",
    "\n",
    "# Step 2: Expand dimensions to make it 3D\n",
    "identity_3d = identity_2d[np.newaxis, :, :]  # shape: (1, 3, 3)\n",
    "\n",
    "# Step 3: Expand to 4D using np.expand_dims\n",
    "identity_4d = np.expand_dims(identity_3d, axis=0)  # shape: (1, 1, 3, 3)\n",
    "\n",
    "# Step 4: Use reshape to reshape to (1, 1, 3, 3, 1)\n",
    "identity_5d = identity_4d.reshape(1, 1, 3, 3, 1)  # shape: (1, 1, 3, 3, 1)\n",
    "\n",
    "# Optional Step 5: Use tile to repeat and make dimensions larger\n",
    "identity_5d_tiled = np.tile(identity_5d, (2, 2, 1, 1, 2))  # shape: (2, 2, 3, 3, 2)\n",
    "\n",
    "print(\"5D Array Shape:\", identity_5d_tiled.shape)\n",
    "print(\"5D Array:\\n\", identity_5d_tiled)\n"
   ]
  },
  {
   "cell_type": "code",
   "execution_count": 5,
   "id": "cd658936-0681-47a6-8453-d3c4a64b482f",
   "metadata": {},
   "outputs": [
    {
     "name": "stdout",
     "output_type": "stream",
     "text": [
      "2D Identity Matrix:\n",
      " [[1. 0. 0.]\n",
      " [0. 1. 0.]\n",
      " [0. 0. 1.]]\n",
      "\n",
      "3D Array (2 x 3 x 3):\n",
      " [[[1. 0. 0.]\n",
      "  [0. 1. 0.]\n",
      "  [0. 0. 1.]]\n",
      "\n",
      " [[1. 0. 0.]\n",
      "  [0. 1. 0.]\n",
      "  [0. 0. 1.]]]\n",
      "\n",
      "4D Array (2 x 2 x 3 x 3):\n",
      " [[[[1. 0. 0.]\n",
      "   [0. 1. 0.]\n",
      "   [0. 0. 1.]]\n",
      "\n",
      "  [[1. 0. 0.]\n",
      "   [0. 1. 0.]\n",
      "   [0. 0. 1.]]]\n",
      "\n",
      "\n",
      " [[[1. 0. 0.]\n",
      "   [0. 1. 0.]\n",
      "   [0. 0. 1.]]\n",
      "\n",
      "  [[1. 0. 0.]\n",
      "   [0. 1. 0.]\n",
      "   [0. 0. 1.]]]]\n",
      "\n",
      "5D Array (2 x 2 x 2 x 3 x 3):\n",
      " [[[[[1. 0. 0.]\n",
      "    [0. 1. 0.]\n",
      "    [0. 0. 1.]]\n",
      "\n",
      "   [[1. 0. 0.]\n",
      "    [0. 1. 0.]\n",
      "    [0. 0. 1.]]]\n",
      "\n",
      "\n",
      "  [[[1. 0. 0.]\n",
      "    [0. 1. 0.]\n",
      "    [0. 0. 1.]]\n",
      "\n",
      "   [[1. 0. 0.]\n",
      "    [0. 1. 0.]\n",
      "    [0. 0. 1.]]]]\n",
      "\n",
      "\n",
      "\n",
      " [[[[1. 0. 0.]\n",
      "    [0. 1. 0.]\n",
      "    [0. 0. 1.]]\n",
      "\n",
      "   [[1. 0. 0.]\n",
      "    [0. 1. 0.]\n",
      "    [0. 0. 1.]]]\n",
      "\n",
      "\n",
      "  [[[1. 0. 0.]\n",
      "    [0. 1. 0.]\n",
      "    [0. 0. 1.]]\n",
      "\n",
      "   [[1. 0. 0.]\n",
      "    [0. 1. 0.]\n",
      "    [0. 0. 1.]]]]]\n"
     ]
    }
   ],
   "source": [
    "import numpy as np\n",
    "\n",
    "# Step 1: Create a 2D identity matrix (3x3)\n",
    "identity_2d = np.identity(3)\n",
    "print(\"2D Identity Matrix:\\n\", identity_2d)\n",
    "\n",
    "# Step 2: Expand to 3D by stacking\n",
    "identity_3d = np.stack([identity_2d for _ in range(2)])  # Shape: (2, 3, 3)\n",
    "print(\"\\n3D Array (2 x 3 x 3):\\n\", identity_3d)\n",
    "\n",
    "# Step 3: Expand to 4D by stacking the 3D arrays\n",
    "identity_4d = np.stack([identity_3d for _ in range(2)])  # Shape: (2, 2, 3, 3)\n",
    "print(\"\\n4D Array (2 x 2 x 3 x 3):\\n\", identity_4d)\n",
    "\n",
    "# Step 4: Expand to 5D by stacking the 4D arrays\n",
    "identity_5d = np.stack([identity_4d for _ in range(2)])  # Shape: (2, 2, 2, 3, 3)\n",
    "print(\"\\n5D Array (2 x 2 x 2 x 3 x 3):\\n\", identity_5d)\n"
   ]
  },
  {
   "cell_type": "code",
   "execution_count": 13,
   "id": "f5bb8d71-da9c-46be-90e3-b3d1944d8fa0",
   "metadata": {},
   "outputs": [
    {
     "name": "stdout",
     "output_type": "stream",
     "text": [
      "[[1. 1. 1.]\n",
      " [1. 1. 1.]\n",
      " [1. 1. 1.]]\n",
      "[[1 1 1]\n",
      " [1 1 1]\n",
      " [1 1 1]\n",
      " [1 1 1]]\n"
     ]
    }
   ],
   "source": [
    "# Initialized with ones\n",
    " # Initializing arrays with ones\n",
    "ones_array = np.ones((3,3))\n",
    "another_ones_array = np.ones((4,3), dtype = int)\n",
    "print(ones_array)\n",
    "print(another_ones_array)"
   ]
  },
  {
   "cell_type": "code",
   "execution_count": 15,
   "id": "19f261f6-7a8d-49a4-82ac-21be66288aea",
   "metadata": {},
   "outputs": [
    {
     "data": {
      "text/plain": [
       "array([0, 1, 2, 3, 4])"
      ]
     },
     "execution_count": 15,
     "metadata": {},
     "output_type": "execute_result"
    }
   ],
   "source": [
    "# arrays with arange function\n",
    "# array with values from 0 to N\n",
    "array_with_range = np.arange(5)\n",
    "array_with_range"
   ]
  },
  {
   "cell_type": "code",
   "execution_count": 17,
   "id": "1c337556-ce8f-4f7b-81a3-b1649a789351",
   "metadata": {},
   "outputs": [
    {
     "data": {
      "text/plain": [
       "array([ 5,  8, 11, 14, 17, 20, 23, 26, 29, 32, 35, 38, 41, 44, 47])"
      ]
     },
     "execution_count": 17,
     "metadata": {},
     "output_type": "execute_result"
    }
   ],
   "source": [
    "array_with_range = np.arange(5,50,3)\n",
    "array_with_range"
   ]
  },
  {
   "cell_type": "code",
   "execution_count": 19,
   "id": "7db33f0b-2f00-4d39-a799-8bccb7e073ca",
   "metadata": {},
   "outputs": [
    {
     "name": "stdout",
     "output_type": "stream",
     "text": [
      "[[0.74953158 0.82873796 0.28744175]\n",
      " [0.696871   0.03979547 0.71509839]\n",
      " [0.44339906 0.5322705  0.03300599]\n",
      " [0.60669058 0.32500056 0.41269046]]\n"
     ]
    }
   ],
   "source": [
    "# Array with random numbers\n",
    "# to get an array with random input elements of desired shape\n",
    "# paramaters for the function - np.full(shape)\n",
    "random_array = np.random.random((4,3))\n",
    "print(random_array)"
   ]
  },
  {
   "cell_type": "code",
   "execution_count": 27,
   "id": "a04d46b4-b59d-4030-83bc-7ae181c51a82",
   "metadata": {},
   "outputs": [
    {
     "name": "stdout",
     "output_type": "stream",
     "text": [
      "[[[4 1 1 1]\n",
      "  [3 1 2 4]\n",
      "  [3 3 2 1]]\n",
      "\n",
      " [[4 1 2 3]\n",
      "  [0 4 0 2]\n",
      "  [4 4 4 0]]]\n"
     ]
    }
   ],
   "source": [
    "random_integral_array = np.random.randint(0,5, size = (2,3,4))\n",
    "print(random_integral_array)"
   ]
  },
  {
   "cell_type": "code",
   "execution_count": 37,
   "id": "55650903-aaf9-4c3e-acc5-d5d7be483937",
   "metadata": {},
   "outputs": [
    {
     "data": {
      "text/plain": [
       "array([[8, 1, 4],\n",
       "       [4, 5, 1]])"
      ]
     },
     "execution_count": 37,
     "metadata": {},
     "output_type": "execute_result"
    }
   ],
   "source": [
    "#np.random.rand(2, 2)\n",
    "# np.random.randn(2,2)\n",
    "np.random.randint(1,10,(2,3))"
   ]
  },
  {
   "cell_type": "code",
   "execution_count": 39,
   "id": "0e0a1a91-28bc-46ec-ad0f-4a6301f5df25",
   "metadata": {},
   "outputs": [
    {
     "name": "stdout",
     "output_type": "stream",
     "text": [
      "[[30 30 30]\n",
      " [30 30 30]\n",
      " [30 30 30]]\n"
     ]
    }
   ],
   "source": [
    "a = np.full((3,3),30)\n",
    "print(a)"
   ]
  },
  {
   "cell_type": "code",
   "execution_count": 41,
   "id": "2e7bb4f2-e985-47c9-9501-2c1f5730e3cd",
   "metadata": {},
   "outputs": [
    {
     "data": {
      "text/plain": [
       "array([[1., 0., 0., 0.],\n",
       "       [0., 1., 0., 0.],\n",
       "       [0., 0., 1., 0.],\n",
       "       [0., 0., 0., 1.]])"
      ]
     },
     "execution_count": 41,
     "metadata": {},
     "output_type": "execute_result"
    }
   ],
   "source": [
    "# identity\n",
    "np.identity(4)"
   ]
  },
  {
   "cell_type": "code",
   "execution_count": 43,
   "id": "79829c22-40f1-49fe-809f-798d398561d3",
   "metadata": {},
   "outputs": [
    {
     "data": {
      "text/plain": [
       "array([[1, 2],\n",
       "       [3, 4]])"
      ]
     },
     "execution_count": 43,
     "metadata": {},
     "output_type": "execute_result"
    }
   ],
   "source": [
    "# from existing array\n",
    "a = np.array([1,2,3,4])\n",
    "a.reshape((2,2))"
   ]
  },
  {
   "cell_type": "code",
   "execution_count": 47,
   "id": "e5e7880a-1e62-41fc-9192-627f430be666",
   "metadata": {},
   "outputs": [
    {
     "name": "stdout",
     "output_type": "stream",
     "text": [
      "30\n",
      "[20 30 40]\n"
     ]
    }
   ],
   "source": [
    "# Indexing and slicing of an array\n",
    "# 1D array\n",
    "import numpy as np\n",
    "arr = np.array([10,20,30,40,50])\n",
    "print(arr[2])\n",
    "print(arr[1:4])"
   ]
  },
  {
   "cell_type": "code",
   "execution_count": 49,
   "id": "9daf8b6a-30a0-47df-8021-4366decdf5f6",
   "metadata": {},
   "outputs": [
    {
     "name": "stdout",
     "output_type": "stream",
     "text": [
      "6\n",
      "[[2 3]\n",
      " [5 6]]\n"
     ]
    }
   ],
   "source": [
    "# 2D array\n",
    "arr2d = np.array([[1,2,3],\n",
    "                  [4,5,6],\n",
    "                  [7,8,9]])\n",
    "print(arr2d[1,2])\n",
    "print(arr2d[0:2,1:])"
   ]
  },
  {
   "cell_type": "code",
   "execution_count": 51,
   "id": "9e3f17cf-a7de-41b6-9ac1-c8a6fdf55cb7",
   "metadata": {},
   "outputs": [
    {
     "name": "stdout",
     "output_type": "stream",
     "text": [
      "6\n",
      "[[3 4]\n",
      " [7 8]]\n"
     ]
    }
   ],
   "source": [
    "# 3D array\n",
    "arr3d = np.array([[[1,2],[3,4]],\n",
    "                  [[5,6],[7,8]]])\n",
    "print(arr3d[1,0,1])\n",
    "print(arr3d[:,1,:])"
   ]
  },
  {
   "cell_type": "code",
   "execution_count": 9,
   "id": "a4b711e8-6e7d-4bf1-8c0b-8da93b0e1fa0",
   "metadata": {},
   "outputs": [
    {
     "name": "stdout",
     "output_type": "stream",
     "text": [
      "[[[[[0 0 0 0 0]\n",
      "    [0 0 0 0 0]\n",
      "    [0 0 0 0 0]\n",
      "    [0 0 0 0 0]]\n",
      "\n",
      "   [[0 0 0 0 0]\n",
      "    [0 0 0 0 0]\n",
      "    [0 0 0 0 0]\n",
      "    [0 0 0 0 0]]\n",
      "\n",
      "   [[0 0 0 0 0]\n",
      "    [0 0 0 0 0]\n",
      "    [0 0 0 0 0]\n",
      "    [0 0 0 0 0]]]\n",
      "\n",
      "\n",
      "  [[[0 0 0 0 0]\n",
      "    [0 0 0 0 0]\n",
      "    [0 0 0 0 0]\n",
      "    [0 0 0 0 0]]\n",
      "\n",
      "   [[0 0 0 0 0]\n",
      "    [0 0 0 0 0]\n",
      "    [0 0 0 0 0]\n",
      "    [0 0 0 0 0]]\n",
      "\n",
      "   [[0 0 0 0 0]\n",
      "    [0 0 0 0 0]\n",
      "    [0 0 0 0 0]\n",
      "    [0 0 0 0 0]]]]]\n"
     ]
    }
   ],
   "source": [
    "import numpy as np\n",
    "array_5D = np.zeros((1,2,3,4,5), dtype = int)\n",
    "print(array_5D)"
   ]
  },
  {
   "cell_type": "code",
   "execution_count": null,
   "id": "68abee7e-3b25-4801-a717-f593eb693d33",
   "metadata": {},
   "outputs": [],
   "source": [
    "# # Array Manipulation\n",
    "# array manipulation refers to modifying the structure or elements of an array,such as\n",
    "# Reshaping - np.reshape(array, shape)\n",
    "# flattening - np.flatten(array)\n",
    "# transposing - np.flatten(array)\n",
    "# Joining or spliting\n",
    "# Adding or removing elements\n",
    "\n",
    "\n",
    "Function            Purpose\n",
    "reshape()           change shape\n",
    "flatten()           convert to 1d\n",
    "transpose()         swap axes\n",
    "concatenate()       join arrays\n",
    "split()             divide array\n",
    "stack()             stack arrays along new axis"
   ]
  },
  {
   "cell_type": "code",
   "execution_count": 21,
   "id": "3eec00b4-47f0-44ed-a062-20805da879d7",
   "metadata": {},
   "outputs": [
    {
     "name": "stdout",
     "output_type": "stream",
     "text": [
      "[[1 2 3]\n",
      " [4 5 6]]\n"
     ]
    }
   ],
   "source": [
    "# reshape() --- changes the shape of the array without changing its data\n",
    "\n",
    "import numpy as np\n",
    "a = np.array([1,2,3,4,5,6])\n",
    "b = a.reshape(2,3)\n",
    "print(b)\n",
    "\n",
    "c = np.reshape(a,(3,2))\n",
    "#print(c)\n"
   ]
  },
  {
   "cell_type": "code",
   "execution_count": 23,
   "id": "a6513e94-75c4-4d68-af46-241e46708af9",
   "metadata": {},
   "outputs": [
    {
     "name": "stdout",
     "output_type": "stream",
     "text": [
      "[1 2 3 4]\n"
     ]
    }
   ],
   "source": [
    "# flatten() or ravel()--- converts a multi dimentional array into a 1d array.\n",
    "\n",
    "a = np.array([[1,2], [3,4]])\n",
    "print(a.flatten())"
   ]
  },
  {
   "cell_type": "code",
   "execution_count": 25,
   "id": "06c5b8f8-da1c-47f5-954c-c1760c668d3c",
   "metadata": {},
   "outputs": [
    {
     "name": "stdout",
     "output_type": "stream",
     "text": [
      "[[1 3]\n",
      " [2 4]]\n"
     ]
    }
   ],
   "source": [
    "# transpose() or T --- swaps rows with columns\n",
    "\n",
    "a = np.array([[1,2], [3,4]])\n",
    "print(a.T)"
   ]
  },
  {
   "cell_type": "code",
   "execution_count": 31,
   "id": "68a8b1b2-465d-4e64-a951-dcbd347b390c",
   "metadata": {},
   "outputs": [
    {
     "name": "stdout",
     "output_type": "stream",
     "text": [
      "[[1 2 3 4]]\n"
     ]
    }
   ],
   "source": [
    "# concatenate() and stack()---used to join arrays\n",
    "\n",
    "a = np.array([[1,2]])\n",
    "b = np.array([[3,4]])\n",
    "\n",
    "print(np.concatenate((a,b), axis = 1))\n",
    "# print(np.hstack((a,b)))"
   ]
  },
  {
   "cell_type": "code",
   "execution_count": 35,
   "id": "74e20cff-58d4-4116-94f3-9571b284cacb",
   "metadata": {},
   "outputs": [
    {
     "data": {
      "text/plain": [
       "array([[1, 2],\n",
       "       [3, 4]])"
      ]
     },
     "execution_count": 35,
     "metadata": {},
     "output_type": "execute_result"
    }
   ],
   "source": [
    "a = np.array([1,2])\n",
    "b = np.array([3,4])\n",
    "\n",
    "np.stack((a,b), axis = 0)"
   ]
  },
  {
   "cell_type": "code",
   "execution_count": null,
   "id": "ecdf35a4-aa40-4403-8144-f788a3ab156b",
   "metadata": {},
   "outputs": [],
   "source": [
    "# add a new 0th axis, turning this into a 2 - row, 2-column array\n",
    "# Explain"
   ]
  },
  {
   "cell_type": "code",
   "execution_count": 37,
   "id": "0ccfd124-e0fb-4dae-9b36-61ba046bc12d",
   "metadata": {},
   "outputs": [
    {
     "data": {
      "text/plain": [
       "array([[1, 3],\n",
       "       [2, 4]])"
      ]
     },
     "execution_count": 37,
     "metadata": {},
     "output_type": "execute_result"
    }
   ],
   "source": [
    "np.stack((a,b),axis = 1)"
   ]
  },
  {
   "cell_type": "code",
   "execution_count": null,
   "id": "480482f0-1dce-46a2-89ca-82d5c818d5ab",
   "metadata": {},
   "outputs": [],
   "source": [
    "# adds a new 1st axis, so each element in a and b becomes a column:\n",
    "# Explain"
   ]
  },
  {
   "cell_type": "code",
   "execution_count": 39,
   "id": "f42d42ac-dbe3-4f12-b858-67b7d3016dcc",
   "metadata": {},
   "outputs": [
    {
     "name": "stdout",
     "output_type": "stream",
     "text": [
      "[[1 2 3 4]]\n",
      "\n",
      " [[1 2]\n",
      " [3 4]]\n"
     ]
    }
   ],
   "source": [
    "import numpy as np\n",
    "a = np.array([[1,2]])\n",
    "b = np.array([[3,4]])\n",
    "\n",
    "print(np.hstack((a,b)))\n",
    "print(\"\\n\", np.vstack((a,b)))"
   ]
  },
  {
   "cell_type": "code",
   "execution_count": null,
   "id": "eddd46fc-ff9b-4c80-80b7-c110f726171f",
   "metadata": {},
   "outputs": [],
   "source": [
    "# stack, vstack and hstack difference homework"
   ]
  },
  {
   "cell_type": "code",
   "execution_count": 41,
   "id": "5b71e1a5-e77a-4115-aff1-c75fc9cd1577",
   "metadata": {},
   "outputs": [
    {
     "name": "stdout",
     "output_type": "stream",
     "text": [
      "[array([1, 2]), array([3, 4]), array([5, 6])]\n"
     ]
    }
   ],
   "source": [
    "# split() --- used to split arrays into multiple sub-arrays\n",
    "\n",
    "a = np.array([1,2,3,4,5,6])\n",
    "print(np.split(a, 3))"
   ]
  },
  {
   "cell_type": "code",
   "execution_count": null,
   "id": "a05578b4-2620-4e15-9a5d-6a6bbc244770",
   "metadata": {},
   "outputs": [],
   "source": []
  }
 ],
 "metadata": {
  "kernelspec": {
   "display_name": "Python [conda env:base] *",
   "language": "python",
   "name": "conda-base-py"
  },
  "language_info": {
   "codemirror_mode": {
    "name": "ipython",
    "version": 3
   },
   "file_extension": ".py",
   "mimetype": "text/x-python",
   "name": "python",
   "nbconvert_exporter": "python",
   "pygments_lexer": "ipython3",
   "version": "3.12.7"
  }
 },
 "nbformat": 4,
 "nbformat_minor": 5
}
