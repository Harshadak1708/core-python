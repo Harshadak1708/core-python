{
 "cells": [
  {
   "cell_type": "code",
   "execution_count": null,
   "id": "8a51b374-8878-412b-a3c3-a5e96161b098",
   "metadata": {},
   "outputs": [],
   "source": [
    "# OOPs( Object oriented programming)\n",
    "# OOPs is a way of organizing code that uses objects and classes to represent real world entities and their behaviour."
   ]
  },
  {
   "cell_type": "code",
   "execution_count": null,
   "id": "d91d389e-d083-45a2-91af-be6339c29267",
   "metadata": {},
   "outputs": [],
   "source": [
    "# Python class\n",
    "# class creates a user defined data structure, which holds its own data member functions, which can be acccessed and used by \n",
    "# creating an instance of that class\n",
    "\n",
    "# syntax: class defination\n",
    "# class ClassName:\n",
    "# statement\n",
    "\n",
    "# some points on python class:\n",
    "# classes are created by keyword class\n",
    "# attributes are the variables that belong to a class\n",
    "# attributes are always public and can be accessed using the dot(.)operator.\n",
    "# EG:\n",
    "# Myclass.Myattribute"
   ]
  },
  {
   "cell_type": "code",
   "execution_count": 1,
   "id": "197c5b91-bdc0-407d-84ca-babd053dbfe5",
   "metadata": {},
   "outputs": [],
   "source": [
    "class Myclass: # created a class named Myclass, with a property named a:\n",
    "    a = 5"
   ]
  },
  {
   "cell_type": "code",
   "execution_count": null,
   "id": "831501b0-66e6-458f-a8c8-5b3eaf490e99",
   "metadata": {},
   "outputs": [],
   "source": [
    "# Python object\n",
    "# Objects are class instances which are used to access methods and data(defined by their class) for modifying their state.\n",
    "# syntax: obj = ClassName()\n"
   ]
  },
  {
   "cell_type": "code",
   "execution_count": null,
   "id": "14dc4e41-efbb-4098-828f-9f45d4935199",
   "metadata": {},
   "outputs": [],
   "source": [
    "# self \n",
    "# class methods must have an extra first parameter in the method defination. we do not give a value for this parameter\n",
    "# when we call the method, python provides it.\n",
    "# it is denoted by keyword\"self\"\n",
    "# if we have a method that takes no arguments, we still have one argument\n",
    "# when we call a method of this object as myobject method(arg1,arg2), this is automatically converted by python into MyClass method(myobject,arg1,arg2)\n",
    "# it is used to access data members (attributes)\n",
    "# self parameter is a reference to the current instance of the class. it allows us to access the attributes and method of the object.\n",
    "\n",
    "\n"
   ]
  },
  {
   "cell_type": "code",
   "execution_count": null,
   "id": "02970c15-2a24-4808-91e6-82ff38372229",
   "metadata": {},
   "outputs": [],
   "source": [
    "# Init\n",
    "# init method is the constructor in python, automatically called when a new object is created. it initializes attributes of the class."
   ]
  },
  {
   "cell_type": "code",
   "execution_count": 19,
   "id": "4e7a0782-1fcb-4ff8-a7d0-f179f5ded9a2",
   "metadata": {},
   "outputs": [],
   "source": [
    "# Define a simple class\n",
    "class Student:\n",
    "    def __init__(self, name, course):\n",
    "    #def __int__(self, name, course):   # constructor\n",
    "        self.name = name    # the self parameter is a reference to the current instance of the class, and is used to access values.\n",
    "        self.course = course  # instance variable\n",
    "        \n",
    "    def display(self):\n",
    "        print(f\"{self.name} is enrolled in {self.course}\")\n"
   ]
  },
  {
   "cell_type": "code",
   "execution_count": 25,
   "id": "c9ad8a65-7c88-4df0-9365-a3f888dd1b66",
   "metadata": {},
   "outputs": [],
   "source": [
    "# create objects(instances)\n",
    "\n",
    "# s1 = Students(\"Alice\", \"Data science\")\n",
    "# s2 = Students(\"Bob\", \"Machine learning\")\n",
    "\n",
    "S1 = Student(\"Apoorva\", \"DataScience\")\n",
    "S2 = Student(\"Bob\", \"Machine learning\")\n"
   ]
  },
  {
   "cell_type": "code",
   "execution_count": 29,
   "id": "230268ee-7441-423a-801c-3f706ff9bd78",
   "metadata": {},
   "outputs": [
    {
     "name": "stdout",
     "output_type": "stream",
     "text": [
      "Apoorva is enrolled in DataScience\n",
      "Bob is enrolled in Machine learning\n"
     ]
    }
   ],
   "source": [
    "S1.display()\n",
    "S2.display()"
   ]
  },
  {
   "cell_type": "code",
   "execution_count": 3,
   "id": "1f488311-8c12-4159-b9b5-7090b077c383",
   "metadata": {},
   "outputs": [
    {
     "name": "stdout",
     "output_type": "stream",
     "text": [
      "'To Kill a Mockingbird' by Harper Lee, published in 1960.\n",
      "True\n"
     ]
    }
   ],
   "source": [
    "class Book:\n",
    "    def __init__(self, title, author, year):\n",
    "        self.title = title\n",
    "        self.author = author\n",
    "        self.year = year\n",
    "\n",
    "    def get_description(self):\n",
    "        return f\"'{self.title}' by {self.author}, published in {self.year}.\"\n",
    "\n",
    "    def is_classic(self):\n",
    "        return self.year < 1970\n",
    "\n",
    "# Creating an instance of the Book class\n",
    "book1 = Book(\"To Kill a Mockingbird\", \"Harper Lee\", 1960)\n",
    "\n",
    "# Accessing attributes and methods\n",
    "print(book1.get_description())  # Output: 'To Kill a Mockingbird' by Harper Lee, published in 1960.\n",
    "print(book1.is_classic())       # Output: True\n"
   ]
  },
  {
   "cell_type": "code",
   "execution_count": 31,
   "id": "618a2e0f-66c2-45ff-a736-9eb29066d593",
   "metadata": {},
   "outputs": [
    {
     "name": "stdout",
     "output_type": "stream",
     "text": [
      "5\n",
      "3\n",
      "3\n",
      "z\n"
     ]
    }
   ],
   "source": [
    "# Polymorphism\n",
    "# Polymorphism (same function, different behavior)\n",
    "\n",
    "print(len(\"Hello\"))  # string length\n",
    "print(len([1, 2, 3])) # list length\n",
    "\n",
    "print(max(1, 3 ,2 ))  # maximum of integer\n",
    "print(max(\"a\", \"z\", \"m\"))  # maximum in strings\n",
    "\n",
    "# python determines behavior at runtime, enabling these functions to work across diverse types without explicit type declarations. "
   ]
  },
  {
   "cell_type": "code",
   "execution_count": 33,
   "id": "ac9b7799-d969-43af-bece-d308d04da0ae",
   "metadata": {},
   "outputs": [],
   "source": [
    "# define parent class\n",
    "class Animal:\n",
    "    def speak(self):\n",
    "        print(\"Animal speaks\")"
   ]
  },
  {
   "cell_type": "code",
   "execution_count": 35,
   "id": "92a1fcd6-d8b0-4d2b-ba18-c87b667b02a5",
   "metadata": {},
   "outputs": [],
   "source": [
    "# define child classes\n",
    "class Dog(Animal):\n",
    "    def speak(self):\n",
    "        print(\"Dog barks\")"
   ]
  },
  {
   "cell_type": "code",
   "execution_count": 37,
   "id": "5f1c6b3a-2b73-4b29-a04a-698808492f69",
   "metadata": {},
   "outputs": [],
   "source": [
    "class Cat(Animal):\n",
    "    def speak(self):\n",
    "        print(\"Cat meows\")"
   ]
  },
  {
   "cell_type": "code",
   "execution_count": 39,
   "id": "0a706cf3-7b8c-474b-9688-eb2a20b69ca2",
   "metadata": {},
   "outputs": [
    {
     "name": "stdout",
     "output_type": "stream",
     "text": [
      "Dog speaks\n",
      "Cat speaks\n",
      "Animal speaks\n"
     ]
    }
   ],
   "source": [
    "# use polymorphism\n",
    "for animal in [Dog(), Cat(), Animal()]:   # calls the overridden method based on the object type\n",
    "    animal.speak()"
   ]
  },
  {
   "cell_type": "code",
   "execution_count": 45,
   "id": "6b902096-4d98-4a33-ad1c-605ee046a95a",
   "metadata": {},
   "outputs": [
    {
     "name": "stdout",
     "output_type": "stream",
     "text": [
      "Area: 6\n",
      "Area: 78.5\n"
     ]
    }
   ],
   "source": [
    "class Shape:\n",
    "    def area(self):\n",
    "        return \"Undefined\"\n",
    "\n",
    "class Rectangle(Shape):\n",
    "    def __init__(self, length, width):\n",
    "        self.length = length\n",
    "        self.width = width\n",
    "\n",
    "    def area(self):\n",
    "        return self.length * self.width\n",
    "\n",
    "class Circle(Shape):\n",
    "    def __init__(self, radius):\n",
    "        self.radius = radius\n",
    "\n",
    "    def area(self):\n",
    "        return 3.14 * self.radius ** 2\n",
    "\n",
    "shapes = [Rectangle(2, 3), Circle(5)]\n",
    "for shape in shapes:\n",
    "    print(f\"Area: {shape.area()}\")"
   ]
  },
  {
   "cell_type": "code",
   "execution_count": null,
   "id": "af2093ca-9b9e-49f1-a4f9-a4e499da663d",
   "metadata": {},
   "outputs": [],
   "source": [
    "#  homework = inheritance, encapsulation"
   ]
  },
  {
   "cell_type": "code",
   "execution_count": 1,
   "id": "9bf1a205-3ab7-4ae4-a0a5-0f3e8f74aa38",
   "metadata": {},
   "outputs": [
    {
     "name": "stdout",
     "output_type": "stream",
     "text": [
      "Animal speaks\n"
     ]
    }
   ],
   "source": [
    "# Inheritance\n",
    "# child inherits features from parent\n",
    "# it allows a class (called a child or derived a class)to inherit attributes and methods from another class(called a parent or base class)\n",
    "# in inheritance, super() is a built in function in python that is used to call methods or consructors of the parent(super)class\n",
    "# A car is a vehicle. it inherits like speed, fuel capacity, etc.. but may also have extra features like air conditioning\n",
    "\n",
    "\n",
    "# Parent class\n",
    "class Animal:\n",
    "    def speak(self):\n",
    "        print(\"Animal speaks\")\n",
    "\n",
    "# Child class overrides speak()\n",
    "class Dog(Animal):\n",
    "    pass\n",
    "\n",
    "#      def speak(self):\n",
    "#           print(\"Dog barks\")\n",
    "\n",
    "# Create object of Dog\n",
    "d = Dog()\n",
    "d.speak() "
   ]
  },
  {
   "cell_type": "code",
   "execution_count": null,
   "id": "b91e0ee3-d855-4b6b-b568-db3934cd65c0",
   "metadata": {},
   "outputs": [],
   "source": [
    "# Explanation:\n",
    "# Dog overrides the speak() method of animal\n",
    "# so, when we call d.speak(), it uses the version from dog"
   ]
  },
  {
   "cell_type": "code",
   "execution_count": 7,
   "id": "cc6a4169-6bf5-4e70-93a1-5e90fbf0d785",
   "metadata": {},
   "outputs": [
    {
     "name": "stdout",
     "output_type": "stream",
     "text": [
      "Brand: Toyota, Speed: 180 km/hr\n",
      "Ac: True\n"
     ]
    }
   ],
   "source": [
    "# Parent class\n",
    "class Vehicle:\n",
    "    def __init__(self, brand, speed):\n",
    "        self.brand = brand\n",
    "        self.speed = speed\n",
    "\n",
    "    def show_info(self):\n",
    "        print(f\"Brand: {self.brand}, Speed: {self.speed} km/hr\")\n",
    "\n",
    "# Child class\n",
    "class car(Vehicle):\n",
    "    def __init__(self, brand, speed, ac):\n",
    "        super().__init__(brand, speed)   # inherit from vehicle\n",
    "        self.ac = ac\n",
    "\n",
    "    def show_car_info(self):\n",
    "        self.show_info()\n",
    "        print(f\"Ac: {self.ac}\")\n",
    "\n",
    "# create a car object\n",
    "c1 = car(\"Toyota\", 180, True)\n",
    "c1.show_car_info()"
   ]
  },
  {
   "cell_type": "code",
   "execution_count": 19,
   "id": "df70ea2e-422c-4046-8e5c-50c355170c10",
   "metadata": {},
   "outputs": [
    {
     "name": "stdout",
     "output_type": "stream",
     "text": [
      "Name: Ravi, Salary: 75000\n",
      "Department: HR\n"
     ]
    }
   ],
   "source": [
    "# Parent class\n",
    "class Employee:\n",
    "    def __init__(self, name, salary):\n",
    "        self.name = name\n",
    "        self.salary = salary\n",
    "\n",
    "    def display_info(self):\n",
    "        print(f\"Name: {self.name}, Salary: {self.salary}\")\n",
    "\n",
    "# Child class (inherits from employee):\n",
    "class Manager(Employee):\n",
    "    def __init__(self, name, salary, department):\n",
    "        super().__init__(name, salary)  # call parent constructor\n",
    "        self.department = department\n",
    "\n",
    "    def display_manager_info(self):\n",
    "        self.display_info()\n",
    "        print(f\"Department: {self.department}\")\n",
    "\n",
    "# Usage\n",
    "m1 = Manager(\"Ravi\", 75000, \"HR\")\n",
    "m1.display_manager_info()"
   ]
  },
  {
   "cell_type": "code",
   "execution_count": null,
   "id": "9610a1e5-9a12-4e6b-82d4-079baf213da4",
   "metadata": {},
   "outputs": [],
   "source": [
    "# homework: create a parent class -- any class name with some attributes \n",
    "# then create child class -- which uses the attributes of parent class as well as has its own attributes\n",
    "# create an object call and print student 1 and student 2 info\n",
    "# add both concepts inheritance and encapsulation"
   ]
  },
  {
   "cell_type": "code",
   "execution_count": null,
   "id": "19486a2a-cf22-4b06-85fd-8259b5636df9",
   "metadata": {},
   "outputs": [],
   "source": [
    "# Encapsulation\n",
    "# Hide internal details, protect data\n",
    "# Encapsulation is the process of hiding the internal state of an object and requiring all interactions to be performed through \n",
    "# an objects methods. this approach provides better control over data prevents accidental notification of data.\n",
    "# promotes modular programming. python achieves encapsulation through public protected and private attributes\n",
    "\n",
    "# access type       syntax          accessible from\n",
    "# public             variable        anywhere\n",
    "# protected         _variable        within class and subclasses only\n",
    "# private          __variable        only within the class(name mangled)\n"
   ]
  },
  {
   "cell_type": "code",
   "execution_count": 21,
   "id": "e5049f56-4b28-4223-93c0-94f0c49e652d",
   "metadata": {},
   "outputs": [
    {
     "name": "stdout",
     "output_type": "stream",
     "text": [
      "public\n",
      "protected\n",
      "public\n",
      "protected\n",
      "private\n"
     ]
    }
   ],
   "source": [
    "class Demo:\n",
    "    def __init__(self):\n",
    "        self.public = \"public\"\n",
    "        self._protected = \"protected\"\n",
    "        self.__private = \"private\"\n",
    "\n",
    "    def show(self):\n",
    "        print(self.public)\n",
    "        print(self._protected)\n",
    "        print(self.__private)\n",
    "\n",
    "obj = Demo()\n",
    "print(obj.public)\n",
    "print(obj._protected)\n",
    "# print(obj.__private)   ERROR : cant access directly\n",
    "\n",
    "obj.show()   # accessing all inside class for private it always required\n",
    "\n",
    "\n",
    "\n",
    "# in python private variables (with__name) are name-mangled (e.g., self.private becomes self._Demo__private internally).\n",
    "# self.__private is accesed inside the class demo"
   ]
  },
  {
   "cell_type": "code",
   "execution_count": 31,
   "id": "f8425d06-160a-436e-817b-b279f5fed1d9",
   "metadata": {},
   "outputs": [
    {
     "name": "stdout",
     "output_type": "stream",
     "text": [
      "Owner: Zara\n",
      "Account type: savings\n",
      "Balance: 5000\n",
      "Zara has a savings account with 4.5% interest.\n",
      "Zara\n",
      "savings\n",
      "5000\n"
     ]
    }
   ],
   "source": [
    "class BankAccount:\n",
    "    def __init__(self, owner, balance, account_type):\n",
    "        self.owner = owner                 # public\n",
    "        self._account_type = account_type  # protected\n",
    "        self.__balance = balance           # private\n",
    "\n",
    "    # public method\n",
    "    def show_account_info(self):\n",
    "        print(f\"Owner: {self.owner}\")\n",
    "        print(f\"Account type: {self._account_type}\")\n",
    "        print(f\"Balance: {self.__balance}\")\n",
    "\n",
    "    # public method to access the private member\n",
    "    def get_balance(self):\n",
    "        return self.__balance\n",
    "\n",
    "    # public method to modify private member safely\n",
    "    def deposit(self, amount):\n",
    "        if amount > 0:\n",
    "            self.__balance += amount\n",
    "\n",
    "class SavingsAccount(BankAccount):\n",
    "    def __init__(self, owner, balance, interest):\n",
    "        super().__init__(owner, balance, \"savings\")\n",
    "        self.interest = interest\n",
    "\n",
    "    def show_interest_info(self):\n",
    "        print(f\"{self.owner} has a {self._account_type} account with {self.interest}% interest.\")\n",
    "\n",
    "# Usage\n",
    "acc = SavingsAccount(\"Zara\", 5000, 4.5)\n",
    "acc.show_account_info()\n",
    "acc.show_interest_info()\n",
    "\n",
    "print(acc.owner)           # public - accessible\n",
    "print(acc._account_type)   # protected - accessible, but use with caution\n",
    "print(acc.get_balance())   # private - accessed via getter\n",
    "# prin\n"
   ]
  },
  {
   "cell_type": "code",
   "execution_count": null,
   "id": "c621bcf0-8204-4fac-96ff-6f7800396ae5",
   "metadata": {},
   "outputs": [],
   "source": [
    "# # Abstraction\n",
    "# Data abstraction in python is a programming concept that hides complex implementation details while exposing only essential\n",
    "# information and functionalities to users.\n",
    "# In python, we can achieve data abstraction by using abstract classes and abstract classes can be created using abc(abstract base class)\n",
    "# module and abstraction method of abc module\n",
    "\n",
    "# Abstraction method: in python, abstract method feature is not a default feature. to create abstract method and abstract classes we have to \n",
    "# import the \"ABC\" and \"Abstractmethod\" classes from abc(Abstract base class) library."
   ]
  },
  {
   "cell_type": "code",
   "execution_count": 1,
   "id": "6871ce04-eedc-4911-a09c-330eea46f232",
   "metadata": {},
   "outputs": [],
   "source": [
    "from abc import ABC, abstractmethod\n",
    "class BaseClass(ABC):\n",
    "    @abstractmethod\n",
    "    def method_1(self):\n",
    "        # empty body\n",
    "        pass"
   ]
  },
  {
   "cell_type": "code",
   "execution_count": null,
   "id": "5a3edc9f-b2bf-4015-8799-c0ef517116dc",
   "metadata": {},
   "outputs": [],
   "source": [
    "# Concrete method: concrete methods are the methods defined in an abstract base class with their complete implementation.\n",
    "# concrete methods are required to avoid replication of code in subclasses"
   ]
  },
  {
   "cell_type": "code",
   "execution_count": null,
   "id": "c97897da-107a-4cd4-8da8-8abc52d9640a",
   "metadata": {},
   "outputs": [],
   "source": [
    "abc module:\n",
    "# abc stands for anstract base classes.\n",
    "\n",
    "# it is a built in module in python used to create abstract classes and methods\n",
    "\n",
    "ABC class:\n",
    "# ABC is a class defined inside the abc module\n",
    "# you inherit from ABC to make a class abstract\n",
    "# you cant create objects directly from a class that inherits from ABC unless all its abstract methods are implemented.\n",
    "\n",
    "@abstractmethod decorator:\n",
    "# used to declare methods that must be overriden in a child class.\n"
   ]
  },
  {
   "cell_type": "code",
   "execution_count": null,
   "id": "201b3bd9-54ae-42a6-a564-7273683b90ab",
   "metadata": {},
   "outputs": [],
   "source": [
    "# HW = regular expression"
   ]
  },
  {
   "cell_type": "code",
   "execution_count": 3,
   "id": "daca3674-2f4b-47cb-999c-82091754cb53",
   "metadata": {},
   "outputs": [
    {
     "name": "stdout",
     "output_type": "stream",
     "text": [
      "Bark\n"
     ]
    }
   ],
   "source": [
    "from abc import ABC, abstractmethod   \n",
    "\n",
    "# Abstract class\n",
    "class Animal(ABC):\n",
    "\n",
    "    @abstractmethod\n",
    "    def make_sound(self): # Animal is an abstract class: it says'every animal must make a sound', but doesnt define how?.\n",
    "        pass\n",
    "\n",
    "# Child class\n",
    "class Dog(Animal):\n",
    "    def make_sound(self):\n",
    "        return \"Bark\"\n",
    "\n",
    "# Trying to create object of absrtact class will give error\n",
    "# a = Animal()     # ERROR\n",
    "d = Dog()\n",
    "print(d.make_sound())\n",
    "\n",
    "# Abstraction hides the \"how\" and only shows the \"what\""
   ]
  },
  {
   "cell_type": "code",
   "execution_count": 5,
   "id": "629f856d-b52b-4ed7-839d-8d9a338736dd",
   "metadata": {},
   "outputs": [
    {
     "name": "stdout",
     "output_type": "stream",
     "text": [
      "Welcome to the Bank ATM\n",
      "Card inserted and PIN verified\n",
      "Withdrawing 2000...Please collect your cash.\n"
     ]
    }
   ],
   "source": [
    "from abc import ABC, abstractmethod\n",
    "\n",
    "# Abstract class\n",
    "class ATM(ABC):\n",
    "\n",
    "    @abstractmethod\n",
    "    def validate_user(self): #@abstractmethod just says: \"you must implement this method\"\n",
    "        pass # no implementation here\n",
    "\n",
    "    @abstractmethod\n",
    "    def withdraw_cash(self, amount):\n",
    "        pass\n",
    "\n",
    "    def show_welcome_message(self):\n",
    "        print(\"Welcome to the Bank ATM\")\n",
    "\n",
    "# concrete class\n",
    "class UserATM(ATM):\n",
    "    def validate_user(self):\n",
    "        print(\"Card inserted and PIN verified\")\n",
    "\n",
    "    def withdraw_cash(self, amount):\n",
    "        print(f\"Withdrawing {amount}...Please collect your cash.\")\n",
    "\n",
    "# Usage\n",
    "atm = UserATM()\n",
    "atm.show_welcome_message()\n",
    "atm.validate_user()\n",
    "atm.withdraw_cash(2000)"
   ]
  },
  {
   "cell_type": "code",
   "execution_count": null,
   "id": "fa70595f-a863-4d39-9b62-9eb46a7ce5e2",
   "metadata": {},
   "outputs": [],
   "source": [
    "# Difference between Encapsulation and Abstraction in python\n",
    "\n",
    "# Feature             Encapsulation                         Abstraction\n",
    "# focus               Data Protection                       Interface and simplicity\n",
    "# hides               Internal state of an object           Implimentation details\n",
    "# Implemented via     Access modifiers(public/private)      Abstract classes and methods(abc)\n",
    "# Goal                Security and integrity                Simplify usage"
   ]
  },
  {
   "cell_type": "code",
   "execution_count": null,
   "id": "0fa8a7aa-28ce-4969-b1e8-da19c68349f9",
   "metadata": {},
   "outputs": [],
   "source": []
  }
 ],
 "metadata": {
  "kernelspec": {
   "display_name": "Python [conda env:base] *",
   "language": "python",
   "name": "conda-base-py"
  },
  "language_info": {
   "codemirror_mode": {
    "name": "ipython",
    "version": 3
   },
   "file_extension": ".py",
   "mimetype": "text/x-python",
   "name": "python",
   "nbconvert_exporter": "python",
   "pygments_lexer": "ipython3",
   "version": "3.12.7"
  }
 },
 "nbformat": 4,
 "nbformat_minor": 5
}
