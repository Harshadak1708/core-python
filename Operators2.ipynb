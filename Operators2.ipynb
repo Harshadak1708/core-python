{
 "cells": [
  {
   "cell_type": "code",
   "execution_count": null,
   "id": "dbdc8f7b-0411-407f-a1a4-9ac794160e24",
   "metadata": {},
   "outputs": [],
   "source": [
    "# Operators\n",
    "arithmatic\n",
    "asignment\n",
    "comparison\n",
    "logical"
   ]
  },
  {
   "cell_type": "code",
   "execution_count": 9,
   "id": "a2a0f7af-deaf-44b2-bfbb-4c085475cc8b",
   "metadata": {},
   "outputs": [
    {
     "name": "stdout",
     "output_type": "stream",
     "text": [
      "arithmetic operators:\n",
      "a +  b= 13\n",
      "a -  b= 7\n",
      "a *  b= 30\n",
      "a /  b= 3.3333333333333335\n",
      "a // b= 3\n",
      "a %  b= 1\n",
      "a ** b= 1000\n"
     ]
    }
   ],
   "source": [
    "# arithmetic operators-----used for basic arithmetic operations.\n",
    "a = 10\n",
    "b = 3\n",
    "print(\"arithmetic operators:\")\n",
    "print(\"a +  b=\"  , a + b)   \n",
    "print(\"a -  b=\"  , a-b)    \n",
    "print(\"a *  b=\"  , a * b)  # multiply operator\n",
    "print(\"a /  b=\"  , a / b)  # division operator\n",
    "print(\"a // b=\"  , a // b) # floor operator\n",
    "print(\"a %  b=\"  , a % b)  # modulus operator\n",
    "print(\"a ** b=\"  , a ** b) # power operator \n"
   ]
  },
  {
   "cell_type": "code",
   "execution_count": 11,
   "id": "c35e4af8-b974-4b12-981a-9e7d0b7c333d",
   "metadata": {},
   "outputs": [
    {
     "name": "stdout",
     "output_type": "stream",
     "text": [
      "a == b: False\n",
      "a != b: True\n",
      "a >  b: False\n",
      "a <  b: True\n",
      "a >= b: False\n",
      "a <= b: True\n"
     ]
    }
   ],
   "source": [
    "# comparison(relational) operators----used to compare values.\n",
    "a = 7\n",
    "b = 8\n",
    "print(\"a == b:\" , a == b)\n",
    "print(\"a != b:\" , a != b)\n",
    "print(\"a >  b:\" , a > b)\n",
    "print(\"a <  b:\" , a < b)\n",
    "print(\"a >= b:\" , a >= b)\n",
    "print(\"a <= b:\" , a <= b)"
   ]
  },
  {
   "cell_type": "code",
   "execution_count": 13,
   "id": "8dc991ce-a2d0-49f8-8b23-6cf1ee15ac71",
   "metadata": {},
   "outputs": [
    {
     "name": "stdout",
     "output_type": "stream",
     "text": [
      "x after += 3: 8\n",
      "x after *= 2: 16\n"
     ]
    }
   ],
   "source": [
    "# assignment operators----used to assign values to variables.\n",
    "# (+=, -=, *=, /=, //=, &=, **=) \n",
    "x = 5\n",
    "x += 3\n",
    "print(\"x after += 3:\", x)\n",
    "\n",
    "x *= 2\n",
    "print(\"x after *= 2:\", x)\n"
   ]
  },
  {
   "cell_type": "code",
   "execution_count": 19,
   "id": "ad10addc-4de3-410c-a90e-a28edc874363",
   "metadata": {},
   "outputs": [
    {
     "name": "stdout",
     "output_type": "stream",
     "text": [
      "True and False: False\n",
      "True or False: True\n",
      "not True: False\n"
     ]
    }
   ],
   "source": [
    "# logical operators----used to combine conditional statements.\n",
    "# (and, or, not)\n",
    "# And(*)            Or(+)    -->  Not\n",
    "# 0 0 - 0         0 0 - 0          1\n",
    "# 0 1 - 0         0 1 - 1          0\n",
    "# 1 0 - 0         1 0 - 1          0\n",
    "# 1 1 - 1         1 1 - 1          0\n",
    "\n",
    "\n",
    "print(\"True and False:\", True and False)\n",
    "print(\"True or False:\" , True or False)\n",
    "print(\"not True:\"      , not True )"
   ]
  },
  {
   "cell_type": "code",
   "execution_count": 25,
   "id": "13e0942a-a905-4d3b-8538-a5e25e3579eb",
   "metadata": {},
   "outputs": [
    {
     "name": "stdout",
     "output_type": "stream",
     "text": [
      "2\n"
     ]
    }
   ],
   "source": [
    "x = 6    # binary operator table????\n",
    "x &= 2\n",
    "print(x)"
   ]
  },
  {
   "cell_type": "code",
   "execution_count": null,
   "id": "9de0bab5-3da4-4bb6-ad28-926467bfb8b7",
   "metadata": {},
   "outputs": [],
   "source": [
    "# bitwise operator - (&, |, ^, ~, <<, >>)\n",
    "# membership operator - in, not in            ---- not in syllabus for data science\n",
    "# identity operator   - is, is not"
   ]
  },
  {
   "cell_type": "code",
   "execution_count": 1,
   "id": "ab50a824-f367-4855-930c-b6e99ba8640a",
   "metadata": {},
   "outputs": [
    {
     "name": "stdout",
     "output_type": "stream",
     "text": [
      "2\n"
     ]
    }
   ],
   "source": [
    "x = 5\n",
    "y = 2\n",
    "print(x // y)"
   ]
  },
  {
   "cell_type": "code",
   "execution_count": 3,
   "id": "d9d23564-921c-4942-acf0-e7fe5fa9e5f6",
   "metadata": {},
   "outputs": [
    {
     "name": "stdout",
     "output_type": "stream",
     "text": [
      "ell\n"
     ]
    }
   ],
   "source": [
    "x = \"Hello\"\n",
    "print(x[1:4])"
   ]
  },
  {
   "cell_type": "code",
   "execution_count": 7,
   "id": "d67b07c8-a9f4-4db2-a7a9-26947bbe463e",
   "metadata": {},
   "outputs": [
    {
     "name": "stdout",
     "output_type": "stream",
     "text": [
      "[2, 4]\n"
     ]
    }
   ],
   "source": [
    "x = [1,2,3,4]\n",
    "y = filter(lambda a:a %2 == 0, x)\n",
    "print(list(y))"
   ]
  },
  {
   "cell_type": "code",
   "execution_count": null,
   "id": "ae1fe645-01d7-4a5a-ba90-74e497562580",
   "metadata": {},
   "outputs": [],
   "source": []
  }
 ],
 "metadata": {
  "kernelspec": {
   "display_name": "Python [conda env:base] *",
   "language": "python",
   "name": "conda-base-py"
  },
  "language_info": {
   "codemirror_mode": {
    "name": "ipython",
    "version": 3
   },
   "file_extension": ".py",
   "mimetype": "text/x-python",
   "name": "python",
   "nbconvert_exporter": "python",
   "pygments_lexer": "ipython3",
   "version": "3.12.7"
  }
 },
 "nbformat": 4,
 "nbformat_minor": 5
}
