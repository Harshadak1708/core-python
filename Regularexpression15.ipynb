{
 "cells": [
  {
   "cell_type": "code",
   "execution_count": null,
   "id": "ad34747b-8230-4693-9ed0-4c02d42a5a21",
   "metadata": {},
   "outputs": [],
   "source": [
    "# Regular Expression(regex)\n",
    "# A regular expression or RegEx is a special sequence of character that uses a search pattern to find a string or set of strings.\n",
    "# it can detect the presence or absence of a text by matching it with a particular\n",
    "# pattern and also can split a pattern into one or more sub-patterns.\n",
    "# python has a built-in module named \"re\" that is used for regular expressions in python\n",
    "https://regex101.com/"
   ]
  },
  {
   "cell_type": "code",
   "execution_count": null,
   "id": "c48848bb-516b-4e2b-b8f0-ca42712d4bf4",
   "metadata": {},
   "outputs": [],
   "source": [
    "# Common regex function in python\n",
    "\n",
    "#  Function                               Description\n",
    "# re.match()        Checks for a match only at the beginning of the string.\n",
    "# re.search()       Searches the entire string for the first match of the pattern.\n",
    "# re.findall()      Returns a list of all non-overlapping matches in the string.\n",
    "# re.split()        Splits the string at each match of the pattern and returns a list.\n",
    "# re.sub()          Replaces all matches with a specified string and returns the new string.\n"
   ]
  },
  {
   "cell_type": "code",
   "execution_count": null,
   "id": "ebe6d9ae-3df6-44e3-9741-417f340324c0",
   "metadata": {},
   "outputs": [],
   "source": [
    "# Regex special sequences\n",
    "# A special sequence consists of \"\\\" and some selected characters. every special sequence has a unique meaning.\n",
    "\n",
    "| Character | Description                                                                                                                               |\n",
    "| --------- | ----------------------------------------------------------------------------------------------------------------------------------------- |\n",
    "| `\\A`      | Returns a match if the specified characters are at the beginning of the string                                                            |\n",
    "| `\\b`      | Returns a match where the specified characters are at the beginning or at the end of a word                                               |\n",
    "| `\\B`      | Returns a match where the specified characters are present, but NOT at the beginning (or at the end) of a word                            |\n",
    "| `\\d`      | Returns a match where the string contains digits (numbers from 0–9)                                                                       |\n",
    "| `\\D`      | Returns a match where the string DOES NOT contain digits                                                                                  |\n",
    "| `\\s`      | Returns a match where the string contains a white space character                                                                         |\n",
    "| `\\S`      | Returns a match where the string DOES NOT contain a white space character                                                                 |\n",
    "| `\\w`      | Returns a match where the string contains any word characters (characters from a to Z, digits from 0–9, and the underscore `_` character) |\n",
    "| `\\W`      | Returns a match where the string DOES NOT contain any word characters                                                                     |\n",
    "| `\\Z`      | Returns a match if the specified characters are at the end of the string                                                                  |\n",
    "\n",
    "\n",
    "    "
   ]
  },
  {
   "cell_type": "code",
   "execution_count": null,
   "id": "cc1878e2-0558-4487-bd61-adfaa96f7dc5",
   "metadata": {},
   "outputs": [],
   "source": [
    "Regex Metacharacters\n",
    "The special characters used in RegEx are known as metacharacters.\n",
    "\n",
    "For example, characters like '|', '+', or '*'.\n",
    "\n",
    "| Character | Description                                                                |           |\n",
    "| --------- | -------------------------------------------------------------------------- | --------- |\n",
    "| `[]`      | A set of characters                                                        |           |\n",
    "| `\\`       | Signals a special sequence (can also be used to escape special characters) |           |\n",
    "| `.`       | Any character (except newline character)                                   |           |\n",
    "| `^`       | Starts with                                                                |           |\n",
    "| `$`       | Ends with                                                                  |           |\n",
    "| `*`       | Zero or more occurrences                                                   |           |\n",
    "| `+`       | One or more occurrences                                                    |           |\n",
    "| `{}`      | Exactly the specified number of occurrences                                |           |\n",
    "| \\`        | \\`                                                                         | Either or |\n",
    "\n",
    "# Regex Metacharacters The special characters used in RegEx are known as metacharacters.\n",
    "\n",
    "For example, characters like '|', '+', or '*'.\n"
   ]
  },
  {
   "cell_type": "code",
   "execution_count": 3,
   "id": "2140e8d1-1030-4b5b-af6f-f140397b9082",
   "metadata": {},
   "outputs": [],
   "source": [
    "# Importing regular expression re module\n",
    "import re\n"
   ]
  },
  {
   "cell_type": "code",
   "execution_count": 5,
   "id": "0f154bdf-5769-468b-8f4c-6c1ca26183e7",
   "metadata": {},
   "outputs": [
    {
     "name": "stdout",
     "output_type": "stream",
     "text": [
      "Match at index 14, 21\n",
      "Full match: June 24\n",
      "Month: June\n",
      "Day: 24\n"
     ]
    }
   ],
   "source": [
    "# re.search()\n",
    "# This method either returns None (if the pattern doesn’t match), or a re.MatchObject contains information about the matching part of the string. This method stops after the first match, so this is best suited for testing a regular expression more than extracting data.\n",
    "\n",
    "# match.start() = index of the first character in the match\n",
    "\n",
    "# match.end() = index just after the last character in the match\n",
    "\n",
    "import re\n",
    "regex = r\"([a-zA-Z]+) (\\d+)\"\n",
    "\n",
    "match = re.search(regex, \"I was born on June 24\")\n",
    "if match != None:\n",
    "    print (\"Match at index %s, %s\" % (match.start(), match.end()))\n",
    "    print (\"Full match: %s\" % (match.group(0)))\n",
    "    print (\"Month: %s\" % (match.group(1)))\n",
    "    print (\"Day: %s\" % (match.group(2)))\n",
    "\n",
    "else:\n",
    "    print (\"The regex pattern does not match.\")\n"
   ]
  },
  {
   "cell_type": "code",
   "execution_count": 7,
   "id": "45604f95-3e5b-4f94-9e75-5089896af1ad",
   "metadata": {},
   "outputs": [
    {
     "name": "stdout",
     "output_type": "stream",
     "text": [
      "Match found: Spain\n"
     ]
    }
   ],
   "source": [
    "import re\n",
    "\n",
    "# Example text\n",
    "text = \"The rain in Spain falls mainly in the plain\"\n",
    "\n",
    "# search for a pattern\n",
    "pattern = r\"Spain\"\n",
    "match = re.search(pattern, text)\n",
    "if match:\n",
    "    print(\"Match found:\", match.group())\n",
    "else:\n",
    "    print(\"No Match\")"
   ]
  },
  {
   "cell_type": "code",
   "execution_count": 9,
   "id": "46f4aa8a-2b44-4d26-b539-0aa37d662dfa",
   "metadata": {},
   "outputs": [
    {
     "name": "stdout",
     "output_type": "stream",
     "text": [
      "All Matches: ['in', 'in']\n"
     ]
    }
   ],
   "source": [
    "# re.findall()\n",
    "# re.findall(pattern, string)\n",
    "\n",
    "# Scans the entire string.\n",
    "\n",
    "# Returns a list of all matching substrings.\n",
    "\n",
    "# No match object, just a list of strings.\n",
    "\n",
    "# Example text\n",
    "text = \"The rain in Spain falls mainly in the plain\"\n",
    "# Find all occurances of pattern\n",
    "pattern = r\"in\"\n",
    "pattern = r\"\\bin\\b\"\n",
    "matches = re.findall(pattern, text)\n",
    "print(\"All Matches:\", matches)"
   ]
  },
  {
   "cell_type": "code",
   "execution_count": 13,
   "id": "a4e26359-ce41-47a3-8d16-829faaf70add",
   "metadata": {},
   "outputs": [
    {
     "name": "stderr",
     "output_type": "stream",
     "text": [
      "<>:4: SyntaxWarning: invalid escape sequence '\\d'\n",
      "<>:4: SyntaxWarning: invalid escape sequence '\\d'\n",
      "C:\\Users\\harsh\\AppData\\Local\\Temp\\ipykernel_25388\\2983204438.py:4: SyntaxWarning: invalid escape sequence '\\d'\n",
      "  pattern = '\\d{10}|\\(\\d{3}\\)-\\d{3}-\\d{5}'\n"
     ]
    },
    {
     "data": {
      "text/plain": [
       "['9873746466', '(879)-773-83773']"
      ]
     },
     "execution_count": 13,
     "metadata": {},
     "output_type": "execute_result"
    }
   ],
   "source": [
    "text = '''Cloudblitz manager phone number is 9873746466, call him if you have any questions regarding sessions management.\n",
    "Office landline number is (879)-773-83773'''\n",
    "\n",
    "pattern = '\\d{10}|\\(\\d{3}\\)-\\d{3}-\\d{5}'\n",
    "\n",
    "matches = re.findall(pattern, text)\n",
    "matches"
   ]
  },
  {
   "cell_type": "code",
   "execution_count": 15,
   "id": "4f1f228c-d41a-4371-a1cb-b58ceb0c58be",
   "metadata": {},
   "outputs": [
    {
     "name": "stdout",
     "output_type": "stream",
     "text": [
      "['aba']\n",
      "['aba', 'aba']\n"
     ]
    }
   ],
   "source": [
    "import re\n",
    "text = \"ababab\"\n",
    "pattern = re.findall(r\"aba\", text)\n",
    "print(pattern)  # Output: ['aba']\n",
    "\n",
    "\n",
    "pattern = re.findall(r\"(?=(aba))\", \"ababab\")\n",
    "print(pattern)  # Output: ['aba', 'aba']"
   ]
  },
  {
   "cell_type": "code",
   "execution_count": 17,
   "id": "1ec385a1-7b90-4190-adbc-39edd5315922",
   "metadata": {},
   "outputs": [
    {
     "name": "stdout",
     "output_type": "stream",
     "text": [
      "['Words', 'words', 'Words']\n",
      "['Word', 's', 'words', 'Words']\n",
      "['On', '12th', 'Jan', '2016', 'at', '11', '02', 'AM']\n",
      "['On ', 'th Jan ', ', at ', ':', ' AM']\n",
      "['On ', 'th Jan 2016, at 11:02 AM']\n",
      "['', 'y, ', 'oy oh ', 'oy, ', 'om', ' h', 'r', '']\n",
      "['A', 'y, Boy oh ', 'oy, ', 'om', ' h', 'r', '']\n"
     ]
    },
    {
     "name": "stderr",
     "output_type": "stream",
     "text": [
      "<>:8: SyntaxWarning: invalid escape sequence '\\W'\n",
      "<>:9: SyntaxWarning: invalid escape sequence '\\W'\n",
      "<>:10: SyntaxWarning: invalid escape sequence '\\W'\n",
      "<>:11: SyntaxWarning: invalid escape sequence '\\d'\n",
      "<>:13: SyntaxWarning: invalid escape sequence '\\d'\n",
      "<>:8: SyntaxWarning: invalid escape sequence '\\W'\n",
      "<>:9: SyntaxWarning: invalid escape sequence '\\W'\n",
      "<>:10: SyntaxWarning: invalid escape sequence '\\W'\n",
      "<>:11: SyntaxWarning: invalid escape sequence '\\d'\n",
      "<>:13: SyntaxWarning: invalid escape sequence '\\d'\n",
      "C:\\Users\\harsh\\AppData\\Local\\Temp\\ipykernel_25388\\1737540765.py:8: SyntaxWarning: invalid escape sequence '\\W'\n",
      "  print(split('\\W+', 'Words, words , Words'))\n",
      "C:\\Users\\harsh\\AppData\\Local\\Temp\\ipykernel_25388\\1737540765.py:9: SyntaxWarning: invalid escape sequence '\\W'\n",
      "  print(split('\\W+', \"Word's words Words\"))\n",
      "C:\\Users\\harsh\\AppData\\Local\\Temp\\ipykernel_25388\\1737540765.py:10: SyntaxWarning: invalid escape sequence '\\W'\n",
      "  print(split('\\W+', 'On 12th Jan 2016, at 11:02 AM'))\n",
      "C:\\Users\\harsh\\AppData\\Local\\Temp\\ipykernel_25388\\1737540765.py:11: SyntaxWarning: invalid escape sequence '\\d'\n",
      "  print(split('\\d+', 'On 12th Jan 2016, at 11:02 AM'))\n",
      "C:\\Users\\harsh\\AppData\\Local\\Temp\\ipykernel_25388\\1737540765.py:13: SyntaxWarning: invalid escape sequence '\\d'\n",
      "  print(re.split('\\d+', 'On 12th Jan 2016, at 11:02 AM', 1))\n"
     ]
    }
   ],
   "source": [
    "# re.split()\n",
    "# Split string by the occurrences of a character or a pattern, upon finding that pattern, the remaining characters from the string are returned as part of the resulting list.\n",
    "\n",
    "# Syntax re.split(pattern, string, maxsplit=0, flags=0)\n",
    "\n",
    "from re import split\n",
    "\n",
    "print(split('\\W+', 'Words, words , Words'))\n",
    "print(split('\\W+', \"Word's words Words\"))\n",
    "print(split('\\W+', 'On 12th Jan 2016, at 11:02 AM'))\n",
    "print(split('\\d+', 'On 12th Jan 2016, at 11:02 AM'))\n",
    "\n",
    "print(re.split('\\d+', 'On 12th Jan 2016, at 11:02 AM', 1))\n",
    "print(re.split('[a-f]+', 'Aey, Boy oh boy, come here', flags=re.IGNORECASE))\n",
    "print(re.split('[a-f]+', 'Aey, Boy oh boy, come here'))"
   ]
  },
  {
   "cell_type": "code",
   "execution_count": 19,
   "id": "c4684dd2-cdf1-47b6-9367-e9d446b0b165",
   "metadata": {},
   "outputs": [
    {
     "name": "stdout",
     "output_type": "stream",
     "text": [
      "S~*ject has ~*er booked already\n",
      "S~*ject has Uber booked already\n",
      "S~*ject has Uber booked already\n",
      "Baked Beans & Spam\n"
     ]
    }
   ],
   "source": [
    "# re.sub()\n",
    "# The ‘sub’ in the function stands for SubString, a certain regular expression pattern is searched in the given string(3rd parameter), and upon finding the substring pattern is replaced by repl(2nd parameter), count checks and maintains the number of times this occurs.\n",
    "\n",
    "# syntax re.sub(pattern, repl, string, count=0, flags=0)\n",
    "\n",
    "import re\n",
    "print(re.sub('ub', '~*', 'Subject has Uber booked already',\n",
    "             flags=re.IGNORECASE))\n",
    "print(re.sub('ub', '~*', 'Subject has Uber booked already'))\n",
    "print(re.sub('ub', '~*', 'Subject has Uber booked already',\n",
    "             count=1, flags=re.IGNORECASE))\n",
    "print(re.sub(r'\\sAND\\s', ' & ', 'Baked Beans And Spam',\n",
    "              flags=re.IGNORECASE))"
   ]
  },
  {
   "cell_type": "code",
   "execution_count": 21,
   "id": "40dd721d-4a0c-4592-88e7-456a65502c86",
   "metadata": {},
   "outputs": [
    {
     "name": "stdout",
     "output_type": "stream",
     "text": [
      "Matched: 123\n"
     ]
    }
   ],
   "source": [
    "# re.match()\n",
    "# re.match(pattern, string)\n",
    "\n",
    "# Checks only at the beginning of the string.\n",
    "\n",
    "# Returns a match object if the pattern matches from the start.\n",
    "\n",
    "# Stops at the first match.\n",
    "\n",
    "import re\n",
    "\n",
    "result = re.match(r'\\d+', '123abc')\n",
    "if result:\n",
    "    print(\"Matched:\", result.group())"
   ]
  },
  {
   "cell_type": "code",
   "execution_count": null,
   "id": "915daa30-0459-462f-b37e-eaf5b2315c44",
   "metadata": {},
   "outputs": [],
   "source": []
  }
 ],
 "metadata": {
  "kernelspec": {
   "display_name": "Python [conda env:base] *",
   "language": "python",
   "name": "conda-base-py"
  },
  "language_info": {
   "codemirror_mode": {
    "name": "ipython",
    "version": 3
   },
   "file_extension": ".py",
   "mimetype": "text/x-python",
   "name": "python",
   "nbconvert_exporter": "python",
   "pygments_lexer": "ipython3",
   "version": "3.12.7"
  }
 },
 "nbformat": 4,
 "nbformat_minor": 5
}
