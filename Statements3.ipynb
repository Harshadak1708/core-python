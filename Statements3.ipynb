{
 "cells": [
  {
   "cell_type": "code",
   "execution_count": null,
   "id": "265db0ec-ea35-4192-b6e2-8510ad8acc80",
   "metadata": {},
   "outputs": [],
   "source": [
    "# making decision with conditional statements\n",
    "\n",
    "# Conditional statement - also known as decision-making statements. we use these conditional statements to \n",
    "# Execute the specific block of code if the given condition is true or false.\n",
    "\n",
    "# if statements\n",
    "# if else statements\n",
    "# elif statements\n",
    "# Nested if and if-else statements\n"
   ]
  },
  {
   "cell_type": "code",
   "execution_count": 1,
   "id": "eb937c79-f7b6-4377-a567-be503a623b26",
   "metadata": {},
   "outputs": [
    {
     "name": "stdout",
     "output_type": "stream",
     "text": [
      "True\n"
     ]
    }
   ],
   "source": [
    "# if statements(4 spaces for indentation or use a tab)\n",
    "\n",
    "a = 5\n",
    "b = 3\n",
    "if a >= b:\n",
    "    print(\"True\")"
   ]
  },
  {
   "cell_type": "code",
   "execution_count": 5,
   "id": "4112a645-ec39-4f6a-960e-01c73456e5e2",
   "metadata": {},
   "outputs": [],
   "source": [
    "a = 6\n",
    "b = 3\n",
    "if a <= b:\n",
    "    print(\"True\")   # it does not fullfil the condition "
   ]
  },
  {
   "cell_type": "code",
   "execution_count": 8,
   "id": "1d648c01-8292-4fc4-bed6-c44fed114f99",
   "metadata": {},
   "outputs": [
    {
     "name": "stdout",
     "output_type": "stream",
     "text": [
      "a is not less than b\n"
     ]
    }
   ],
   "source": [
    "# if else statements\n",
    "\n",
    "a = 6\n",
    "b = 4\n",
    "if a < b:\n",
    "    print(\"a is less than b\")\n",
    "else:\n",
    "    print(\"a is not less than b\")"
   ]
  },
  {
   "cell_type": "code",
   "execution_count": 16,
   "id": "8e873ccc-d569-435d-81a3-c6354a84e227",
   "metadata": {},
   "outputs": [
    {
     "name": "stdout",
     "output_type": "stream",
     "text": [
      "a is less than b\n"
     ]
    }
   ],
   "source": [
    "a = 1\n",
    "b = 6\n",
    "if a < b:\n",
    "    print(\"a is less than b\")\n",
    "else:\n",
    "    print(\"a is not less than b\")"
   ]
  },
  {
   "cell_type": "code",
   "execution_count": 18,
   "id": "e4383c0b-894f-4e68-9c41-f8b659297edc",
   "metadata": {},
   "outputs": [
    {
     "name": "stdout",
     "output_type": "stream",
     "text": [
      "a is equal to b\n"
     ]
    }
   ],
   "source": [
    "# elif statements - ???????\n",
    "\n",
    "a = 6\n",
    "b = 6\n",
    "if a < b:\n",
    "    print(\"a is less than b\")\n",
    "elif a > b:\n",
    "    print(\"a is greater than b\")\n",
    "else:\n",
    "    print(\"a is equal to b\")"
   ]
  },
  {
   "cell_type": "code",
   "execution_count": 20,
   "id": "8435f243-e4bb-447f-94db-0a1eadd3fa70",
   "metadata": {},
   "outputs": [
    {
     "name": "stdout",
     "output_type": "stream",
     "text": [
      "a is less than b\n"
     ]
    }
   ],
   "source": [
    "a = 8\n",
    "b = 9\n",
    "if a != b:\n",
    "    print(\"a is less than b\")\n",
    "elif a == b:\n",
    "    print(\"a is greater than b\")\n",
    "else:\n",
    "    print(\"a is equal to b\")"
   ]
  },
  {
   "cell_type": "code",
   "execution_count": 27,
   "id": "a6ad1728-e0de-4f85-93da-4a3408f34f0f",
   "metadata": {},
   "outputs": [
    {
     "name": "stdout",
     "output_type": "stream",
     "text": [
      "a is greater than 10\n",
      "a is less than 20\n"
     ]
    }
   ],
   "source": [
    "# Nested if-else statements\n",
    "# syntax:\n",
    "# if(condition):\n",
    "    # statements to execute if condition is true\n",
    "   # if(condition):\n",
    "        # statements to execute if condition is true\n",
    "     # end of nested if\n",
    " # end of if\n",
    "\n",
    "a = 15\n",
    "if a > 10:\n",
    "    print(\"a is greater than 10\")\n",
    "    if a < 20:\n",
    "       print(\"a is less than 20\")\n",
    "    else:\n",
    "       print(\"a is 20 or more\")\n"
   ]
  },
  {
   "cell_type": "code",
   "execution_count": 35,
   "id": "a745fae4-acde-4ed3-a02e-3d71f2af15c7",
   "metadata": {},
   "outputs": [
    {
     "name": "stdout",
     "output_type": "stream",
     "text": [
      "a is less than 8\n",
      "a is greater than 2\n"
     ]
    }
   ],
   "source": [
    "a = 5\n",
    "if a < 8:\n",
    "    print(\"a is less than 8\")\n",
    "    if a > 2:\n",
    "       print(\"a is greater than 2\")\n",
    "    else:\n",
    "       print(\"a is 5 or more\")\n",
    "        "
   ]
  },
  {
   "cell_type": "code",
   "execution_count": 37,
   "id": "172079ac-c869-4c13-a1d8-173f31f7e3ce",
   "metadata": {},
   "outputs": [
    {
     "name": "stdout",
     "output_type": "stream",
     "text": [
      "condition is failed\n"
     ]
    }
   ],
   "source": [
    "a = 200\n",
    "b = 33\n",
    "c = 500\n",
    "if a > b and c == a:\n",
    "    print(\"both condition are true\")\n",
    "else:\n",
    "    print(\"condition is failed\")"
   ]
  },
  {
   "cell_type": "code",
   "execution_count": 41,
   "id": "b47463f4-20b6-49f2-84a6-b2c1ac7afe6e",
   "metadata": {},
   "outputs": [
    {
     "name": "stdout",
     "output_type": "stream",
     "text": [
      "x is greater than 3\n"
     ]
    }
   ],
   "source": [
    "# shorthand if statement ---- there is only a single statement to be executed inside the if block, so it can be used.\n",
    "# syntax :\n",
    "# if condition: statement\n",
    "\n",
    "# simple shorthand - if\n",
    "x = 5\n",
    "if x > 3: print(\"x is greater than 3\")\n",
    "\n",
    "\n"
   ]
  },
  {
   "cell_type": "code",
   "execution_count": 43,
   "id": "deca3e51-6d9a-4fea-9dad-e7fdb14b7e9c",
   "metadata": {},
   "outputs": [
    {
     "name": "stdout",
     "output_type": "stream",
     "text": [
      "Odd\n"
     ]
    }
   ],
   "source": [
    "# shorthand if-else\n",
    "x = 7\n",
    "print(\"Even\") if x % 2 == 0 else print(\"Odd\")"
   ]
  },
  {
   "cell_type": "code",
   "execution_count": null,
   "id": "4d8e5371-45b2-424a-8263-112c8c79eff1",
   "metadata": {},
   "outputs": [],
   "source": []
  }
 ],
 "metadata": {
  "kernelspec": {
   "display_name": "Python [conda env:base] *",
   "language": "python",
   "name": "conda-base-py"
  },
  "language_info": {
   "codemirror_mode": {
    "name": "ipython",
    "version": 3
   },
   "file_extension": ".py",
   "mimetype": "text/x-python",
   "name": "python",
   "nbconvert_exporter": "python",
   "pygments_lexer": "ipython3",
   "version": "3.12.7"
  }
 },
 "nbformat": 4,
 "nbformat_minor": 5
}
