{
 "cells": [
  {
   "cell_type": "code",
   "execution_count": null,
   "id": "ec1922bf-aed1-483a-bdfc-08d10b1e55f2",
   "metadata": {},
   "outputs": [],
   "source": [
    "# for and while loop\n",
    "# loop in python --- loops are an essential construct in all programming languages.in that the program firdt checks for a condition,\n",
    "#                    if this condition is true,some piece of code is run.the code will keep on running unless the condition becomes invalid.\n",
    "\n",
    "# types of loop structure --- for loop -- iterate a prdefined number of times. this is also known as definite iteration.\n",
    "#                             while loop -- keep on iterating until the condition is false. this is known as indefinite iteration(repeatation).\n",
    "\n",
    "# for loops in python\n",
    "# syntax : for i in <collection>:\n",
    "#          <loop body>\n",
    "\n"
   ]
  },
  {
   "cell_type": "code",
   "execution_count": 1,
   "id": "b278f1c8-d4b4-44d1-9c33-a898a0dddf36",
   "metadata": {},
   "outputs": [
    {
     "name": "stdout",
     "output_type": "stream",
     "text": [
      "1\n",
      "2\n",
      "3\n",
      "4\n",
      "rahul\n"
     ]
    }
   ],
   "source": [
    "# for loop (iteration)\n",
    "\n",
    "sample = [1,2,3,4,\"rahul\"]\n",
    "for samp in sample:\n",
    "    print(samp)"
   ]
  },
  {
   "cell_type": "code",
   "execution_count": 7,
   "id": "63709fbe-be44-4e59-8c7d-8ab5b3f4a188",
   "metadata": {},
   "outputs": [
    {
     "name": "stdout",
     "output_type": "stream",
     "text": [
      "['n', 'o', 'h', 't', 'y', 'p']\n"
     ]
    }
   ],
   "source": [
    "list1 = []\n",
    "for i in \"python\"[::-1]:\n",
    "    list1.append(i)\n",
    "print(list1)\n"
   ]
  },
  {
   "cell_type": "code",
   "execution_count": 9,
   "id": "c303b2ec-f73d-4be1-a043-5858e36a091d",
   "metadata": {},
   "outputs": [
    {
     "name": "stdout",
     "output_type": "stream",
     "text": [
      "['a', 'v', 'r', 'o', 'o', 'p', 'a']\n"
     ]
    }
   ],
   "source": [
    "list2 = []\n",
    "name = \"apoorva\"\n",
    "reverse_name = name[::-1]\n",
    "for i in reverse_name:\n",
    "    list2.append(i)\n",
    "print(list2)"
   ]
  },
  {
   "cell_type": "code",
   "execution_count": 13,
   "id": "635c1d9d-5fe1-4b01-94d9-1b480991b14c",
   "metadata": {},
   "outputs": [
    {
     "name": "stdout",
     "output_type": "stream",
     "text": [
      "0\n",
      "1\n",
      "2\n",
      "3\n",
      "4\n"
     ]
    }
   ],
   "source": [
    "# range --- it is built in function that generates a sequence of numbers.commonly used in for loops to iterate specific number of time.\n",
    "#            it take 1,2 or 3 arguments:range(start,sto,step).\n",
    "\n",
    "for i in range(0,5):\n",
    "    print(i)"
   ]
  },
  {
   "cell_type": "code",
   "execution_count": 15,
   "id": "885542b1-aae5-462c-ad23-217ea34bd5e3",
   "metadata": {},
   "outputs": [
    {
     "name": "stdout",
     "output_type": "stream",
     "text": [
      "0\n",
      "1\n",
      "4\n",
      "9\n",
      "16\n",
      "25\n",
      "36\n",
      "49\n",
      "64\n",
      "81\n",
      "100\n",
      "121\n",
      "144\n",
      "169\n",
      "196\n",
      "225\n",
      "256\n",
      "289\n",
      "324\n",
      "361\n",
      "400\n",
      "441\n",
      "484\n",
      "529\n",
      "576\n",
      "625\n"
     ]
    }
   ],
   "source": [
    "# print square from 0 to 25\n",
    "for i in range(26):\n",
    "    print(i**2)"
   ]
  },
  {
   "cell_type": "code",
   "execution_count": 17,
   "id": "05b05405-7ac0-43fb-af1e-61207145a754",
   "metadata": {},
   "outputs": [
    {
     "name": "stdout",
     "output_type": "stream",
     "text": [
      "2\n",
      "7\n",
      "12\n"
     ]
    }
   ],
   "source": [
    "for i in range(2,15,5):\n",
    "    print(i)"
   ]
  },
  {
   "cell_type": "code",
   "execution_count": 19,
   "id": "17a249b9-c07f-4705-8c39-a78515a42eda",
   "metadata": {},
   "outputs": [
    {
     "name": "stdout",
     "output_type": "stream",
     "text": [
      "2\n",
      "3\n",
      "4\n",
      "rahul\n"
     ]
    }
   ],
   "source": [
    "for i in range(1, len(sample)):\n",
    "    print(sample[i])"
   ]
  },
  {
   "cell_type": "code",
   "execution_count": 26,
   "id": "87268f61-cb98-4e96-b863-ea1a04be2b1b",
   "metadata": {},
   "outputs": [
    {
     "name": "stdout",
     "output_type": "stream",
     "text": [
      "the capital of the countryIndia is New Delhi and also has the riverGanga.\n",
      "the capital of the countryAustralia is Canberra and also has the riverRovers.\n",
      "the capital of the countryUsa is Washington DC and also has the riverMissori.\n"
     ]
    }
   ],
   "source": [
    "# let us iterate through each tuple element of the list\n",
    "\n",
    "country_city_river_list = [('India', 'New Delhi', 'Ganga'), ('Australia', 'Canberra', 'Rovers'), ('Usa', 'Washington DC', 'Missori')]\n",
    "for country,city,river in country_city_river_list:\n",
    "    print(f'the capital of the country{country} is {city} and also has the river{river}.')"
   ]
  },
  {
   "cell_type": "code",
   "execution_count": 28,
   "id": "6d413489-ae84-44dd-812a-f1708daa2402",
   "metadata": {},
   "outputs": [
    {
     "name": "stdout",
     "output_type": "stream",
     "text": [
      "(0, 'pratik')\n",
      "(1, 'mahima')\n",
      "(2, 'harshada')\n",
      "(3, 'chaturthi')\n"
     ]
    }
   ],
   "source": [
    "# Enumerate() --- enumerate is used for iterating over a \"single sequence\" while keeping track of the index, whereas zip is used for combining\n",
    "#                 \"multiple sequences\"element wise.\n",
    "\n",
    "name = ['pratik','mahima','harshada','chaturthi']\n",
    "for i in enumerate(name):\n",
    "    print(i)\n",
    "\n"
   ]
  },
  {
   "cell_type": "code",
   "execution_count": 30,
   "id": "ed1252af-38c3-4a28-b7d0-c7129f5296df",
   "metadata": {},
   "outputs": [
    {
     "data": {
      "text/plain": [
       "<enumerate at 0x19bee72d760>"
      ]
     },
     "execution_count": 30,
     "metadata": {},
     "output_type": "execute_result"
    }
   ],
   "source": [
    "enumerate(name)"
   ]
  },
  {
   "cell_type": "code",
   "execution_count": 32,
   "id": "43895892-399e-4b7a-8320-b710c931ef23",
   "metadata": {},
   "outputs": [
    {
     "data": {
      "text/plain": [
       "[(0, 'pratik'), (1, 'mahima'), (2, 'harshada'), (3, 'chaturthi')]"
      ]
     },
     "execution_count": 32,
     "metadata": {},
     "output_type": "execute_result"
    }
   ],
   "source": [
    "list(enumerate(name))"
   ]
  },
  {
   "cell_type": "code",
   "execution_count": 34,
   "id": "fae9ff8e-dd26-45e1-876e-32c9098e6102",
   "metadata": {},
   "outputs": [
    {
     "name": "stdout",
     "output_type": "stream",
     "text": [
      "rajini movie1\n",
      "rajini movie2\n",
      "rajini movie3\n",
      "kamal movie1\n",
      "kamal movie2\n",
      "kamal movie3\n",
      "vikram movie1\n",
      "vikram movie2\n",
      "vikram movie3\n"
     ]
    }
   ],
   "source": [
    "# nested for loop\n",
    "\n",
    "legends = ['rajini','kamal','vikram']\n",
    "dependents = ['movie1','movie2','movie3']\n",
    "\n",
    "for x in legends:\n",
    "    for y in dependents:\n",
    "        print(x,y)"
   ]
  },
  {
   "cell_type": "code",
   "execution_count": null,
   "id": "7a555412-deb8-49a4-ac2c-624dda040917",
   "metadata": {},
   "outputs": [],
   "source": [
    "# country river city...\n",
    "# print odd & even number in for loop\n",
    "# write a program to find a number is prime or not with user input...\n",
    "# print the name of people who have i in there name...\n",
    "# how to create marksheet? today"
   ]
  }
 ],
 "metadata": {
  "kernelspec": {
   "display_name": "Python [conda env:base] *",
   "language": "python",
   "name": "conda-base-py"
  },
  "language_info": {
   "codemirror_mode": {
    "name": "ipython",
    "version": 3
   },
   "file_extension": ".py",
   "mimetype": "text/x-python",
   "name": "python",
   "nbconvert_exporter": "python",
   "pygments_lexer": "ipython3",
   "version": "3.12.7"
  }
 },
 "nbformat": 4,
 "nbformat_minor": 5
}
