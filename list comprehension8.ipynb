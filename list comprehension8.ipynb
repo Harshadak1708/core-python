{
 "cells": [
  {
   "cell_type": "code",
   "execution_count": null,
   "id": "66153996-29f6-45b6-9d9b-5df9bb85281c",
   "metadata": {},
   "outputs": [],
   "source": [
    "# List comprehension\n",
    "# it offers a shorter syntax\n",
    "# Advantage : more time efficient and space efficient than loop\n",
    "#             fewer line of code\n",
    "#               iteration or looping\n",
    "\n",
    "# syntax : [expression for item in iterable if condition]\n",
    "# expression : the expression that produces the values you want to store in the list\n",
    "# item : the variable that takes the value of each element in the iterable(e.g. a list)\n",
    "# iterable : the collection or sequence you are iterating over(e.g. a list, string or range)\n",
    "# condition : a condition to filter which items to include in the new list\n"
   ]
  },
  {
   "cell_type": "code",
   "execution_count": 1,
   "id": "d745c47a-05de-4897-b235-2d0d091bc241",
   "metadata": {},
   "outputs": [
    {
     "name": "stdout",
     "output_type": "stream",
     "text": [
      "['apple', 'banana', 'mango']\n"
     ]
    }
   ],
   "source": [
    "# searching for \"a\" in the list elements\n",
    "fruits = [\"apple\", \"banana\", \"kiwi\", \"mango\", \"cherry\"]\n",
    "\n",
    "newlist = [ x for x in fruits if \"a\" in x]\n",
    "\n",
    "print(newlist)"
   ]
  },
  {
   "cell_type": "code",
   "execution_count": 3,
   "id": "fcb27b59-b134-4f0a-b124-c3af6070ae83",
   "metadata": {},
   "outputs": [
    {
     "data": {
      "text/plain": [
       "[2, 4, 6, 8, 10, 12, 14, 16, 18, 20, 22, 24, 26, 28, 30]"
      ]
     },
     "execution_count": 3,
     "metadata": {},
     "output_type": "execute_result"
    }
   ],
   "source": [
    "# even number\n",
    "even = [i for i in range(1,31) if i %2 == 0]\n",
    "even"
   ]
  },
  {
   "cell_type": "code",
   "execution_count": 5,
   "id": "2aa3fc53-a9ca-47cd-812c-beb3c872b4fd",
   "metadata": {},
   "outputs": [
    {
     "data": {
      "text/plain": [
       "['nohtyp', 'atad', 'ecneics']"
      ]
     },
     "execution_count": 5,
     "metadata": {},
     "output_type": "execute_result"
    }
   ],
   "source": [
    "new = [ string[::-1] for string in ('python', 'data', 'science')]\n",
    "new"
   ]
  },
  {
   "cell_type": "code",
   "execution_count": 7,
   "id": "a2e04d32-e325-4e4b-b25e-e7993a9d3b50",
   "metadata": {},
   "outputs": [
    {
     "data": {
      "text/plain": [
       "[1, 4, 9, 16, 25]"
      ]
     },
     "execution_count": 7,
     "metadata": {},
     "output_type": "execute_result"
    }
   ],
   "source": [
    "squares = [x**2 for x in range(1,6)]\n",
    "squares"
   ]
  },
  {
   "cell_type": "code",
   "execution_count": null,
   "id": "3e0b163e-342b-44f6-ae88-3a25fe798e7d",
   "metadata": {},
   "outputs": [],
   "source": []
  }
 ],
 "metadata": {
  "kernelspec": {
   "display_name": "Python [conda env:base] *",
   "language": "python",
   "name": "conda-base-py"
  },
  "language_info": {
   "codemirror_mode": {
    "name": "ipython",
    "version": 3
   },
   "file_extension": ".py",
   "mimetype": "text/x-python",
   "name": "python",
   "nbconvert_exporter": "python",
   "pygments_lexer": "ipython3",
   "version": "3.12.7"
  }
 },
 "nbformat": 4,
 "nbformat_minor": 5
}
