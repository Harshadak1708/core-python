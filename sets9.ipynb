{
 "cells": [
  {
   "cell_type": "code",
   "execution_count": null,
   "id": "bf9708ca-73d9-4594-a76d-c5814c405506",
   "metadata": {},
   "outputs": [],
   "source": [
    "# sets\n",
    "# no duplicate elements\n",
    "# an unorderd collection. when we access all items, they are accessed without any specific order and we cannot access \n",
    "# items using indexes as we do in lists. internally use hashing that makes set efficient for search. insert and delete operations\n",
    "# mutable,meaning we can add or remove elements after their creation, the individual elements within the set cannot be changed directly.\n",
    "# note: an empty set cannot be created with curly braces{}.\n",
    "# for set we use curly braces{}."
   ]
  },
  {
   "cell_type": "code",
   "execution_count": 1,
   "id": "9b326e39-4ca0-4533-8066-4d2bdeef9391",
   "metadata": {},
   "outputs": [
    {
     "data": {
      "text/plain": [
       "dict"
      ]
     },
     "execution_count": 1,
     "metadata": {},
     "output_type": "execute_result"
    }
   ],
   "source": [
    "s = {}\n",
    "type(s)"
   ]
  },
  {
   "cell_type": "code",
   "execution_count": 3,
   "id": "af20b2b6-5c45-4eaf-ab21-1dba18b72c91",
   "metadata": {},
   "outputs": [
    {
     "data": {
      "text/plain": [
       "set"
      ]
     },
     "execution_count": 3,
     "metadata": {},
     "output_type": "execute_result"
    }
   ],
   "source": [
    "# create an empty set\n",
    "empty_set = set()\n",
    "type(empty_set)"
   ]
  },
  {
   "cell_type": "code",
   "execution_count": 5,
   "id": "05162fbe-6d82-4472-b029-6e0c446daa7a",
   "metadata": {},
   "outputs": [
    {
     "name": "stdout",
     "output_type": "stream",
     "text": [
      "{10, 50, 20}\n",
      "<class 'set'>\n"
     ]
    }
   ],
   "source": [
    "s = {10,50,20}\n",
    "print(s)\n",
    "print(type(s))"
   ]
  },
  {
   "cell_type": "code",
   "execution_count": 7,
   "id": "6fd22e47-0182-481c-b17d-a876f92eb573",
   "metadata": {},
   "outputs": [
    {
     "name": "stdout",
     "output_type": "stream",
     "text": [
      "{10, 50, 20, 30}\n",
      "<class 'set'>\n"
     ]
    }
   ],
   "source": [
    "s = {10,50,20,50,20,30}\n",
    "print(s)\n",
    "print(type(s))"
   ]
  },
  {
   "cell_type": "code",
   "execution_count": 9,
   "id": "76e75dd5-e014-46a9-a08e-7d57ba3da438",
   "metadata": {},
   "outputs": [
    {
     "name": "stdout",
     "output_type": "stream",
     "text": [
      "{'b', 'a', 'c'}\n"
     ]
    }
   ],
   "source": [
    "# type casting with python set method\n",
    "s = set([\"a\", \"b\", \"c\"])\n",
    "print(s)"
   ]
  },
  {
   "cell_type": "code",
   "execution_count": 11,
   "id": "7cc071ca-7cd5-4d84-bb58-db0b04a1e434",
   "metadata": {},
   "outputs": [
    {
     "name": "stdout",
     "output_type": "stream",
     "text": [
      "{'d', 'b', 'a', 'c'}\n"
     ]
    }
   ],
   "source": [
    "# adding element to the set\n",
    "s.add(\"d\")\n",
    "print(s)"
   ]
  },
  {
   "cell_type": "code",
   "execution_count": 17,
   "id": "aac7a0a7-56c4-49ba-85cf-58091bf3638f",
   "metadata": {},
   "outputs": [
    {
     "name": "stdout",
     "output_type": "stream",
     "text": [
      "{'science', 'data', 'structure'}\n"
     ]
    }
   ],
   "source": [
    "# python program to demonstrate that a set cannot have duplicate values and we cannot change its items\n",
    "# a set cannot have duplicate values\n",
    "s = {\"data\", \"science\", \"data\", \"structure\"}\n",
    "print(s)\n",
    "\n",
    "# values of a set cannot be changed.\n",
    "# s[1] = \"hello\"\n",
    "# print(s)                # typeerror: \"set object does not support item assignment\".\n"
   ]
  },
  {
   "cell_type": "code",
   "execution_count": 19,
   "id": "07d4e4d6-4ba6-428d-b40a-6e9aa62a324f",
   "metadata": {},
   "outputs": [
    {
     "name": "stdout",
     "output_type": "stream",
     "text": [
      "{True, 52.7, 'greeks', 10, 'for'}\n"
     ]
    }
   ],
   "source": [
    "# python example demonstrate that a set\n",
    "# can store heterogeneous elements.(different types of elements)\n",
    "s = {\"greeks\", \"for\", 10, 52.7, True}\n",
    "print(s)"
   ]
  },
  {
   "cell_type": "code",
   "execution_count": null,
   "id": "f3ff9030-40f6-48a3-9984-3d41f9968b80",
   "metadata": {},
   "outputs": [],
   "source": []
  },
  {
   "cell_type": "code",
   "execution_count": null,
   "id": "52a95ca5-16b6-41ab-984c-095a01ab3d6a",
   "metadata": {},
   "outputs": [],
   "source": [
    "# Adding and removing elements from the sets\n",
    "# functions\n",
    "# add() : adds a given element to a set\n",
    "# clear() : removes all elemets from the set\n",
    "# discard() : removes the elemet from the set\n",
    "# pop() : returns and removes a random element from the set\n",
    "# remove() : removes the specified element from the set\n",
    "# if element is missing in remove() -- it rises keyerror but in discard -- it does nothing(no error)\n"
   ]
  },
  {
   "cell_type": "code",
   "execution_count": 21,
   "id": "56e2338f-0f1a-42ed-881f-ac15bdb2d48b",
   "metadata": {},
   "outputs": [
    {
     "name": "stdout",
     "output_type": "stream",
     "text": [
      "set after updating: {'g', 'e', 'f', 's', 'k'}\n"
     ]
    }
   ],
   "source": [
    "# set of letters\n",
    "s = {'g', 'e', 'k', 's'}\n",
    "\n",
    "# adding 's'\n",
    "s.add('f')\n",
    "print('set after updating:', s)"
   ]
  },
  {
   "cell_type": "code",
   "execution_count": 23,
   "id": "4f5fec2a-a44d-4230-9520-780700456bc1",
   "metadata": {},
   "outputs": [
    {
     "name": "stdout",
     "output_type": "stream",
     "text": [
      "set after updating: {'k', 'g', 's'}\n"
     ]
    }
   ],
   "source": [
    "s = {'g', 'e', 'k', 's'}\n",
    "# discarding element from the set( if any element not present still it does not show error)\n",
    "s.discard('e')\n",
    "print('set after updating:', s)"
   ]
  },
  {
   "cell_type": "code",
   "execution_count": 27,
   "id": "21f27444-059d-4fb9-9644-f21a6f158345",
   "metadata": {},
   "outputs": [
    {
     "name": "stdout",
     "output_type": "stream",
     "text": [
      "\n",
      "set after updating: {'e', 'k', 's'}\n"
     ]
    }
   ],
   "source": [
    "s = {'g', 'e', 'k', 's'}\n",
    "# removing element from the set\n",
    "s.remove('g')\n",
    "print('\\nset after updating:', s)\n"
   ]
  },
  {
   "cell_type": "code",
   "execution_count": 73,
   "id": "13fcc210-b01a-400e-b9be-a217224bc2c0",
   "metadata": {},
   "outputs": [],
   "source": [
    "# s = {'g', 'e', 'k', 's'}\n",
    "# # removing element from the set\n",
    "# s.remove('u')\n",
    "# print('\\nset after updating:', s)"
   ]
  },
  {
   "cell_type": "code",
   "execution_count": 31,
   "id": "b40d595f-ba69-4571-807e-c26e57e72f31",
   "metadata": {},
   "outputs": [
    {
     "name": "stdout",
     "output_type": "stream",
     "text": [
      "e\n"
     ]
    }
   ],
   "source": [
    "s = {'g', 'e', 'k', 's'}\n",
    "# popping elements from the set\n",
    "print(s.pop())\n",
    "# print('set after updating:', s)"
   ]
  },
  {
   "cell_type": "code",
   "execution_count": 33,
   "id": "6a9eb9e3-4efb-4ea9-a7d4-430ede249578",
   "metadata": {},
   "outputs": [
    {
     "name": "stdout",
     "output_type": "stream",
     "text": [
      "\n",
      "set after updating: set()\n"
     ]
    }
   ],
   "source": [
    "s.clear()\n",
    "print('\\nset after updating:', s)"
   ]
  },
  {
   "cell_type": "code",
   "execution_count": null,
   "id": "b38b7316-1308-473d-bd9c-2444823db1ad",
   "metadata": {},
   "outputs": [],
   "source": [
    "# update()\n",
    "# the update() method for sets is used to add elements from another set, list, tuple, or any iterable to the set\n",
    "# syntax -- set.update(*others)\n",
    "# it helps to add multiple elemets *others: this can be one or more iterables.\n",
    "# duplicate elements are ignored because sets only store unique elements\n"
   ]
  },
  {
   "cell_type": "code",
   "execution_count": 35,
   "id": "1f2ac0ea-5b0a-44a6-9fd5-edb98c836caa",
   "metadata": {},
   "outputs": [
    {
     "name": "stdout",
     "output_type": "stream",
     "text": [
      "{2, 3, 4, (3, 5)}\n"
     ]
    }
   ],
   "source": [
    "# example when we are adding element using add\n",
    "\n",
    "# sample = {2,3,5}\n",
    "# sample.add([3,4])\n",
    "# print(sample)     # typerror: unhasheble type: 'list'\n",
    "\n",
    "sample = {2,3,4}\n",
    "sample.add((3,5))\n",
    "print(sample)        # since tuple is immutable so it has added but as one element in same index"
   ]
  },
  {
   "cell_type": "code",
   "execution_count": 37,
   "id": "7e296af6-2b8d-4251-8abd-67df86b1c9db",
   "metadata": {},
   "outputs": [
    {
     "name": "stdout",
     "output_type": "stream",
     "text": [
      "{2, 3, 4, 8, 9}\n"
     ]
    }
   ],
   "source": [
    "# example of adding element using update()\n",
    "sample = {2,3,4}\n",
    "sample.update([8,9])\n",
    "print(sample)      # by using update we have added different element"
   ]
  },
  {
   "cell_type": "code",
   "execution_count": 39,
   "id": "0a358add-5a9f-4864-9b87-9a8ab587f349",
   "metadata": {},
   "outputs": [
    {
     "name": "stdout",
     "output_type": "stream",
     "text": [
      "{True, 2, 3, 4, 9.3}\n"
     ]
    }
   ],
   "source": [
    "sample = {2,3,4}\n",
    "sample.update([True,9.3])\n",
    "print(sample)"
   ]
  },
  {
   "cell_type": "code",
   "execution_count": 47,
   "id": "c624d92a-c849-4982-b8ad-a2296227058a",
   "metadata": {},
   "outputs": [
    {
     "name": "stdout",
     "output_type": "stream",
     "text": [
      "{2, 3, 4, 5, 6}\n"
     ]
    }
   ],
   "source": [
    "sample = {2,3,4}\n",
    "sample2 = {3,5,6}\n",
    "sample.update(sample2)\n",
    "print(sample)\n"
   ]
  },
  {
   "cell_type": "code",
   "execution_count": null,
   "id": "85d99d08-c2f1-4a1a-95b9-c019bf992c79",
   "metadata": {},
   "outputs": [],
   "source": []
  },
  {
   "cell_type": "code",
   "execution_count": null,
   "id": "e7b446ae-7bbe-49aa-b0a1-122106762741",
   "metadata": {},
   "outputs": [],
   "source": [
    "# union()\n",
    "# union of A and B is a set of all elements from both sets\n",
    "# also denoted by the operator (|)\n"
   ]
  },
  {
   "cell_type": "code",
   "execution_count": 49,
   "id": "95bbc3c5-96e1-44c8-b764-dd5d59a1f141",
   "metadata": {},
   "outputs": [
    {
     "data": {
      "text/plain": [
       "{1, 2, 3, 4, 5, 6, 7, 8}"
      ]
     },
     "execution_count": 49,
     "metadata": {},
     "output_type": "execute_result"
    }
   ],
   "source": [
    "A = {1,2,3,4,5}\n",
    "B = {4,5,6,7,8}\n",
    "A.union(B)"
   ]
  },
  {
   "cell_type": "code",
   "execution_count": 51,
   "id": "1487b216-585e-4c05-a879-a4baf372624c",
   "metadata": {},
   "outputs": [
    {
     "data": {
      "text/plain": [
       "{1, 2, 3, 4, 5, 6, 7, 8}"
      ]
     },
     "execution_count": 51,
     "metadata": {},
     "output_type": "execute_result"
    }
   ],
   "source": [
    "A | B"
   ]
  },
  {
   "cell_type": "code",
   "execution_count": null,
   "id": "72546581-d655-4ea8-87a3-965ceedce88a",
   "metadata": {},
   "outputs": [],
   "source": [
    "# intersection()\n",
    "# intersection() method returnd the intersection(commom) of two sets\n",
    "# also denoted by the operator (&)\n",
    "# intersection of A and B is a set of elements that are common in both the sets"
   ]
  },
  {
   "cell_type": "code",
   "execution_count": 53,
   "id": "9aed816d-617b-4594-b46b-1df24801a3e0",
   "metadata": {},
   "outputs": [
    {
     "data": {
      "text/plain": [
       "{4, 5}"
      ]
     },
     "execution_count": 53,
     "metadata": {},
     "output_type": "execute_result"
    }
   ],
   "source": [
    "A = {1,2,3,4,5}\n",
    "B = {4,5,6,7,8}\n",
    "A.intersection(B)"
   ]
  },
  {
   "cell_type": "code",
   "execution_count": 55,
   "id": "3fb7fbfe-0472-418b-8e3d-91ff297edc47",
   "metadata": {},
   "outputs": [
    {
     "data": {
      "text/plain": [
       "{4, 5}"
      ]
     },
     "execution_count": 55,
     "metadata": {},
     "output_type": "execute_result"
    }
   ],
   "source": [
    "A & B"
   ]
  },
  {
   "cell_type": "code",
   "execution_count": null,
   "id": "6502d5d0-bf92-46e5-b907-1324d5c589da",
   "metadata": {},
   "outputs": [],
   "source": [
    "# difference()\n",
    "# difference() method returns the difference of two sets\n",
    "# also denoted by the operator (-)\n",
    "# return a new set with elements in the set that are not in the others"
   ]
  },
  {
   "cell_type": "code",
   "execution_count": 57,
   "id": "12b26406-6502-45be-9bc6-0ec9b1787b76",
   "metadata": {},
   "outputs": [
    {
     "data": {
      "text/plain": [
       "{1, 2, 3}"
      ]
     },
     "execution_count": 57,
     "metadata": {},
     "output_type": "execute_result"
    }
   ],
   "source": [
    "A = {1,2,3,4,5}\n",
    "B = {4,5,6,7,8}\n",
    "A.difference(B)"
   ]
  },
  {
   "cell_type": "code",
   "execution_count": 59,
   "id": "0c803909-b303-4853-9936-5eb73f25f35e",
   "metadata": {},
   "outputs": [
    {
     "data": {
      "text/plain": [
       "{1, 2, 3}"
      ]
     },
     "execution_count": 59,
     "metadata": {},
     "output_type": "execute_result"
    }
   ],
   "source": [
    "A - B"
   ]
  },
  {
   "cell_type": "code",
   "execution_count": null,
   "id": "5d05e185-9856-4985-b1d3-3581e0c47356",
   "metadata": {},
   "outputs": [],
   "source": [
    "# symmetric_difference()\n",
    "# denoted by the operator(^)\n",
    "# symmetric_difference() method returns all the elements without the intersection\n",
    "# the symmetric difference between two sets is the set of all the elements that are either in the first set or the second set but not in both"
   ]
  },
  {
   "cell_type": "code",
   "execution_count": 71,
   "id": "e9703624-86db-4c7f-9547-9aee2a3e9ee8",
   "metadata": {},
   "outputs": [
    {
     "data": {
      "text/plain": [
       "{1, 2, 3, 6, 7, 8}"
      ]
     },
     "execution_count": 71,
     "metadata": {},
     "output_type": "execute_result"
    }
   ],
   "source": [
    "A = {1,2,3,4,5}\n",
    "B = {4,5,6,7,8}\n",
    "A.symmetric_difference(B)"
   ]
  },
  {
   "cell_type": "code",
   "execution_count": 69,
   "id": "ef36ffe1-25fa-40ab-ab5b-859f4de760b0",
   "metadata": {},
   "outputs": [
    {
     "data": {
      "text/plain": [
       "{1, 2, 3, 6, 7, 8}"
      ]
     },
     "execution_count": 69,
     "metadata": {},
     "output_type": "execute_result"
    }
   ],
   "source": [
    "A ^ B"
   ]
  },
  {
   "cell_type": "code",
   "execution_count": 67,
   "id": "dea5e879-66df-4e70-86ed-a855f73f87f2",
   "metadata": {},
   "outputs": [
    {
     "name": "stdout",
     "output_type": "stream",
     "text": [
      "{4, 5}\n"
     ]
    }
   ],
   "source": [
    "# printing intersection without using . intersection operator\n",
    "A = {1,2,3,4,5}\n",
    "B = {4,5,6,7,8}\n",
    "print((B|A) -(A^B))\n",
    "\n",
    "# (B|A) = {1,2,3,4,5,6,7,8}\n",
    "# (A^B) = {1,2,3,6,7,8}\n",
    "# (B|A)-(A^B)= {1,2,3,4,5,6,7,8} - (1,2,3,6,7,8}\n",
    "# (B|A)-(A^B)= {4,5}"
   ]
  },
  {
   "cell_type": "code",
   "execution_count": null,
   "id": "6efb04cf-fbf5-423b-a0ee-aa9b7ac75e94",
   "metadata": {},
   "outputs": [],
   "source": [
    "# frozensets\n",
    "# a frozenset is like a set, but its immutable(cant be changed after creation)\n",
    "# useful when you need a set as a dictionary key or  want to ensure the set stays constant\n",
    "# syntax : frozenset(iterable_object_name)"
   ]
  },
  {
   "cell_type": "code",
   "execution_count": 75,
   "id": "f1b52543-53a8-4466-ad07-2958e6c98bed",
   "metadata": {},
   "outputs": [
    {
     "name": "stdout",
     "output_type": "stream",
     "text": [
      "normal set\n",
      "{'b', 'a', 'c'}\n"
     ]
    }
   ],
   "source": [
    "# pyhton program to demonstrate differences\n",
    "# between normal and frozenset\n",
    "\n",
    "# same as {\"a\", \"b\", \"c\"}\n",
    "s = set([\"a\", \"b\", \"c\"])\n",
    "print(\"normal set\")\n",
    "print(s)"
   ]
  },
  {
   "cell_type": "code",
   "execution_count": 79,
   "id": "235921b5-a9c0-4408-a803-f6c344e51496",
   "metadata": {},
   "outputs": [
    {
     "name": "stdout",
     "output_type": "stream",
     "text": [
      "\n",
      "frozen set\n",
      "frozenset({'e', 'f', 'g'})\n"
     ]
    }
   ],
   "source": [
    "# frozenset\n",
    "fs = frozenset([\"e\", \"f\", \"g\"])\n",
    "print(\"\\nfrozen set\")\n",
    "print(fs)\n",
    "\n",
    "# uncommenting below line would cause error as we are trying to add element to a frozenset\n",
    "# fs.add(\"h\")"
   ]
  },
  {
   "cell_type": "code",
   "execution_count": 81,
   "id": "a0fe7db9-681b-40c7-8cae-4358f0ba1afc",
   "metadata": {},
   "outputs": [
    {
     "name": "stdout",
     "output_type": "stream",
     "text": [
      "True\n",
      "False\n"
     ]
    }
   ],
   "source": [
    "animals = frozenset([\"cat\", \"dog\", \"lion\"])\n",
    "print(\"cat\" in animals)\n",
    "print(\"elephant\" in animals)"
   ]
  },
  {
   "cell_type": "code",
   "execution_count": 85,
   "id": "ced8e6df-0177-4957-9c00-36a0d8c950fb",
   "metadata": {},
   "outputs": [
    {
     "name": "stdout",
     "output_type": "stream",
     "text": [
      "frozenset({1, 2, 3, 4})\n",
      "frozenset({1, 2, 3, 4, 5, 6})\n",
      "frozenset({3, 4})\n",
      "frozenset({1, 2})\n",
      "frozenset({1, 2, 5, 6})\n"
     ]
    }
   ],
   "source": [
    "# initialize A and B\n",
    "A = frozenset([1,2,3,4])\n",
    "B = frozenset([3,4,5,6])\n",
    "\n",
    "# copying a frozenset\n",
    "C = A.copy()\n",
    "print(C)\n",
    "\n",
    "# union\n",
    "union_set = A.union(B)\n",
    "print(union_set)\n",
    "\n",
    "# intersection\n",
    "intersection_set = A.intersection(B)\n",
    "print(intersection_set)\n",
    "\n",
    "# difference\n",
    "difference_set = A.difference(B)\n",
    "print(difference_set)\n",
    "\n",
    "# symmetric_difference\n",
    "symmetric_difference_set = A.symmetric_difference(B)\n",
    "print(symmetric_difference_set)"
   ]
  },
  {
   "cell_type": "code",
   "execution_count": null,
   "id": "6ef24a05-e6b3-4e61-a2b4-66701a538027",
   "metadata": {},
   "outputs": [],
   "source": []
  }
 ],
 "metadata": {
  "kernelspec": {
   "display_name": "Python [conda env:base] *",
   "language": "python",
   "name": "conda-base-py"
  },
  "language_info": {
   "codemirror_mode": {
    "name": "ipython",
    "version": 3
   },
   "file_extension": ".py",
   "mimetype": "text/x-python",
   "name": "python",
   "nbconvert_exporter": "python",
   "pygments_lexer": "ipython3",
   "version": "3.12.7"
  }
 },
 "nbformat": 4,
 "nbformat_minor": 5
}
