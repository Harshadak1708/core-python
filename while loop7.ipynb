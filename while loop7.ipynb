{
 "cells": [
  {
   "cell_type": "code",
   "execution_count": null,
   "id": "4fa10a03-1c2d-475e-8296-723d1d210589",
   "metadata": {},
   "outputs": [],
   "source": [
    "# while loop --- while loop is used to execute a block of statements repeatedly until a given condition is satisfied.\n",
    "#                and when the condition becomes false, the line immediately after the loop in the program is executed.\n",
    "# syntax : while expression:\n",
    "#                statements(s)\n",
    "\n"
   ]
  },
  {
   "cell_type": "code",
   "execution_count": 1,
   "id": "ff40a46b-7518-4b43-9566-cf87363080d6",
   "metadata": {},
   "outputs": [
    {
     "name": "stdout",
     "output_type": "stream",
     "text": [
      "1\n",
      "2\n",
      "3\n",
      "4\n",
      "5\n"
     ]
    }
   ],
   "source": [
    "i = 1\n",
    "while i < 6:\n",
    "    print(i)\n",
    "    i = i + 1"
   ]
  },
  {
   "cell_type": "code",
   "execution_count": 3,
   "id": "e4c176dd-0a61-441a-8534-d5c8c293cf67",
   "metadata": {},
   "outputs": [
    {
     "name": "stdin",
     "output_type": "stream",
     "text": [
      "Enter a number (0 to stop): 300\n",
      "Enter a number (0 to stop): 100\n"
     ]
    },
    {
     "name": "stdout",
     "output_type": "stream",
     "text": [
      "total: 300\n"
     ]
    },
    {
     "name": "stdin",
     "output_type": "stream",
     "text": [
      "Enter a number (0 to stop): 450\n"
     ]
    },
    {
     "name": "stdout",
     "output_type": "stream",
     "text": [
      "total: 400\n"
     ]
    },
    {
     "name": "stdin",
     "output_type": "stream",
     "text": [
      "Enter a number (0 to stop): 0\n"
     ]
    },
    {
     "name": "stdout",
     "output_type": "stream",
     "text": [
      "total: 850\n"
     ]
    }
   ],
   "source": [
    "# sum of numbers until user enters 0\n",
    "\n",
    "total = 0\n",
    "num = int(input(\"Enter a number (0 to stop):\"))\n",
    "while num != 0:\n",
    "    total += num\n",
    "    num = int(input(\"Enter a number (0 to stop):\"))\n",
    "    print(\"total:\", total)"
   ]
  },
  {
   "cell_type": "code",
   "execution_count": 7,
   "id": "d5bd125c-4392-4e6c-bf35-f37f083a211e",
   "metadata": {},
   "outputs": [
    {
     "name": "stdout",
     "output_type": "stream",
     "text": [
      "5\n",
      "4\n",
      "3\n",
      "2\n",
      "1\n",
      "Blast off!\n"
     ]
    }
   ],
   "source": [
    "# countdown from 5/ Timer\n",
    "count = 5\n",
    "while count > 0:\n",
    "    print(count)\n",
    "    count -= 1\n",
    "print(\"Blast off!\")"
   ]
  },
  {
   "cell_type": "code",
   "execution_count": 9,
   "id": "6182338c-ba00-4fa4-a52f-809c6cdb70e6",
   "metadata": {},
   "outputs": [
    {
     "name": "stdout",
     "output_type": "stream",
     "text": [
      "i=1, j=1\n",
      "i=1, j=2\n",
      "i=1, j=3\n",
      "i=2, j=1\n",
      "i=2, j=2\n",
      "i=2, j=3\n",
      "i=3, j=1\n",
      "i=3, j=2\n",
      "i=3, j=3\n"
     ]
    }
   ],
   "source": [
    "# nested while loop --- inside loop\n",
    "\n",
    "i = 1\n",
    "while i <= 3:\n",
    "    j = 1 \n",
    "    while j <= 3:\n",
    "        print(f\"i={i}, j={j}\")\n",
    "        j += 1\n",
    "    i +=1\n"
   ]
  },
  {
   "cell_type": "code",
   "execution_count": null,
   "id": "f4bb86b5-1959-43c1-9498-eeae2e531e5c",
   "metadata": {},
   "outputs": [],
   "source": [
    "# loop control statements\n",
    "# break\n",
    "# continue\n",
    "# pass\n"
   ]
  },
  {
   "cell_type": "code",
   "execution_count": 11,
   "id": "c09717a5-f2f7-4ce6-95ae-40ce6dde4f70",
   "metadata": {},
   "outputs": [
    {
     "name": "stdout",
     "output_type": "stream",
     "text": [
      "1\n",
      "2\n",
      "3\n",
      "4\n"
     ]
    }
   ],
   "source": [
    "# use of break with the while loop\n",
    "\n",
    "i = 1\n",
    "while i <= 10:\n",
    "    if i == 5:\n",
    "        break\n",
    "    print(i)\n",
    "    i += 1"
   ]
  },
  {
   "cell_type": "code",
   "execution_count": 1,
   "id": "dc4c597f-b13c-4b1f-8d62-65102ba1a2a0",
   "metadata": {},
   "outputs": [
    {
     "name": "stdout",
     "output_type": "stream",
     "text": [
      "1\n",
      "2\n",
      "4\n",
      "5\n"
     ]
    }
   ],
   "source": [
    "# use of continue(escape) with the while loop\n",
    "\n",
    "i = 0\n",
    "while i < 5:\n",
    "    i += 1\n",
    "    if i == 3:\n",
    "        continue\n",
    "    print(i)\n",
    "    "
   ]
  },
  {
   "cell_type": "code",
   "execution_count": 14,
   "id": "539b6deb-3285-4e84-80fa-3d9535351979",
   "metadata": {},
   "outputs": [
    {
     "name": "stdout",
     "output_type": "stream",
     "text": [
      "0\n",
      "1\n",
      "2\n"
     ]
    }
   ],
   "source": [
    "# use of pass(hold) with the while loop\n",
    "i = 0\n",
    "while i < 3:\n",
    "    if i == 1:\n",
    "        pass\n",
    "    print(i)\n",
    "    i += 1"
   ]
  },
  {
   "cell_type": "code",
   "execution_count": 24,
   "id": "b949edb3-e555-4aac-a207-421e345329f3",
   "metadata": {},
   "outputs": [
    {
     "name": "stdout",
     "output_type": "stream",
     "text": [
      "1\n",
      "2\n",
      "3\n",
      "4\n"
     ]
    }
   ],
   "source": [
    "# use of break with the for loop\n",
    "for i in range(1,10):\n",
    "    if i == 5:\n",
    "        break\n",
    "    print(i)"
   ]
  },
  {
   "cell_type": "code",
   "execution_count": 26,
   "id": "223ba25b-f0fa-4b48-8376-737048bcf8ff",
   "metadata": {},
   "outputs": [
    {
     "name": "stdout",
     "output_type": "stream",
     "text": [
      "0\n",
      "1\n",
      "2\n"
     ]
    }
   ],
   "source": [
    "# use of continue with the for loop\n",
    "for i in range(3):\n",
    "    if i == 3:\n",
    "        continue\n",
    "    print(i)"
   ]
  },
  {
   "cell_type": "code",
   "execution_count": 28,
   "id": "04dda1d8-9310-42f3-84ce-c1fc55e2d984",
   "metadata": {},
   "outputs": [
    {
     "name": "stdout",
     "output_type": "stream",
     "text": [
      "0\n",
      "1\n",
      "2\n"
     ]
    }
   ],
   "source": [
    "# use of pass with the for loop\n",
    "for i in range(3):\n",
    "    if i == 1:\n",
    "        pass\n",
    "    print(i)"
   ]
  },
  {
   "cell_type": "code",
   "execution_count": 34,
   "id": "a85f1110-3fe8-46aa-9733-378936358422",
   "metadata": {},
   "outputs": [
    {
     "name": "stdout",
     "output_type": "stream",
     "text": [
      "* \n",
      "* * \n",
      "* * * \n",
      "* * * * \n",
      "* * * * * \n"
     ]
    }
   ],
   "source": [
    "# pattern printing\n",
    "\n",
    "rows = 5\n",
    "for i in range(rows):\n",
    "    for j in range(i + 1):\n",
    "        print(\"*\", end=\" \")    # end = \" \" ----- not to move to the next line, and instead keep printing on same line.\n",
    "    print()                    # moves the cursor to the next line after each row is printed.\n",
    "    "
   ]
  },
  {
   "cell_type": "code",
   "execution_count": 36,
   "id": "5104a76f-f6b3-4475-9ce4-149c00e16bbd",
   "metadata": {},
   "outputs": [
    {
     "name": "stdout",
     "output_type": "stream",
     "text": [
      "* * * * * \n",
      "* * * * \n",
      "* * * \n",
      "* * \n",
      "* \n"
     ]
    }
   ],
   "source": [
    "rows = 5\n",
    "for i in range(rows, 0, -1):\n",
    "    for j in range(i):\n",
    "        print(\"*\", end=\" \")    # end = \" \" ----- not to move to the next line, and instead keep printing on same line.\n",
    "    print()                    # moves the cursor to the next line after each row is printed."
   ]
  },
  {
   "cell_type": "code",
   "execution_count": 50,
   "id": "a52a8e77-84cf-4f5b-bba8-dd4582cdafd4",
   "metadata": {},
   "outputs": [
    {
     "name": "stdout",
     "output_type": "stream",
     "text": [
      "        * \n",
      "      * * * \n",
      "    * * * * * \n",
      "  * * * * * * * \n",
      "* * * * * * * * * \n"
     ]
    }
   ],
   "source": [
    "rows = 5\n",
    "for i in range(rows):\n",
    "    # print spaces before the star\n",
    "    for j in range(rows-i-1):\n",
    "        print(\" \", end = \" \" )\n",
    "        # print the stars\n",
    "    for j in range(2*i + 1):\n",
    "        print(\"*\", end = \" \")   # end =\"\" ---- not to move the next line, and instead keep printing on the same line\n",
    "    print()"
   ]
  },
  {
   "cell_type": "code",
   "execution_count": 3,
   "id": "a11bd07a-1f79-45db-bdf6-d53c715bc42f",
   "metadata": {},
   "outputs": [
    {
     "name": "stdout",
     "output_type": "stream",
     "text": [
      "        * \n",
      "      * * * \n",
      "    * * * * * \n",
      "  * * * * * * * \n",
      "* * * * * * * * * \n",
      "* * * * * * * * * \n",
      "  * * * * * * * \n",
      "    * * * * * \n",
      "      * * * \n",
      "        * \n"
     ]
    }
   ],
   "source": [
    "rows = 5\n",
    "# Upper half\n",
    "for i in range(rows):\n",
    "    # print spaces before stars\n",
    "    for j in range(rows - i - 1):\n",
    "        print(\" \", end = \" \")      # changed\n",
    "# print stars\n",
    "    for j in range(2 * i + 1):\n",
    "        print(\"*\", end = \" \")\n",
    "    print()\n",
    "\n",
    "# Lower half\n",
    "for i in range(rows -1, -1, -1):\n",
    "    # print spaces before stars\n",
    "    for j in range(rows - i - 1):\n",
    "        print(\" \", end = \" \")    # changed\n",
    "# print stars\n",
    "    for j in range(2 * i + 1):\n",
    "        print(\"*\", end = \" \")\n",
    "    print()"
   ]
  },
  {
   "cell_type": "code",
   "execution_count": null,
   "id": "6a38d653-d5ad-486e-aaa9-3e9b0ee67cc1",
   "metadata": {},
   "outputs": [],
   "source": [
    "# Algorithm:\n",
    "# Step 1: Define the number of rows (height of the diamond’s upper half)\n",
    "# rows = 5\n",
    "\n",
    "# Step 2: Create the upper half of the diamond (including the middle row)\n",
    "# for i in range(rows):\n",
    "# This loop runs from i = 0 to i = 4 (5 rows).\n",
    "\n",
    "# a. Print spaces before stars (to center the pattern)\n",
    "# for j in range(rows - i - 1):\n",
    "#     print(\" \", end = \" \")\n",
    "# The number of spaces decreases as i increases.\n",
    "\n",
    "# It creates a triangle shape by shifting stars right.\n",
    "\n",
    "\n",
    "# i \tSpaces\t Formula\n",
    "# 0 \t4\t   5 - 0 - 1 = 4\n",
    "# 1\t    3\t   5 - 1 - 1 = 3\n",
    "# 2\t    2\t   5 - 2 - 1 = 2\n",
    "# 3\t    1\t   5 - 3 - 1 = 1\n",
    "# 4 \t0\t   5 - 4 - 1 = 0\n",
    "\n",
    "# b. Print stars\n",
    "# for j in range(2 * i + 1):\n",
    "#     print(\"*\", end = \" \")\n",
    "# Stars increase in odd numbers to make the pyramid symmetric.\n",
    "\n",
    "# i\t  Stars\t  Formula\n",
    "# 0\t   1\t2*0 + 1 = 1\n",
    "# 1\t   3\t2*1 + 1 = 3\n",
    "# 2    5\t2*2 + 1 = 5\n",
    "# 3    7\t2*3 + 1 = 7\n",
    "# 4    9\t2*4 + 1 = 9\n",
    "\n",
    "# Step 3: Create the lower half of the diamond\n",
    "# for i in range(rows -1, -1, -1):\n",
    "# This loop runs in reverse from i = 4 to i = 0.\n",
    "\n",
    "# It mirrors the upper triangle by using the same logic, just in reverse.\n",
    "\n",
    "# a. Print spaces\n",
    "# for j in range(rows - i - 1):\n",
    "#     print(\" \", end = \" \")\n",
    "\n",
    "# i\t  Spaces\tFormula\n",
    "# 4\t   0\t5 - 4 - 1 = 0\n",
    "# 3\t   1\t5 - 3 - 1 = 1\n",
    "# 2\t   2\t5 - 2 - 1 = 2\n",
    "# 1\t   3\t5 - 1 - 1 = 3\n",
    "# 0\t   4\t5 - 0 - 1 = 4\n",
    "\n",
    "# b. Print stars\n",
    "# for j in range(2 * i + 1):\n",
    "#     print(\"*\", end = \" \")\n",
    "\n",
    "# i\t  Stars \tFormula\n",
    "# 4\t   9\t  2*4 + 1 = 9\n",
    "# 3\t   7\t  2*3 + 1 = 7\n",
    "# 2    5\t  2*2 + 1 = 5\n",
    "# 1\t   3\t  2*1 + 1 = 3\n",
    "# 0\t   1\t  2*0 + 1 = 1\n",
    "\n",
    "# ✅ Summary of Logic:\n",
    "# The diamond is made using 2 pyramids:\n",
    "\n",
    "# Upper half increases in stars and decreases in spaces.\n",
    "\n",
    "# Lower half does the reverse.\n",
    "\n",
    "# Spacing and star count are controlled by i (the loop counter).\n"
   ]
  }
 ],
 "metadata": {
  "kernelspec": {
   "display_name": "Python [conda env:base] *",
   "language": "python",
   "name": "conda-base-py"
  },
  "language_info": {
   "codemirror_mode": {
    "name": "ipython",
    "version": 3
   },
   "file_extension": ".py",
   "mimetype": "text/x-python",
   "name": "python",
   "nbconvert_exporter": "python",
   "pygments_lexer": "ipython3",
   "version": "3.12.7"
  }
 },
 "nbformat": 4,
 "nbformat_minor": 5
}
